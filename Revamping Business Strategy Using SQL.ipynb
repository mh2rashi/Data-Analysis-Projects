{
 "cells": [
  {
   "cell_type": "markdown",
   "metadata": {},
   "source": [
    "# Revamping Business Strategy Using SQL \n",
    "\n",
    "![SQL_python_image](https://i.morioh.com/201113/ea15f0ad.webp)\n",
    "\n",
    "This project analyzes a modified version of the Chinook database (a fictional iTunes database) to answer questions to improve business strategy. The database contains information regarding artists, songs and albums for both customers and employees. It is a combination of real data from an iTunes library and manually generated data.\n",
    "\n",
    "\n",
    "**Goal**: To improve business strategy by extracting business insights via complex SQLite queries. Specifically, we want to inquire about:\n",
    "\n",
    "* Most Popular Genres in the USA\n",
    "* Performance Metrics for Employees\n",
    "* Sales Data of Customers from Different Countries\n",
    "* Albums vs. Individual Tracks\n",
    "* Most Popular Artists and Genres According to Playlists\n",
    "* Purchased vs. Not Purchased Tracks\n",
    "* Protected vs. Non-Protected Media Types\n",
    "\n",
    "## Summary of Results\n",
    "\n",
    "We concluded that:\n",
    "\n",
    "* Based on the sales of different track genres in the USA, Chinook should prioritize advertising the albums of **Red Tone** (Punk), **Slim Jim Bites** (Blues) and **Meteor and the Girls** (Pop)\n",
    "\n",
    "* **Jane Peacock** demonstrates the best sales performance, while **Steve Johnson** the worst according to Total Dollar Amount in Sales value\n",
    "\n",
    "* The top performing country is the **USA**, in terms of both total sales and number of customers. Countries with a smaller customer base **(Czech Republic, United Kingdom, Portugal and India)** show potential for growth as their sales to customer ratio is greater than 1\n",
    "\n",
    "* Since there are 4 times more single track purchases comapared to album purchases, Chinook should implement their new **strategy of purchasing popular tracks from albums instead of entire albums from record companies**\n",
    "\n",
    "* Most popular artist according to playlists is [Eugene Ormandy](https://en.wikipedia.org/wiki/Eugene_Ormandy), with 7 playlist mentions belonging to the **Classical** genre. **However, most artists have around 2 to 5 playlist mentions**. We see that Rock is the most popular genre for artists that are mentioned less than 3 times in a list, and Classical is the most popular genre for artists mentioned more than 3 times in a list\n",
    "\n",
    "* Almost **half** of the tracks within the Chinook store have never been bought. Chinook should look to purchase artists from popular genres and put more effort into advertising existing tracks from unpopular genres\n",
    "\n",
    "* **Protected** tracks are much less popular than **Not Protected** tracks, especially in terms of sales\n",
    "\n",
    "For more details, please refer to the the full analysis below.\n",
    "\n",
    "## Concepts Used\n",
    "\n",
    "* Jupyter Notebook\n",
    "* SQL Queries\n",
    "* Joins (Inner, Left, Right, Outer, Recursive Joins)\n",
    "* Joining Rows (Union, Intersect, Except)\n",
    "* Filtering, Sorting, Grouping, Rounding\n",
    "* Arithmetic Operations, Aggregate Functions, If/Then logical statements, Column Creation\n",
    "* Subqueries"
   ]
  },
  {
   "cell_type": "markdown",
   "metadata": {},
   "source": [
    "# Data Overview\n",
    "\n",
    "This dataset is provided by the [sqlite tutorial website](https://www.sqlitetutorial.net/sqlite-sample-database/) to practice SQLite. You can download the data file from [here](https://cdn.sqlitetutorial.net/wp-content/uploads/2018/03/chinook.zip)."
   ]
  },
  {
   "cell_type": "markdown",
   "metadata": {
    "collapsed": true
   },
   "source": [
    "Lets start by connecting Jupyter Notebook to the database file."
   ]
  },
  {
   "cell_type": "code",
   "execution_count": 1,
   "metadata": {
    "collapsed": false
   },
   "outputs": [
    {
     "data": {
      "text/plain": [
       "'Connected: None@chinook.db'"
      ]
     },
     "execution_count": 1,
     "metadata": {},
     "output_type": "execute_result"
    }
   ],
   "source": [
    "%%capture\n",
    "%load_ext sql\n",
    "%sql sqlite:///chinook.db"
   ]
  },
  {
   "cell_type": "markdown",
   "metadata": {
    "collapsed": true
   },
   "source": [
    "# Data Exploration\n",
    "\n",
    "Let's load the dataset and look at the tables. We will also load a single table and explore some of its rows."
   ]
  },
  {
   "cell_type": "code",
   "execution_count": 2,
   "metadata": {
    "collapsed": false
   },
   "outputs": [
    {
     "name": "stdout",
     "output_type": "stream",
     "text": [
      "Done.\n"
     ]
    },
    {
     "data": {
      "text/html": [
       "<table>\n",
       "    <tr>\n",
       "        <th>name</th>\n",
       "        <th>type</th>\n",
       "    </tr>\n",
       "    <tr>\n",
       "        <td>album</td>\n",
       "        <td>table</td>\n",
       "    </tr>\n",
       "    <tr>\n",
       "        <td>artist</td>\n",
       "        <td>table</td>\n",
       "    </tr>\n",
       "    <tr>\n",
       "        <td>customer</td>\n",
       "        <td>table</td>\n",
       "    </tr>\n",
       "    <tr>\n",
       "        <td>employee</td>\n",
       "        <td>table</td>\n",
       "    </tr>\n",
       "    <tr>\n",
       "        <td>genre</td>\n",
       "        <td>table</td>\n",
       "    </tr>\n",
       "    <tr>\n",
       "        <td>invoice</td>\n",
       "        <td>table</td>\n",
       "    </tr>\n",
       "    <tr>\n",
       "        <td>invoice_line</td>\n",
       "        <td>table</td>\n",
       "    </tr>\n",
       "    <tr>\n",
       "        <td>media_type</td>\n",
       "        <td>table</td>\n",
       "    </tr>\n",
       "    <tr>\n",
       "        <td>playlist</td>\n",
       "        <td>table</td>\n",
       "    </tr>\n",
       "    <tr>\n",
       "        <td>playlist_track</td>\n",
       "        <td>table</td>\n",
       "    </tr>\n",
       "    <tr>\n",
       "        <td>track</td>\n",
       "        <td>table</td>\n",
       "    </tr>\n",
       "</table>"
      ],
      "text/plain": [
       "[('album', 'table'),\n",
       " ('artist', 'table'),\n",
       " ('customer', 'table'),\n",
       " ('employee', 'table'),\n",
       " ('genre', 'table'),\n",
       " ('invoice', 'table'),\n",
       " ('invoice_line', 'table'),\n",
       " ('media_type', 'table'),\n",
       " ('playlist', 'table'),\n",
       " ('playlist_track', 'table'),\n",
       " ('track', 'table')]"
      ]
     },
     "execution_count": 2,
     "metadata": {},
     "output_type": "execute_result"
    }
   ],
   "source": [
    "%%sql\n",
    "SELECT\n",
    "    name,\n",
    "    type\n",
    "FROM sqlite_master\n",
    "WHERE type IN (\"table\",\"view\");"
   ]
  },
  {
   "cell_type": "code",
   "execution_count": 3,
   "metadata": {
    "collapsed": false
   },
   "outputs": [
    {
     "name": "stdout",
     "output_type": "stream",
     "text": [
      "Done.\n"
     ]
    },
    {
     "data": {
      "text/html": [
       "<table>\n",
       "    <tr>\n",
       "        <th>employee_id</th>\n",
       "        <th>last_name</th>\n",
       "        <th>first_name</th>\n",
       "        <th>title</th>\n",
       "        <th>reports_to</th>\n",
       "        <th>birthdate</th>\n",
       "        <th>hire_date</th>\n",
       "        <th>address</th>\n",
       "        <th>city</th>\n",
       "        <th>state</th>\n",
       "        <th>country</th>\n",
       "        <th>postal_code</th>\n",
       "        <th>phone</th>\n",
       "        <th>fax</th>\n",
       "        <th>email</th>\n",
       "    </tr>\n",
       "    <tr>\n",
       "        <td>1</td>\n",
       "        <td>Adams</td>\n",
       "        <td>Andrew</td>\n",
       "        <td>General Manager</td>\n",
       "        <td>None</td>\n",
       "        <td>1962-02-18 00:00:00</td>\n",
       "        <td>2016-08-14 00:00:00</td>\n",
       "        <td>11120 Jasper Ave NW</td>\n",
       "        <td>Edmonton</td>\n",
       "        <td>AB</td>\n",
       "        <td>Canada</td>\n",
       "        <td>T5K 2N1</td>\n",
       "        <td>+1 (780) 428-9482</td>\n",
       "        <td>+1 (780) 428-3457</td>\n",
       "        <td>andrew@chinookcorp.com</td>\n",
       "    </tr>\n",
       "    <tr>\n",
       "        <td>2</td>\n",
       "        <td>Edwards</td>\n",
       "        <td>Nancy</td>\n",
       "        <td>Sales Manager</td>\n",
       "        <td>1</td>\n",
       "        <td>1958-12-08 00:00:00</td>\n",
       "        <td>2016-05-01 00:00:00</td>\n",
       "        <td>825 8 Ave SW</td>\n",
       "        <td>Calgary</td>\n",
       "        <td>AB</td>\n",
       "        <td>Canada</td>\n",
       "        <td>T2P 2T3</td>\n",
       "        <td>+1 (403) 262-3443</td>\n",
       "        <td>+1 (403) 262-3322</td>\n",
       "        <td>nancy@chinookcorp.com</td>\n",
       "    </tr>\n",
       "    <tr>\n",
       "        <td>3</td>\n",
       "        <td>Peacock</td>\n",
       "        <td>Jane</td>\n",
       "        <td>Sales Support Agent</td>\n",
       "        <td>2</td>\n",
       "        <td>1973-08-29 00:00:00</td>\n",
       "        <td>2017-04-01 00:00:00</td>\n",
       "        <td>1111 6 Ave SW</td>\n",
       "        <td>Calgary</td>\n",
       "        <td>AB</td>\n",
       "        <td>Canada</td>\n",
       "        <td>T2P 5M5</td>\n",
       "        <td>+1 (403) 262-3443</td>\n",
       "        <td>+1 (403) 262-6712</td>\n",
       "        <td>jane@chinookcorp.com</td>\n",
       "    </tr>\n",
       "    <tr>\n",
       "        <td>4</td>\n",
       "        <td>Park</td>\n",
       "        <td>Margaret</td>\n",
       "        <td>Sales Support Agent</td>\n",
       "        <td>2</td>\n",
       "        <td>1947-09-19 00:00:00</td>\n",
       "        <td>2017-05-03 00:00:00</td>\n",
       "        <td>683 10 Street SW</td>\n",
       "        <td>Calgary</td>\n",
       "        <td>AB</td>\n",
       "        <td>Canada</td>\n",
       "        <td>T2P 5G3</td>\n",
       "        <td>+1 (403) 263-4423</td>\n",
       "        <td>+1 (403) 263-4289</td>\n",
       "        <td>margaret@chinookcorp.com</td>\n",
       "    </tr>\n",
       "    <tr>\n",
       "        <td>5</td>\n",
       "        <td>Johnson</td>\n",
       "        <td>Steve</td>\n",
       "        <td>Sales Support Agent</td>\n",
       "        <td>2</td>\n",
       "        <td>1965-03-03 00:00:00</td>\n",
       "        <td>2017-10-17 00:00:00</td>\n",
       "        <td>7727B 41 Ave</td>\n",
       "        <td>Calgary</td>\n",
       "        <td>AB</td>\n",
       "        <td>Canada</td>\n",
       "        <td>T3B 1Y7</td>\n",
       "        <td>1 (780) 836-9987</td>\n",
       "        <td>1 (780) 836-9543</td>\n",
       "        <td>steve@chinookcorp.com</td>\n",
       "    </tr>\n",
       "</table>"
      ],
      "text/plain": [
       "[(1, 'Adams', 'Andrew', 'General Manager', None, '1962-02-18 00:00:00', '2016-08-14 00:00:00', '11120 Jasper Ave NW', 'Edmonton', 'AB', 'Canada', 'T5K 2N1', '+1 (780) 428-9482', '+1 (780) 428-3457', 'andrew@chinookcorp.com'),\n",
       " (2, 'Edwards', 'Nancy', 'Sales Manager', 1, '1958-12-08 00:00:00', '2016-05-01 00:00:00', '825 8 Ave SW', 'Calgary', 'AB', 'Canada', 'T2P 2T3', '+1 (403) 262-3443', '+1 (403) 262-3322', 'nancy@chinookcorp.com'),\n",
       " (3, 'Peacock', 'Jane', 'Sales Support Agent', 2, '1973-08-29 00:00:00', '2017-04-01 00:00:00', '1111 6 Ave SW', 'Calgary', 'AB', 'Canada', 'T2P 5M5', '+1 (403) 262-3443', '+1 (403) 262-6712', 'jane@chinookcorp.com'),\n",
       " (4, 'Park', 'Margaret', 'Sales Support Agent', 2, '1947-09-19 00:00:00', '2017-05-03 00:00:00', '683 10 Street SW', 'Calgary', 'AB', 'Canada', 'T2P 5G3', '+1 (403) 263-4423', '+1 (403) 263-4289', 'margaret@chinookcorp.com'),\n",
       " (5, 'Johnson', 'Steve', 'Sales Support Agent', 2, '1965-03-03 00:00:00', '2017-10-17 00:00:00', '7727B 41 Ave', 'Calgary', 'AB', 'Canada', 'T3B 1Y7', '1 (780) 836-9987', '1 (780) 836-9543', 'steve@chinookcorp.com')]"
      ]
     },
     "execution_count": 3,
     "metadata": {},
     "output_type": "execute_result"
    }
   ],
   "source": [
    "%%sql\n",
    "SELECT *\n",
    "FROM employee\n",
    "LIMIT 5;"
   ]
  },
  {
   "cell_type": "markdown",
   "metadata": {},
   "source": [
    "For the chinook dataset, we have data with 11 tables describing customers' musical records.\n",
    "\n",
    "* **employee**: table stores employee data such as employee id, last name, first name, etc. It also has a field named ReportsTo to specify who reports to whom.\n",
    "\n",
    "* **customer**: table stores customer data.\n",
    "\n",
    "* **invoices & invoice_line**: these two tables store invoice data. The invoice table stores invoice header data and the invoice_line table stores the invoice line items data.\n",
    "\n",
    "* **artist**: table stores artist data. It is a simple table that contains only the artist id and name.\n",
    "\n",
    "* **album**: table stores data about a list of tracks. Each album belongs to one artist. However, one artist may have multiple albums.\n",
    "\n",
    "* **media_type**: table stores media types such as MPEG audio and AAC audio files.\n",
    "\n",
    "* **genre**: table stores music types such as rock, jazz, metal, etc.\n",
    "\n",
    "* **track**: table stores data about songs. Each track belongs to one album.\n",
    "\n",
    "* **playlist & playlist_track**: playlist stores data about playlists. Each playlist contains a list of tracks and each track may belong to multiple playlists. The relationship between the playlist table and playlist_track table is many-to-many. The playlist_track table is used to reflect this relationship\n",
    "\n",
    "Here's a schema for the database\n",
    "\n",
    "![Chinook Schema](https://s3.amazonaws.com/dq-content/191/chinook-schema.svg)"
   ]
  },
  {
   "cell_type": "markdown",
   "metadata": {
    "collapsed": true
   },
   "source": [
    "# Most Popular Genres in the USA\n",
    "\n",
    "**Scenario**: A new record label wants to add 3 albums to the store. The label currently has four albums by artists that don't have any tracks in the store. The genre and artist names to be potentially added are:\n",
    "\n",
    "|Artist Name|Genre|\n",
    "|---|----------|\n",
    "| Regal |    Hip-Hop   |\n",
    "|Red Tone| Punk |\n",
    "|Meteor and the Girls|Pop|\n",
    "|Slim Jim Bites| Blues| \n",
    "\n",
    "The record label specializes in artists from the USA and wants Chinook to advertise the new albums in the USA. Thus, we're interested in finding genres that will be most popular in the USA according to tracks sold.\n",
    "\n",
    "\n",
    "**Solution**: We will be writing a query that will return the top 10 genres in the USA, with the number of tracks sold - in absolute numbers and percentages.\n",
    "\n",
    "We will use the following tables:\n",
    "\n",
    "* `genre`\n",
    "* `track`\n",
    "* `invoice_line`\n",
    "* `invoice`\n",
    "\n",
    "We will write a paragraph that interprets the data and make a recommendation for three artists whose albums should be purchased for the store, based on sales of tracks from their genres. We'll also display the output of our query graphically, using Python's pandas and matplotlib libraries."
   ]
  },
  {
   "cell_type": "code",
   "execution_count": 4,
   "metadata": {
    "collapsed": false
   },
   "outputs": [
    {
     "data": {
      "text/html": [
       "<div>\n",
       "<style scoped>\n",
       "    .dataframe tbody tr th:only-of-type {\n",
       "        vertical-align: middle;\n",
       "    }\n",
       "\n",
       "    .dataframe tbody tr th {\n",
       "        vertical-align: top;\n",
       "    }\n",
       "\n",
       "    .dataframe thead th {\n",
       "        text-align: right;\n",
       "    }\n",
       "</style>\n",
       "<table border=\"1\" class=\"dataframe\">\n",
       "  <thead>\n",
       "    <tr style=\"text-align: right;\">\n",
       "      <th></th>\n",
       "      <th>Genre</th>\n",
       "      <th>Tracks Sold</th>\n",
       "      <th>Percentage</th>\n",
       "    </tr>\n",
       "  </thead>\n",
       "  <tbody>\n",
       "    <tr>\n",
       "      <th>0</th>\n",
       "      <td>Rock</td>\n",
       "      <td>561</td>\n",
       "      <td>53.38</td>\n",
       "    </tr>\n",
       "    <tr>\n",
       "      <th>1</th>\n",
       "      <td>Alternative &amp; Punk</td>\n",
       "      <td>130</td>\n",
       "      <td>12.37</td>\n",
       "    </tr>\n",
       "    <tr>\n",
       "      <th>2</th>\n",
       "      <td>Metal</td>\n",
       "      <td>124</td>\n",
       "      <td>11.80</td>\n",
       "    </tr>\n",
       "    <tr>\n",
       "      <th>3</th>\n",
       "      <td>R&amp;B/Soul</td>\n",
       "      <td>53</td>\n",
       "      <td>5.04</td>\n",
       "    </tr>\n",
       "    <tr>\n",
       "      <th>4</th>\n",
       "      <td>Blues</td>\n",
       "      <td>36</td>\n",
       "      <td>3.43</td>\n",
       "    </tr>\n",
       "    <tr>\n",
       "      <th>5</th>\n",
       "      <td>Alternative</td>\n",
       "      <td>35</td>\n",
       "      <td>3.33</td>\n",
       "    </tr>\n",
       "    <tr>\n",
       "      <th>6</th>\n",
       "      <td>Pop</td>\n",
       "      <td>22</td>\n",
       "      <td>2.09</td>\n",
       "    </tr>\n",
       "    <tr>\n",
       "      <th>7</th>\n",
       "      <td>Hip Hop/Rap</td>\n",
       "      <td>20</td>\n",
       "      <td>1.90</td>\n",
       "    </tr>\n",
       "    <tr>\n",
       "      <th>8</th>\n",
       "      <td>Jazz</td>\n",
       "      <td>14</td>\n",
       "      <td>1.33</td>\n",
       "    </tr>\n",
       "    <tr>\n",
       "      <th>9</th>\n",
       "      <td>Easy Listening</td>\n",
       "      <td>13</td>\n",
       "      <td>1.24</td>\n",
       "    </tr>\n",
       "  </tbody>\n",
       "</table>\n",
       "</div>"
      ],
      "text/plain": [
       "                Genre  Tracks Sold  Percentage\n",
       "0                Rock          561       53.38\n",
       "1  Alternative & Punk          130       12.37\n",
       "2               Metal          124       11.80\n",
       "3            R&B/Soul           53        5.04\n",
       "4               Blues           36        3.43\n",
       "5         Alternative           35        3.33\n",
       "6                 Pop           22        2.09\n",
       "7         Hip Hop/Rap           20        1.90\n",
       "8                Jazz           14        1.33\n",
       "9      Easy Listening           13        1.24"
      ]
     },
     "execution_count": 4,
     "metadata": {},
     "output_type": "execute_result"
    }
   ],
   "source": [
    "# Query to display the most popular genres in the USA according to tracks sold\n",
    "query_1 = \"\"\"\n",
    "WITH\n",
    "USA_total_tracks AS\n",
    "    (\n",
    "    SELECT \n",
    "        COUNT(inv_l.quantity) AS total_tracks\n",
    "    FROM invoice_line inv_l\n",
    "    INNER JOIN invoice inv on inv.invoice_id = inv_l.invoice_id\n",
    "    WHERE inv.billing_country = \"USA\"\n",
    "    ),\n",
    "genre_USA_tracks AS\n",
    "    (\n",
    "    SELECT\n",
    "        tg.name AS 'Genre',\n",
    "        COUNT(il.quantity) AS 'tracks_sold'\n",
    "    FROM invoice_line il\n",
    "    INNER JOIN (\n",
    "                SELECT \n",
    "                    gr.name,\n",
    "                    tr.track_id\n",
    "                FROM track tr\n",
    "                INNER JOIN genre gr ON gr.genre_id = tr.genre_id\n",
    "                ) tg\n",
    "                ON tg.track_id = il.track_id\n",
    "                INNER JOIN invoice inv ON inv.invoice_id = il.invoice_id\n",
    "    WHERE inv.billing_country is \"USA\"\n",
    "    GROUP BY 1\n",
    "    ORDER BY 2 DESC\n",
    "    )\n",
    "SELECT\n",
    "    g_US.Genre AS \"Genre\",\n",
    "    g_US.tracks_sold AS \"Tracks Sold\",\n",
    "    ROUND(100*CAST(g_US.tracks_sold AS FLOAT)/(SELECT total_tracks from USA_total_tracks),2) AS \"Percentage\"\n",
    "FROM genre_USA_tracks g_US\n",
    "GROUP BY 2\n",
    "ORDER BY 2 DESC\n",
    "LIMIT 10;\n",
    "\"\"\"\n",
    "\n",
    "# Importing libraries\n",
    "import pandas as pd\n",
    "import numpy as np\n",
    "import sqlite3\n",
    "import matplotlib as mpl\n",
    "import matplotlib.pyplot as plt\n",
    "%matplotlib inline\n",
    "\n",
    "# Reading our query and database into a DataFrame\n",
    "conn = sqlite3.connect(\"chinook.db\")\n",
    "df_1 = pd.read_sql_query(query_1, conn)  \n",
    "df_1"
   ]
  },
  {
   "cell_type": "code",
   "execution_count": 5,
   "metadata": {
    "collapsed": false
   },
   "outputs": [
    {
     "data": {
      "image/png": "[encoded data removed]",
      "text/plain": [
       "<matplotlib.figure.Figure at 0x7f3de7755160>"
      ]
     },
     "metadata": {},
     "output_type": "display_data"
    }
   ],
   "source": [
    "# Resetting Index\n",
    "df_1 = df_1.set_index(\"Genre\", drop=True)\n",
    "\n",
    "# Plotting Tracks sold by Genre\n",
    "fig, ax = plt.subplots(figsize=(10,5)) # Initializing figure\n",
    "ax = df_1['Tracks Sold'].sort_values().plot.barh(color=['lightblue','lightblue','darkblue','darkblue','lightblue','darkblue','lightblue','lightblue','darkblue','lightblue'])\n",
    "\n",
    "# Plot Aesthetics\n",
    "ax.set_title(\"Sold Tracks by Genre\", fontsize=20)\n",
    "ax.set_ylabel(\"\")\n",
    "ax.tick_params(axis=\"both\", \n",
    "               labelsize=15, \n",
    "               left = False)"
   ]
  },
  {
   "cell_type": "markdown",
   "metadata": {},
   "source": [
    "The most popular genres in the USA are **Rock**, **Alternative & Punk**, and **Metal**, followed by a big gap between all others. Based on our options and the sales of tracks for different genres in the USA, **we should advertise the following artists**:\n",
    "\n",
    "|Artist Name|Genre|\n",
    "|---|----------|\n",
    "| Red Tone |    Punk   |\n",
    "|Slim Jim Bites| Blues |\n",
    "|Meteor and the Girls|Pop|\n",
    "\n",
    " \n",
    "It's worth keeping in mind that combined, these three genres only make up 17% of total sales, so we should be on the lookout for artists and albums from the **Rock** genre, which accounts for 53% of sales."
   ]
  },
  {
   "cell_type": "markdown",
   "metadata": {},
   "source": [
    "# Performance Metrics for Employee Performance\n",
    "\n",
    "**Scenario**: Each customer in the Chinook store is assigned to a sales support agent. Chinook wants to analyze the purchases of customers belonging to each employee and see how sales support agents rank. \n",
    "\n",
    "**Solution**: We will find the birth date, hire data, country, company, total number/% of customers and total number/% of sales for each sales support agent.\n",
    "\n",
    "We will use the following tables:\n",
    "\n",
    "* `employee`\n",
    "* `customer`\n",
    "* `invoice`\n",
    "\n",
    "We will write a paragraph that interprets the data and explain any variance which is indicative of employee performance. We'll also represent the information in graphical form, using a grouped bar chart."
   ]
  },
  {
   "cell_type": "code",
   "execution_count": 6,
   "metadata": {
    "collapsed": false
   },
   "outputs": [
    {
     "data": {
      "text/html": [
       "<div>\n",
       "<style scoped>\n",
       "    .dataframe tbody tr th:only-of-type {\n",
       "        vertical-align: middle;\n",
       "    }\n",
       "\n",
       "    .dataframe tbody tr th {\n",
       "        vertical-align: top;\n",
       "    }\n",
       "\n",
       "    .dataframe thead th {\n",
       "        text-align: right;\n",
       "    }\n",
       "</style>\n",
       "<table border=\"1\" class=\"dataframe\">\n",
       "  <thead>\n",
       "    <tr style=\"text-align: right;\">\n",
       "      <th></th>\n",
       "      <th>Employee Name</th>\n",
       "      <th>Birth Date</th>\n",
       "      <th>Hire Date</th>\n",
       "      <th>Country</th>\n",
       "      <th>Company</th>\n",
       "      <th>Total Customers</th>\n",
       "      <th>Percentage of Customers</th>\n",
       "      <th>Total Dollar Amount</th>\n",
       "      <th>Percentage of Sales</th>\n",
       "    </tr>\n",
       "  </thead>\n",
       "  <tbody>\n",
       "    <tr>\n",
       "      <th>0</th>\n",
       "      <td>Jane Peacock</td>\n",
       "      <td>1973-08-29 00:00:00</td>\n",
       "      <td>2017-04-01 00:00:00</td>\n",
       "      <td>Canada</td>\n",
       "      <td>None</td>\n",
       "      <td>212</td>\n",
       "      <td>34.53</td>\n",
       "      <td>1731.51</td>\n",
       "      <td>36.77</td>\n",
       "    </tr>\n",
       "    <tr>\n",
       "      <th>1</th>\n",
       "      <td>Margaret Park</td>\n",
       "      <td>1947-09-19 00:00:00</td>\n",
       "      <td>2017-05-03 00:00:00</td>\n",
       "      <td>Canada</td>\n",
       "      <td>None</td>\n",
       "      <td>214</td>\n",
       "      <td>34.85</td>\n",
       "      <td>1584.00</td>\n",
       "      <td>33.63</td>\n",
       "    </tr>\n",
       "    <tr>\n",
       "      <th>2</th>\n",
       "      <td>Steve Johnson</td>\n",
       "      <td>1965-03-03 00:00:00</td>\n",
       "      <td>2017-10-17 00:00:00</td>\n",
       "      <td>Canada</td>\n",
       "      <td>Telus</td>\n",
       "      <td>188</td>\n",
       "      <td>30.62</td>\n",
       "      <td>1393.92</td>\n",
       "      <td>29.60</td>\n",
       "    </tr>\n",
       "  </tbody>\n",
       "</table>\n",
       "</div>"
      ],
      "text/plain": [
       "   Employee Name           Birth Date            Hire Date Country Company  \\\n",
       "0   Jane Peacock  1973-08-29 00:00:00  2017-04-01 00:00:00  Canada    None   \n",
       "1  Margaret Park  1947-09-19 00:00:00  2017-05-03 00:00:00  Canada    None   \n",
       "2  Steve Johnson  1965-03-03 00:00:00  2017-10-17 00:00:00  Canada   Telus   \n",
       "\n",
       "   Total Customers  Percentage of Customers  Total Dollar Amount  \\\n",
       "0              212                    34.53              1731.51   \n",
       "1              214                    34.85              1584.00   \n",
       "2              188                    30.62              1393.92   \n",
       "\n",
       "   Percentage of Sales  \n",
       "0                36.77  \n",
       "1                33.63  \n",
       "2                29.60  "
      ]
     },
     "execution_count": 6,
     "metadata": {},
     "output_type": "execute_result"
    }
   ],
   "source": [
    "# Query to display employee metrics\n",
    "query_2 = \"\"\"\n",
    "SELECT \n",
    "    emp.first_name || \" \" || emp.last_name AS \"Employee Name\",\n",
    "    emp.birthdate AS \"Birth Date\",\n",
    "    emp.hire_date AS \"Hire Date\",\n",
    "    emp.country AS \"Country\",\n",
    "    cst.company AS \"Company\",\n",
    "    COUNT(inv.invoice_id) AS \"Total Customers\",\n",
    "    ROUND(100*CAST(COUNT(inv.invoice_id) AS FLOAT)/CAST((SELECT COUNT(invoice_id) FROM invoice) AS FLOAT),2) AS \"Percentage of Customers\",\n",
    "    ROUND(SUM(inv.total),2) AS \"Total Dollar Amount\",\n",
    "    ROUND(100*CAST(SUM(inv.total) AS FLOAT)/CAST((SELECT SUM(invoice.total) FROM invoice) AS FLOAT),2) AS \"Percentage of Sales\"\n",
    "FROM employee emp\n",
    "INNER JOIN customer cst ON cst.support_rep_id = emp.employee_id\n",
    "INNER JOIN invoice inv ON inv.customer_id = cst.customer_id\n",
    "GROUP BY 1\n",
    "ORDER BY 8 DESC;\n",
    "\"\"\"\n",
    "# Reading our query and database into a DataFrame\n",
    "df_2 = pd.read_sql_query(query_2, conn)  \n",
    "df_2"
   ]
  },
  {
   "cell_type": "code",
   "execution_count": 7,
   "metadata": {
    "collapsed": false
   },
   "outputs": [
    {
     "data": {
      "image/png": "[encoded data removed]",
      "text/plain": [
       "<matplotlib.figure.Figure at 0x7f3de76bb358>"
      ]
     },
     "metadata": {},
     "output_type": "display_data"
    }
   ],
   "source": [
    "# Resetting Index\n",
    "df_2 = df_2.set_index(\"Employee Name\", drop=True)\n",
    "\n",
    "# Function for creating grouped bar charts\n",
    "def grouped_bar_chart(df,fig_width,fig_height,bar_width,col1,col2,\n",
    "                   label1,label2,title,ylabel,\n",
    "                   ylim_lower,ylim_upper,loc,rotation,\n",
    "                   bbox_to_anchor):\n",
    "    \n",
    "    # Converting Series to list\n",
    "    col1_list = col1.tolist()\n",
    "    col2_list = col2.tolist()\n",
    "    \n",
    "    # Creating Labels from the index\n",
    "    labels = df.index.tolist()\n",
    "    \n",
    "    # Label Locations\n",
    "    x = np.arange(len(labels))\n",
    "    \n",
    "    # Plotting data\n",
    "    fig, ax = plt.subplots(figsize=(fig_width,fig_height))\n",
    "    ax.bar(x - bar_width/2, col1_list, bar_width, label=label1,color='lightblue')\n",
    "    ax.bar(x + bar_width/2, col2_list, bar_width, label=label2,color='darkblue')\n",
    "    \n",
    "    # Plot aesthetics\n",
    "    ax.set_title(title, fontsize=30)\n",
    "    ax.set_ylabel(ylabel, fontsize=20)\n",
    "    ax.set_ylim(ylim_lower, ylim_upper)\n",
    "    ax.set_xticks(x + bar_width/2)\n",
    "    ax.set_xticklabels(labels,fontsize=17,rotation=rotation)\n",
    "    ax.tick_params(bottom = False,labelsize=17)\n",
    "    ax.spines[\"top\"].set_visible(False)\n",
    "    ax.spines[\"right\"].set_visible(False)\n",
    "    ax.spines[\"bottom\"].set_visible(False)\n",
    "    ax.legend(loc=loc,bbox_to_anchor=bbox_to_anchor,fontsize=16,frameon=False)\n",
    "    \n",
    "# Creating a bar chart for employee metrics\n",
    "grouped_bar_chart(df_2,10,10,0.35,df_2[\"Percentage of Customers\"],df_2[\"Percentage of Sales\"],\n",
    "                  \"Customers\",\"Sales\",\"Employee Sales Performance\",\"%\",20,40,0,0,None)"
   ]
  },
  {
   "cell_type": "markdown",
   "metadata": {},
   "source": [
    "In total we have 3 sales support agents, all from Canada with incomplete company information. Here are some unique observations:\n",
    "\n",
    "* Although Margaret Park (2nd employee) was hired later, she has more customers than Jane Peacock (1st employee) who was hired earlier.\n",
    "* Having more customers doesn't necessarily translate with more Sales.\n",
    "* There is roughly a 20% difference in Total Amount of Sales between the top and bottom employee.\n",
    "\n",
    "Jane Peacock demonstrates the best sales performance, while Steve Johnson the worst, based on Total Dollar Amount in Sales value."
   ]
  },
  {
   "cell_type": "markdown",
   "metadata": {},
   "source": [
    "# Sales Data of Customers from Different Countries\n",
    "\n",
    "**Scenario**: Chinook wants to know metrics for countries to understand how they compare.\n",
    "\n",
    "**Solution**: We will collate data on total number/% of customers, total value/% of sales, average order value, and average value of sales per customer for every country.\n",
    "\n",
    "Since there are countries in our databse with only one customer, we'll group those countries into the \"Other\" category.The results will be sorted by the total value of sales column in descending order, with the \"Other\" group at the bottom of the table.\n",
    "\n",
    "We will use the following tables:\n",
    "\n",
    "* `customer`\n",
    "* `invoice`\n",
    "* `country`\n",
    "\n",
    "We will write a paragraph that interprets the data and explain any variance which is indicative of country performance. We'll also represent the information in graphical form, using a grouped bar chart."
   ]
  },
  {
   "cell_type": "code",
   "execution_count": 8,
   "metadata": {
    "collapsed": false
   },
   "outputs": [
    {
     "data": {
      "text/html": [
       "<div>\n",
       "<style scoped>\n",
       "    .dataframe tbody tr th:only-of-type {\n",
       "        vertical-align: middle;\n",
       "    }\n",
       "\n",
       "    .dataframe tbody tr th {\n",
       "        vertical-align: top;\n",
       "    }\n",
       "\n",
       "    .dataframe thead th {\n",
       "        text-align: right;\n",
       "    }\n",
       "</style>\n",
       "<table border=\"1\" class=\"dataframe\">\n",
       "  <thead>\n",
       "    <tr style=\"text-align: right;\">\n",
       "      <th></th>\n",
       "      <th>Country</th>\n",
       "      <th>Total Customers</th>\n",
       "      <th>Customer Percentage</th>\n",
       "      <th>Total Value of Sales</th>\n",
       "      <th>Sale Percentage</th>\n",
       "      <th>Average Order Value</th>\n",
       "      <th>Average Value of Sales per Customer</th>\n",
       "    </tr>\n",
       "  </thead>\n",
       "  <tbody>\n",
       "    <tr>\n",
       "      <th>0</th>\n",
       "      <td>USA</td>\n",
       "      <td>13</td>\n",
       "      <td>22.03</td>\n",
       "      <td>1040.49</td>\n",
       "      <td>22.09</td>\n",
       "      <td>7.94</td>\n",
       "      <td>80.04</td>\n",
       "    </tr>\n",
       "    <tr>\n",
       "      <th>1</th>\n",
       "      <td>Canada</td>\n",
       "      <td>8</td>\n",
       "      <td>13.56</td>\n",
       "      <td>535.59</td>\n",
       "      <td>11.37</td>\n",
       "      <td>7.05</td>\n",
       "      <td>66.95</td>\n",
       "    </tr>\n",
       "    <tr>\n",
       "      <th>2</th>\n",
       "      <td>Brazil</td>\n",
       "      <td>5</td>\n",
       "      <td>8.47</td>\n",
       "      <td>427.68</td>\n",
       "      <td>9.08</td>\n",
       "      <td>7.01</td>\n",
       "      <td>85.54</td>\n",
       "    </tr>\n",
       "    <tr>\n",
       "      <th>3</th>\n",
       "      <td>France</td>\n",
       "      <td>5</td>\n",
       "      <td>8.47</td>\n",
       "      <td>389.07</td>\n",
       "      <td>8.26</td>\n",
       "      <td>7.78</td>\n",
       "      <td>77.81</td>\n",
       "    </tr>\n",
       "    <tr>\n",
       "      <th>4</th>\n",
       "      <td>Germany</td>\n",
       "      <td>4</td>\n",
       "      <td>6.78</td>\n",
       "      <td>334.62</td>\n",
       "      <td>7.11</td>\n",
       "      <td>8.16</td>\n",
       "      <td>83.66</td>\n",
       "    </tr>\n",
       "    <tr>\n",
       "      <th>5</th>\n",
       "      <td>Czech Republic</td>\n",
       "      <td>2</td>\n",
       "      <td>3.39</td>\n",
       "      <td>273.24</td>\n",
       "      <td>5.80</td>\n",
       "      <td>9.11</td>\n",
       "      <td>136.62</td>\n",
       "    </tr>\n",
       "    <tr>\n",
       "      <th>6</th>\n",
       "      <td>United Kingdom</td>\n",
       "      <td>3</td>\n",
       "      <td>5.08</td>\n",
       "      <td>245.52</td>\n",
       "      <td>5.21</td>\n",
       "      <td>8.77</td>\n",
       "      <td>81.84</td>\n",
       "    </tr>\n",
       "    <tr>\n",
       "      <th>7</th>\n",
       "      <td>Portugal</td>\n",
       "      <td>2</td>\n",
       "      <td>3.39</td>\n",
       "      <td>185.13</td>\n",
       "      <td>3.93</td>\n",
       "      <td>6.38</td>\n",
       "      <td>92.57</td>\n",
       "    </tr>\n",
       "    <tr>\n",
       "      <th>8</th>\n",
       "      <td>India</td>\n",
       "      <td>2</td>\n",
       "      <td>3.39</td>\n",
       "      <td>183.15</td>\n",
       "      <td>3.89</td>\n",
       "      <td>8.72</td>\n",
       "      <td>91.57</td>\n",
       "    </tr>\n",
       "    <tr>\n",
       "      <th>9</th>\n",
       "      <td>Other</td>\n",
       "      <td>15</td>\n",
       "      <td>25.42</td>\n",
       "      <td>1094.94</td>\n",
       "      <td>23.25</td>\n",
       "      <td>7.45</td>\n",
       "      <td>73.00</td>\n",
       "    </tr>\n",
       "  </tbody>\n",
       "</table>\n",
       "</div>"
      ],
      "text/plain": [
       "          Country  Total Customers  Customer Percentage  Total Value of Sales  \\\n",
       "0             USA               13                22.03               1040.49   \n",
       "1          Canada                8                13.56                535.59   \n",
       "2          Brazil                5                 8.47                427.68   \n",
       "3          France                5                 8.47                389.07   \n",
       "4         Germany                4                 6.78                334.62   \n",
       "5  Czech Republic                2                 3.39                273.24   \n",
       "6  United Kingdom                3                 5.08                245.52   \n",
       "7        Portugal                2                 3.39                185.13   \n",
       "8           India                2                 3.39                183.15   \n",
       "9           Other               15                25.42               1094.94   \n",
       "\n",
       "   Sale Percentage  Average Order Value  Average Value of Sales per Customer  \n",
       "0            22.09                 7.94                                80.04  \n",
       "1            11.37                 7.05                                66.95  \n",
       "2             9.08                 7.01                                85.54  \n",
       "3             8.26                 7.78                                77.81  \n",
       "4             7.11                 8.16                                83.66  \n",
       "5             5.80                 9.11                               136.62  \n",
       "6             5.21                 8.77                                81.84  \n",
       "7             3.93                 6.38                                92.57  \n",
       "8             3.89                 8.72                                91.57  \n",
       "9            23.25                 7.45                                73.00  "
      ]
     },
     "execution_count": 8,
     "metadata": {},
     "output_type": "execute_result"
    }
   ],
   "source": [
    "# Query to display aggregate data for each country\n",
    "query_3 = \"\"\"\n",
    "WITH\n",
    "main_query AS\n",
    "    (\n",
    "    SELECT\n",
    "        CASE\n",
    "           WHEN (\n",
    "                 SELECT COUNT(*)\n",
    "                 FROM customer\n",
    "                 WHERE country = cst.country\n",
    "                ) = 1 THEN \"Other\"\n",
    "        ELSE cst.country\n",
    "        END AS Country,\n",
    "        COUNT(distinct cst.customer_id) AS \"Total Customers\",\n",
    "        ROUND(CAST(100*COUNT(distinct cst.customer_id) AS FLOAT)/CAST((SELECT COUNT(customer_id) FROM customer) AS FLOAT),2) AS \"Customer Percentage\",\n",
    "        ROUND(SUM(inv.total),2) AS \"Total Value of Sales\",\n",
    "        ROUND(CAST(100*SUM(inv.total) AS FLOAT)/CAST((SELECT SUM(total) FROM invoice) AS FLOAT),2) AS \"Sale Percentage\",\n",
    "        ROUND(CAST(SUM(inv.total) AS FLOAT)/CAST(COUNT(cst.customer_id) AS FLOAT),2) AS \"Average Order Value\",\n",
    "        ROUND(CAST(SUM(inv.total) AS FLOAT)/CAST(COUNT(distinct cst.customer_id) AS FLOAT),2) AS \"Average Value of Sales per Customer\"\n",
    "    FROM customer cst\n",
    "    INNER JOIN invoice inv ON inv.customer_id = cst.customer_id\n",
    "    GROUP BY 1\n",
    "    ORDER BY 4 DESC\n",
    "    )\n",
    "SELECT\n",
    "    \"Country\",\n",
    "    \"Total Customers\",\n",
    "    \"Customer Percentage\",\n",
    "    \"Total Value of Sales\",\n",
    "    \"Sale Percentage\",\n",
    "    \"Average Order Value\",\n",
    "    \"Average Value of Sales per Customer\"\n",
    "FROM\n",
    "    (\n",
    "    SELECT\n",
    "        mq.*,\n",
    "        CASE\n",
    "            WHEN mq.country = \"Other\" THEN 1\n",
    "            ELSE 0\n",
    "        END AS sort\n",
    "    FROM main_query mq\n",
    "    )\n",
    "ORDER BY sort ASC\n",
    "\"\"\"\n",
    "# Reading our query and database into a DataFrame\n",
    "df_3 = pd.read_sql_query(query_3, conn)  \n",
    "df_3"
   ]
  },
  {
   "cell_type": "code",
   "execution_count": 9,
   "metadata": {
    "collapsed": false
   },
   "outputs": [
    {
     "data": {
      "image/png": "[encoded data removed]",
      "text/plain": [
       "<matplotlib.figure.Figure at 0x7f3de76bcc88>"
      ]
     },
     "metadata": {},
     "output_type": "display_data"
    }
   ],
   "source": [
    "# Resetting Index\n",
    "df_3 = df_3.set_index(\"Country\", drop=True)\n",
    "\n",
    "# Creating a grouped bar chart for country metrics\n",
    "grouped_bar_chart(df_3,15,10,0.35, df_3['Customer Percentage'],df_3['Sale Percentage'],\n",
    "                  'Customers','Sales','Sale & Customer by Country','%',0,30,\"upper left\",90,None)"
   ]
  },
  {
   "cell_type": "markdown",
   "metadata": {},
   "source": [
    "Here are some observations:\n",
    "\n",
    "* The sales by country are dominated by **USA**, in terms of both total sales and number of customers excluding the **Other** group.\n",
    "\n",
    "* Countries in the **Other** group have more combined sales than USA\n",
    "\n",
    "* Most customers spend between 70 to 90 dollars with the notable exception of customers from the Czech Republic\n",
    "\n",
    "* An interesting observation is that Czech Republic, having only 2 customers, shows the highest average value of sales per customer and, consequently, the highest average order value.\n",
    "\n",
    "In summary, the top performing country is the **USA**, in terms of both total sales and number of customers. \n",
    "\n",
    "Countries with a smaller customer base **(Czech Republic, United Kingdom, Portugal and India)** show potential for growth as their sales to customer ratio is greater than 1.\n",
    "\n",
    "However, it is worth keeping in mind that the amount of data from these countries is relatively low, so spending on marketing campaigns should be limited as the sample size is not large enough to give us high confidence. A better strategy would be to run small campaigns, collect and analyze new customers and make sure the trends hold with new customers. "
   ]
  },
  {
   "cell_type": "markdown",
   "metadata": {},
   "source": [
    "# Albums Vs. Individual Tracks\n",
    "\n",
    "**Scenario**: In the Chinook store, customers are allowed to purchase the whole album or purchase a collection of one or more individual tracks.\n",
    "\n",
    "The store does not let customers purchase a whole album and then add individual tracks to that same purchase (unless they do that by choosing each track manually). When customers purchase albums they are charged the same price as if they had purchased each of those tracks separately.\n",
    "\n",
    "Management is currently considering changing their purchasing strategy to save money. The strategy is to purchase only the most popular tracks from each album instead of purchasing entire albums from record companies.\n",
    "\n",
    "Management have requested to find what percentage of purchases are individual tracks vs. whole albums. Management wants to use this data to understand the effect the new strategy might have on overall revenue.\n",
    "\n",
    "**Solution**: We will find the percentage of purchases that are individual tracks vs. whole albums.\n",
    "\n",
    "We will use the following tables:\n",
    "\n",
    "* `invoice_line`\n",
    "* `track`\n",
    "\n",
    "In order to answer the question, we're going to have to identify whether each invoice has all the tracks from an album. We can do this by getting the list of tracks from an invoice and comparing it to the list of tracks from an album. We can find the album to compare the purchase to by looking up the album that one of the purchased tracks belongs to. It doesn't matter which track we pick, since if it's an album purchase, that album will be the same for all tracks. We will write a paragraph to interpret the results and represent the information using a pie chart."
   ]
  },
  {
   "cell_type": "code",
   "execution_count": 10,
   "metadata": {
    "collapsed": false
   },
   "outputs": [
    {
     "data": {
      "text/html": [
       "<div>\n",
       "<style scoped>\n",
       "    .dataframe tbody tr th:only-of-type {\n",
       "        vertical-align: middle;\n",
       "    }\n",
       "\n",
       "    .dataframe tbody tr th {\n",
       "        vertical-align: top;\n",
       "    }\n",
       "\n",
       "    .dataframe thead th {\n",
       "        text-align: right;\n",
       "    }\n",
       "</style>\n",
       "<table border=\"1\" class=\"dataframe\">\n",
       "  <thead>\n",
       "    <tr style=\"text-align: right;\">\n",
       "      <th></th>\n",
       "      <th>Purchase Type</th>\n",
       "      <th>Total</th>\n",
       "      <th>Percentage</th>\n",
       "    </tr>\n",
       "  </thead>\n",
       "  <tbody>\n",
       "    <tr>\n",
       "      <th>0</th>\n",
       "      <td>Album</td>\n",
       "      <td>114</td>\n",
       "      <td>18.6</td>\n",
       "    </tr>\n",
       "    <tr>\n",
       "      <th>1</th>\n",
       "      <td>Track</td>\n",
       "      <td>500</td>\n",
       "      <td>81.4</td>\n",
       "    </tr>\n",
       "  </tbody>\n",
       "</table>\n",
       "</div>"
      ],
      "text/plain": [
       "  Purchase Type  Total  Percentage\n",
       "0         Album    114        18.6\n",
       "1         Track    500        81.4"
      ]
     },
     "execution_count": 10,
     "metadata": {},
     "output_type": "execute_result"
    }
   ],
   "source": [
    "# Query to represent purchase breakdown\n",
    "query_4 = \"\"\"\n",
    "WITH helper_query AS\n",
    "    (\n",
    "    SELECT ai.invoice_id,\n",
    "         CASE\n",
    "            WHEN (SELECT il.track_id \n",
    "                    FROM invoice_line il\n",
    "                   WHERE il.invoice_id = ai.invoice_id\n",
    "                  EXCEPT                                          \n",
    "                  SELECT t.track_id \n",
    "                    FROM track t\n",
    "                  WHERE t.album_id = ai.album_id) IS NULL\n",
    "\n",
    "            AND  (SELECT t.track_id \n",
    "                    FROM track t\n",
    "                   WHERE t.album_id = ai.album_id                                         \n",
    "                  EXCEPT                                          \n",
    "                  SELECT il.track_id \n",
    "                    FROM invoice_line il\n",
    "                  WHERE il.invoice_id = ai.invoice_id) IS NULL\n",
    "        THEN \"Album\"\n",
    "        ELSE \"Track\"\n",
    "        END AS Purchase_Type                            \n",
    "    FROM (SELECT il.invoice_id,                                     \n",
    "               t.album_id\n",
    "          FROM invoice_line il\n",
    "          LEFT JOIN track t ON t.track_id = il.track_id\n",
    "          GROUP BY il.invoice_id) ai\n",
    "    )\n",
    "SELECT \n",
    "    Purchase_Type as \"Purchase Type\",\n",
    "    COUNT(invoice_id) AS \"Total\",\n",
    "    100*ROUND(CAST(COUNT(invoice_id) AS FLOAT)/CAST((SELECT COUNT(*) FROM helper_query) AS FLOAT), 3) AS \"Percentage\"\n",
    "FROM helper_query\n",
    "GROUP BY Purchase_Type\n",
    "\"\"\"\n",
    "# Reading our query and database into a DataFrame\n",
    "df_4 = pd.read_sql_query(query_4, conn)  \n",
    "df_4"
   ]
  },
  {
   "cell_type": "code",
   "execution_count": 11,
   "metadata": {
    "collapsed": false
   },
   "outputs": [
    {
     "data": {
      "image/png": "[encoded data removed]",
      "text/plain": [
       "<matplotlib.figure.Figure at 0x7f3de3967e80>"
      ]
     },
     "metadata": {},
     "output_type": "display_data"
    }
   ],
   "source": [
    "# Resetting Index\n",
    "df_4 = df_4.set_index(\"Purchase Type\", drop=True)\n",
    "\n",
    "# Plotting pie chart\n",
    "df_4_lst = df_4.iloc[[0,1],0].tolist() \n",
    "plt.pie(df_4_lst,labels=('Albums', 'Tracks'),\n",
    "        explode=(0,0.03), \n",
    "        startangle=90,\n",
    "        autopct='%1.1f%%',\n",
    "        textprops={'fontsize': 15},\n",
    "        colors=['lightblue','orange'])\n",
    "\n",
    "# Plot Aesthetics\n",
    "plt.title('Albums Vs. Tracks Purchased', fontsize=20)\n",
    "fig = plt.gcf()\n",
    "fig.set_size_inches(7,7)"
   ]
  },
  {
   "cell_type": "markdown",
   "metadata": {},
   "source": [
    "The vast majority of purchases are single tracks - **there are 4 times more single track purchases comapared to album purchases.**\n",
    "\n",
    "Based on this observation, we would recommend Chinook to implement their strategy of purchasing only most popular tracks from each album instead of entire albums from record companies.\n",
    "\n",
    "Over 80% of customers would likely not be impacted by this change while the company would be reducing its purchasing expenses.The impact to album-buying cusomters could be mitigated by keeping an inventory of albums from popular artists, genres, or record labels only."
   ]
  },
  {
   "cell_type": "markdown",
   "metadata": {},
   "source": [
    "# Most Popular Artists and Genres According to Playlists\n",
    " \n",
    "**Scenario**: Chinook wants to know most popular artists in customers' playlists. Chinook wants this information to gain valuable insights on further understanding the purchasing startegies of its customers.\n",
    "\n",
    "**Solution**: We are going to find the most popular artists according to playlists mentioned. The results will be sorted in descending order.\n",
    "\n",
    "We will use the following tables:\n",
    "\n",
    "* `playlist`\n",
    "* `track`\n",
    "* `album`\n",
    "* `artist`\n",
    "\n",
    "We will write a paragraph that interprets the data and represent the information in graphical form, using a grouped bar chart."
   ]
  },
  {
   "cell_type": "code",
   "execution_count": 12,
   "metadata": {
    "collapsed": false
   },
   "outputs": [
    {
     "name": "stdout",
     "output_type": "stream",
     "text": [
      "Done.\n"
     ]
    },
    {
     "data": {
      "text/html": [
       "<table>\n",
       "    <tr>\n",
       "        <th>Artist Name</th>\n",
       "        <th>Playlist Mentions</th>\n",
       "    </tr>\n",
       "    <tr>\n",
       "        <td>Eugene Ormandy</td>\n",
       "        <td>7</td>\n",
       "    </tr>\n",
       "    <tr>\n",
       "        <td>Academy of St. Martin in the Fields &amp; Sir Neville Marriner</td>\n",
       "        <td>6</td>\n",
       "    </tr>\n",
       "    <tr>\n",
       "        <td>Berliner Philharmoniker &amp; Herbert Von Karajan</td>\n",
       "        <td>6</td>\n",
       "    </tr>\n",
       "    <tr>\n",
       "        <td>English Concert &amp; Trevor Pinnock</td>\n",
       "        <td>6</td>\n",
       "    </tr>\n",
       "    <tr>\n",
       "        <td>The King&#x27;s Singers</td>\n",
       "        <td>6</td>\n",
       "    </tr>\n",
       "</table>"
      ],
      "text/plain": [
       "[('Eugene Ormandy', 7),\n",
       " ('Academy of St. Martin in the Fields & Sir Neville Marriner', 6),\n",
       " ('Berliner Philharmoniker & Herbert Von Karajan', 6),\n",
       " ('English Concert & Trevor Pinnock', 6),\n",
       " (\"The King's Singers\", 6)]"
      ]
     },
     "execution_count": 12,
     "metadata": {},
     "output_type": "execute_result"
    }
   ],
   "source": [
    "%%sql\n",
    "SELECT \n",
    "  artist.name AS \"Artist Name\",\n",
    "  COUNT(distinct playlist.playlist_id) AS \"Playlist Mentions\"\n",
    "FROM playlist\n",
    "INNER JOIN playlist_track ON playlist_track.playlist_id = playlist.playlist_id\n",
    "INNER JOIN track ON track.track_id = playlist_track.track_id\n",
    "INNER JOIN album ON album.album_id = track.album_id\n",
    "INNER JOIN artist ON artist.artist_id = album.artist_id\n",
    "GROUP BY 1\n",
    "ORDER BY 2 DESC\n",
    "LIMIT 5;"
   ]
  },
  {
   "cell_type": "markdown",
   "metadata": {},
   "source": [
    "We can see that only 1 artist, [Eugene Ormandy](https://en.wikipedia.org/wiki/Eugene_Ormandy) is present in 7 playlist, and the remaining top 4 artists all have 6 mentions.\n",
    "\n",
    "Let's take a look at the genre these artists belong to."
   ]
  },
  {
   "cell_type": "code",
   "execution_count": 13,
   "metadata": {
    "collapsed": false
   },
   "outputs": [
    {
     "name": "stdout",
     "output_type": "stream",
     "text": [
      "Done.\n"
     ]
    },
    {
     "data": {
      "text/html": [
       "<table>\n",
       "    <tr>\n",
       "        <th>Genre</th>\n",
       "    </tr>\n",
       "    <tr>\n",
       "        <td>Classical</td>\n",
       "    </tr>\n",
       "</table>"
      ],
      "text/plain": [
       "[('Classical',)]"
      ]
     },
     "execution_count": 13,
     "metadata": {},
     "output_type": "execute_result"
    }
   ],
   "source": [
    "%%sql\n",
    "SELECT DISTINCT(genre.name) AS \"Genre\"\n",
    "FROM genre\n",
    "INNER JOIN track ON track.genre_id = genre.genre_id\n",
    "INNER JOIN album ON album.album_id = track.album_id\n",
    "INNER JOIN artist ON artist.artist_id = album.artist_id\n",
    "WHERE artist.name = \"Eugene Ormandy\" \n",
    "OR artist.name = \"The King's Singers\"\n",
    "OR artist.name = \"English Concert & Trevor Pinnock\"\n",
    "OR artist.name = \"Berliner Philharmoniker & Herbert Von Karajan\" \n",
    "OR artist.name = \"Academy of St. Martin in the Fields & Sir Neville Marriner\";"
   ]
  },
  {
   "cell_type": "markdown",
   "metadata": {},
   "source": [
    "From our first query regarding popular genres in the USA, we know that the **Classical** genre didn't make the top 10 list of genres in the USA. Hence, in spite these artists being present in most playlists, a strategy for Chinook to buy more tracks of theirs is not profitable and should be avoided.  \n",
    "\n",
    "Let's take a look at the distribution of Playlist Mentions with the most popular genres."
   ]
  },
  {
   "cell_type": "code",
   "execution_count": 14,
   "metadata": {
    "collapsed": false
   },
   "outputs": [
    {
     "data": {
      "text/html": [
       "<div>\n",
       "<style scoped>\n",
       "    .dataframe tbody tr th:only-of-type {\n",
       "        vertical-align: middle;\n",
       "    }\n",
       "\n",
       "    .dataframe tbody tr th {\n",
       "        vertical-align: top;\n",
       "    }\n",
       "\n",
       "    .dataframe thead th {\n",
       "        text-align: right;\n",
       "    }\n",
       "</style>\n",
       "<table border=\"1\" class=\"dataframe\">\n",
       "  <thead>\n",
       "    <tr style=\"text-align: right;\">\n",
       "      <th></th>\n",
       "      <th>Times Artist Mentioned in Playlist</th>\n",
       "      <th>Frequency</th>\n",
       "      <th>Most Popular Genre</th>\n",
       "    </tr>\n",
       "  </thead>\n",
       "  <tbody>\n",
       "    <tr>\n",
       "      <th>0</th>\n",
       "      <td>2</td>\n",
       "      <td>52</td>\n",
       "      <td>Rock</td>\n",
       "    </tr>\n",
       "    <tr>\n",
       "      <th>1</th>\n",
       "      <td>3</td>\n",
       "      <td>68</td>\n",
       "      <td>Rock</td>\n",
       "    </tr>\n",
       "    <tr>\n",
       "      <th>2</th>\n",
       "      <td>4</td>\n",
       "      <td>48</td>\n",
       "      <td>Classical</td>\n",
       "    </tr>\n",
       "    <tr>\n",
       "      <th>3</th>\n",
       "      <td>5</td>\n",
       "      <td>31</td>\n",
       "      <td>Classical</td>\n",
       "    </tr>\n",
       "    <tr>\n",
       "      <th>4</th>\n",
       "      <td>6</td>\n",
       "      <td>4</td>\n",
       "      <td>Classical</td>\n",
       "    </tr>\n",
       "    <tr>\n",
       "      <th>5</th>\n",
       "      <td>7</td>\n",
       "      <td>1</td>\n",
       "      <td>Classical</td>\n",
       "    </tr>\n",
       "  </tbody>\n",
       "</table>\n",
       "</div>"
      ],
      "text/plain": [
       "   Times Artist Mentioned in Playlist  Frequency Most Popular Genre\n",
       "0                                   2         52               Rock\n",
       "1                                   3         68               Rock\n",
       "2                                   4         48          Classical\n",
       "3                                   5         31          Classical\n",
       "4                                   6          4          Classical\n",
       "5                                   7          1          Classical"
      ]
     },
     "execution_count": 14,
     "metadata": {},
     "output_type": "execute_result"
    }
   ],
   "source": [
    "# Query to represent popular genres according to frequency of artist mentioned in playlists\n",
    "query_5 = \"\"\"\n",
    "WITH helper_query AS\n",
    "    (\n",
    "    SELECT \n",
    "      artist.name AS Name,\n",
    "      COUNT(distinct playlist.playlist_id) AS Playlist,\n",
    "      genre.name AS Genre_Name\n",
    "    FROM playlist\n",
    "    INNER JOIN playlist_track ON playlist_track.playlist_id = playlist.playlist_id\n",
    "    INNER JOIN track ON track.track_id = playlist_track.track_id\n",
    "    INNER JOIN genre ON genre.genre_id = track.genre_id\n",
    "    INNER JOIN album ON album.album_id = track.album_id\n",
    "    INNER JOIN artist ON artist.artist_id = album.artist_id\n",
    "    GROUP BY 1\n",
    "    ORDER BY 2 DESC\n",
    "    ),\n",
    "second_helper_query AS\n",
    "    (\n",
    "    SELECT\n",
    "        COUNT(Name) AS \"Frequency\",\n",
    "        Playlist,\n",
    "        Genre_Name\n",
    "    FROM helper_query\n",
    "    GROUP BY 2,3\n",
    "    ORDER BY 1\n",
    "    )\n",
    "SELECT\n",
    "    Playlist AS \"Times Artist Mentioned in Playlist\",\n",
    "    SUM(\"Frequency\") AS \"Frequency\",\n",
    "    Genre_Name AS \"Most Popular Genre\"\n",
    "    FROM second_helper_query\n",
    "    GROUP BY 1\n",
    "\"\"\"\n",
    "# Reading our query and database into a DataFrame\n",
    "df_5 = pd.read_sql_query(query_5, conn)  \n",
    "df_5"
   ]
  },
  {
   "cell_type": "code",
   "execution_count": 15,
   "metadata": {
    "collapsed": false
   },
   "outputs": [
    {
     "data": {
      "text/plain": [
       "<matplotlib.legend.Legend at 0x7f3de3c86b70>"
      ]
     },
     "execution_count": 15,
     "metadata": {},
     "output_type": "execute_result"
    },
    {
     "data": {
      "image/png": "[encoded data removed]",
      "text/plain": [
       "<matplotlib.figure.Figure at 0x7f3de7755828>"
      ]
     },
     "metadata": {},
     "output_type": "display_data"
    }
   ],
   "source": [
    "# Resetting Index\n",
    "df_5 = df_5.set_index(\"Times Artist Mentioned in Playlist\", drop=True)\n",
    "\n",
    "# Importing libraries\n",
    "import matplotlib.patches as mpatches\n",
    "\n",
    "# Plotting Tracks sold by Genre\n",
    "fig, ax = plt.subplots(figsize=(10,5))\n",
    "ax = df_5['Frequency'].plot.bar(color=['lightblue','lightblue','darkblue','darkblue','darkblue','darkblue'])\n",
    "\n",
    "# Plot Aesthetics\n",
    "ax.set_title(\"Popular Genres in Playlists\", fontsize=25)\n",
    "ax.set_ylabel(\"Frequency\",fontsize=15)\n",
    "ax.set_xlabel(\"Times Artist Mentioned in Playlist\", fontsize=15)\n",
    "ax.set_ylim(0, 75)\n",
    "ax.set_xticklabels([2,3,4,5,6,7],fontsize=17,rotation=0)\n",
    "ax.spines[\"top\"].set_visible(False)\n",
    "ax.spines[\"right\"].set_visible(False)\n",
    "red_patch = mpatches.Patch(color='lightblue', label='Rock')\n",
    "blue_patch = mpatches.Patch(color='darkblue', label='Classical')\n",
    "ax.legend(handles=[red_patch, blue_patch],loc=\"upper right\",fontsize=15,frameon=False) "
   ]
  },
  {
   "cell_type": "markdown",
   "metadata": {},
   "source": [
    "Most artists have around 2 to 5 playlist mentions. We see that **Rock** is the most popular genre for artists that are mentioned less than thrice in a list, and **Classical** is the most popular genre for artists mentioned more than 3 times in a list. This makes more sense with our results regarding popular genres in the USA.\n",
    "\n",
    "It is worth mentioning that **Rock** and **Classical** are not the genres that make up the entire playlist, they only represent the majority genre, hence the 'most' popular assumption.\n",
    "\n",
    "In summary, although the most popular artist belongs to the Classical genre with the highest (7) playlist mentions, the majority of artists within playlists belong to the **Rock** genre."
   ]
  },
  {
   "cell_type": "markdown",
   "metadata": {},
   "source": [
    "# Purchased vs. Not Purchased Tracks\n",
    "\n",
    "**Scenario**: Chinook wants to know metrics for Purchases Vs. Not Purchased tracks.\n",
    "\n",
    "**Solution**: We will calculate how many unique tracks were sold. We will have to distinguish between the entire inventory of tracks in the `track table` and the distinct instances of tracks from the `invoice_line table`.\n",
    "\n",
    "We will use the following tables:\n",
    "* `track`\n",
    "* `invoice_line`\n",
    "\n",
    "We will write a paragraph that interprets the data and present our results in graphical form using a pie chart."
   ]
  },
  {
   "cell_type": "code",
   "execution_count": 16,
   "metadata": {
    "collapsed": false
   },
   "outputs": [
    {
     "data": {
      "text/html": [
       "<div>\n",
       "<style scoped>\n",
       "    .dataframe tbody tr th:only-of-type {\n",
       "        vertical-align: middle;\n",
       "    }\n",
       "\n",
       "    .dataframe tbody tr th {\n",
       "        vertical-align: top;\n",
       "    }\n",
       "\n",
       "    .dataframe thead th {\n",
       "        text-align: right;\n",
       "    }\n",
       "</style>\n",
       "<table border=\"1\" class=\"dataframe\">\n",
       "  <thead>\n",
       "    <tr style=\"text-align: right;\">\n",
       "      <th></th>\n",
       "      <th>Total Tracks</th>\n",
       "      <th>Tracks Purchased</th>\n",
       "      <th>Tracks Not Purchased</th>\n",
       "      <th>Percent Purchased</th>\n",
       "      <th>Percent Not Purchased</th>\n",
       "    </tr>\n",
       "  </thead>\n",
       "  <tbody>\n",
       "    <tr>\n",
       "      <th>0</th>\n",
       "      <td>3503</td>\n",
       "      <td>1806</td>\n",
       "      <td>1697</td>\n",
       "      <td>0.52</td>\n",
       "      <td>0.48</td>\n",
       "    </tr>\n",
       "  </tbody>\n",
       "</table>\n",
       "</div>"
      ],
      "text/plain": [
       "   Total Tracks  Tracks Purchased  Tracks Not Purchased  Percent Purchased  \\\n",
       "0          3503              1806                  1697               0.52   \n",
       "\n",
       "   Percent Not Purchased  \n",
       "0                   0.48  "
      ]
     },
     "execution_count": 16,
     "metadata": {},
     "output_type": "execute_result"
    }
   ],
   "source": [
    "# Query to represent breakdown of tracks in the store\n",
    "query_6 = \"\"\"\n",
    "SELECT\n",
    "(SELECT COUNT(distinct track_id) FROM track) AS \"Total Tracks\",\n",
    "COUNT(distinct track_id) AS \"Tracks Purchased\",\n",
    "(SELECT COUNT(distinct track_id) FROM track) - COUNT(distinct track_id)\n",
    "AS \"Tracks Not Purchased\",\n",
    "ROUND(CAST(COUNT(distinct track_id) AS FLOAT)/CAST((SELECT COUNT(distinct track_id) FROM track) AS FLOAT),2) As \"Percent Purchased\"\n",
    "FROM invoice_line\n",
    "\"\"\"\n",
    "# Reading our query and database into a DataFrame\n",
    "df_6 = pd.read_sql_query(query_6, conn)\n",
    "df_6['Percent Not Purchased'] = 1 - df_6['Percent Purchased'] # Creating not purchased percentage column\n",
    "df_6"
   ]
  },
  {
   "cell_type": "code",
   "execution_count": 17,
   "metadata": {
    "collapsed": false
   },
   "outputs": [
    {
     "data": {
      "image/png": "[encoded data removed]",
      "text/plain": [
       "<matplotlib.figure.Figure at 0x7f3de3979630>"
      ]
     },
     "metadata": {},
     "output_type": "display_data"
    }
   ],
   "source": [
    "# Plotting pie chart\n",
    "list1 = df_6.iloc[0,[3,4]].tolist()\n",
    "plt.pie(list1,labels=('Purchased', 'Not Purchased'),\n",
    "        explode=(0,0.03), \n",
    "        startangle=90,\n",
    "        autopct='%1.1f%%',\n",
    "        textprops={'fontsize': 15},\n",
    "        colors=['lightblue','orange'])\n",
    "\n",
    "# Plot Aesthetics\n",
    "plt.title('Tracks Purchased v. Not Purchased', fontsize=20)\n",
    "fig = plt.gcf()\n",
    "fig.set_size_inches(7,7)"
   ]
  },
  {
   "cell_type": "markdown",
   "metadata": {
    "collapsed": false
   },
   "source": [
    "Almost half of the tracks within the Chinook store have never been bought - possible reasons for this could be unpopular genres or artists. Let's see what are the top genres and artists within the tracks not purchased category."
   ]
  },
  {
   "cell_type": "code",
   "execution_count": 18,
   "metadata": {
    "collapsed": false
   },
   "outputs": [
    {
     "data": {
      "text/html": [
       "<div>\n",
       "<style scoped>\n",
       "    .dataframe tbody tr th:only-of-type {\n",
       "        vertical-align: middle;\n",
       "    }\n",
       "\n",
       "    .dataframe tbody tr th {\n",
       "        vertical-align: top;\n",
       "    }\n",
       "\n",
       "    .dataframe thead th {\n",
       "        text-align: right;\n",
       "    }\n",
       "</style>\n",
       "<table border=\"1\" class=\"dataframe\">\n",
       "  <thead>\n",
       "    <tr style=\"text-align: right;\">\n",
       "      <th></th>\n",
       "      <th>Genre</th>\n",
       "      <th>Tracks Not Purchased</th>\n",
       "      <th>Percentage</th>\n",
       "    </tr>\n",
       "  </thead>\n",
       "  <tbody>\n",
       "    <tr>\n",
       "      <th>0</th>\n",
       "      <td>Latin</td>\n",
       "      <td>460</td>\n",
       "      <td>27.11</td>\n",
       "    </tr>\n",
       "    <tr>\n",
       "      <th>1</th>\n",
       "      <td>Rock</td>\n",
       "      <td>382</td>\n",
       "      <td>22.51</td>\n",
       "    </tr>\n",
       "    <tr>\n",
       "      <th>2</th>\n",
       "      <td>Alternative &amp; Punk</td>\n",
       "      <td>156</td>\n",
       "      <td>9.19</td>\n",
       "    </tr>\n",
       "    <tr>\n",
       "      <th>3</th>\n",
       "      <td>Metal</td>\n",
       "      <td>136</td>\n",
       "      <td>8.01</td>\n",
       "    </tr>\n",
       "    <tr>\n",
       "      <th>4</th>\n",
       "      <td>TV Shows</td>\n",
       "      <td>91</td>\n",
       "      <td>5.36</td>\n",
       "    </tr>\n",
       "    <tr>\n",
       "      <th>5</th>\n",
       "      <td>Jazz</td>\n",
       "      <td>69</td>\n",
       "      <td>4.07</td>\n",
       "    </tr>\n",
       "    <tr>\n",
       "      <th>6</th>\n",
       "      <td>Drama</td>\n",
       "      <td>63</td>\n",
       "      <td>3.71</td>\n",
       "    </tr>\n",
       "    <tr>\n",
       "      <th>7</th>\n",
       "      <td>Classical</td>\n",
       "      <td>58</td>\n",
       "      <td>3.42</td>\n",
       "    </tr>\n",
       "    <tr>\n",
       "      <th>8</th>\n",
       "      <td>Soundtrack</td>\n",
       "      <td>38</td>\n",
       "      <td>2.24</td>\n",
       "    </tr>\n",
       "    <tr>\n",
       "      <th>9</th>\n",
       "      <td>Reggae</td>\n",
       "      <td>36</td>\n",
       "      <td>2.12</td>\n",
       "    </tr>\n",
       "  </tbody>\n",
       "</table>\n",
       "</div>"
      ],
      "text/plain": [
       "                Genre  Tracks Not Purchased  Percentage\n",
       "0               Latin                   460       27.11\n",
       "1                Rock                   382       22.51\n",
       "2  Alternative & Punk                   156        9.19\n",
       "3               Metal                   136        8.01\n",
       "4            TV Shows                    91        5.36\n",
       "5                Jazz                    69        4.07\n",
       "6               Drama                    63        3.71\n",
       "7           Classical                    58        3.42\n",
       "8          Soundtrack                    38        2.24\n",
       "9              Reggae                    36        2.12"
      ]
     },
     "execution_count": 18,
     "metadata": {},
     "output_type": "execute_result"
    }
   ],
   "source": [
    "# Query to represent genre for tracks not purchased\n",
    "query_7 = \"\"\"\n",
    "WITH helper_query AS\n",
    "(\n",
    "SELECT\n",
    " track_id,\n",
    " genre_id\n",
    "FROM track\n",
    "\n",
    "EXCEPT\n",
    "\n",
    "SELECT\n",
    " invoice_line.track_id,\n",
    " track.genre_id\n",
    "FROM invoice_line\n",
    "INNER JOIN track on track.track_id = invoice_line.track_id\n",
    ")\n",
    "SELECT\n",
    "genre.name AS \"Genre\",\n",
    "COUNT(distinct track_id) AS \"Tracks Not Purchased\",\n",
    "ROUND(100*CAST(COUNT(track_id) AS FLOAT)/CAST((SELECT COUNT(track_id) FROM helper_query) AS FLOAT),2) AS \"Percentage\"\n",
    "FROM helper_query\n",
    "INNER JOIN genre ON genre.genre_id = helper_query.genre_id\n",
    "GROUP BY 1\n",
    "ORDER BY 2 DESC\n",
    "LIMIT 10;\n",
    "\"\"\"\n",
    "# Reading our query and database into a DataFrame\n",
    "df_7 = pd.read_sql_query(query_7, conn)\n",
    "df_7"
   ]
  },
  {
   "cell_type": "code",
   "execution_count": 19,
   "metadata": {
    "collapsed": false
   },
   "outputs": [
    {
     "data": {
      "image/png": "[encoded data removed]",
      "text/plain": [
       "<matplotlib.figure.Figure at 0x7f3de3979cf8>"
      ]
     },
     "metadata": {},
     "output_type": "display_data"
    }
   ],
   "source": [
    "# Resetting Index\n",
    "df_7 = df_7.set_index(\"Genre\", drop=True)\n",
    "\n",
    "# Plotting Tracks sold by Genre\n",
    "fig, ax = plt.subplots(figsize=(10,5))\n",
    "ax = df_7['Percentage'].plot.bar()\n",
    "\n",
    "# Plot Aesthetics\n",
    "ax.set_title(\"Tracks Not Purchased for each Genre\", fontsize=25)\n",
    "ax.set_ylabel(\"Frequency\",fontsize=15)\n",
    "ax.set_xlabel(\"Genre\", fontsize=15)\n",
    "ax.set_ylabel(\"%\", fontsize=15)\n",
    "ax.set_ylim(0, 30)\n",
    "ax.spines[\"top\"].set_visible(False)\n",
    "ax.spines[\"right\"].set_visible(False)"
   ]
  },
  {
   "cell_type": "markdown",
   "metadata": {},
   "source": [
    "The most popular artist for tracks not purchased is **Latin** followed by **Rock** and **Alternative & Punk**. It is interesting to see the **Rock** genre in this list since it is the most popular genre within the USA according to tracks sold. An interesting observation would be to look at specific artists within the **Rock** genre which are unpopular.\n",
    "\n",
    "In summary, Chinook should look to purchase artists from popular genres and put more effort into advertising existing tracks from unpopular genres."
   ]
  },
  {
   "cell_type": "markdown",
   "metadata": {},
   "source": [
    "# Protected vs Non-Protected Media Types\n",
    "\n",
    "**Scenario**: Any given track sold by Chinook is either protected or non-protected. A protected media type has associated rules for using its content. It may be encrypted using some form of digital rights management encryption. The purchaser is not able to make copies and is restricted to listening the platform from which they bought it (iTunes for example). A non-protected track allows the purchaser to make copies and listen to it on multiple platforms.\n",
    "\n",
    "In Chinook protected tracks are identified by the following `media_type_id`'s:\n",
    "\n",
    "* Protected AAC audio file\n",
    "* Protected MPEG-4 video file\n",
    "\n",
    "Non-Protected tracks are identified by these `media_type_id`'s:\n",
    "\n",
    "* MPEG audio file\n",
    "* Purchased AAC audio file\n",
    "* AAC audio file\n",
    "\n",
    "Chinook wants to know consumer purchase behavior for protected and non-protected tracks.\n",
    "\n",
    "**Solution**: We will calculate the percentage of protected vs. non-protected tracks. Then, we will see the breakdown of protected vs. non-protected tracks for sold and not sold tracks.\n",
    "\n",
    "We will use the following tables:\n",
    "\n",
    "* `track`\n",
    "* `media_type`\n",
    "\n",
    "We will write a paragraph that interprets the data and present it in graphical form. "
   ]
  },
  {
   "cell_type": "code",
   "execution_count": 20,
   "metadata": {
    "collapsed": false
   },
   "outputs": [
    {
     "data": {
      "text/html": [
       "<div>\n",
       "<style scoped>\n",
       "    .dataframe tbody tr th:only-of-type {\n",
       "        vertical-align: middle;\n",
       "    }\n",
       "\n",
       "    .dataframe tbody tr th {\n",
       "        vertical-align: top;\n",
       "    }\n",
       "\n",
       "    .dataframe thead th {\n",
       "        text-align: right;\n",
       "    }\n",
       "</style>\n",
       "<table border=\"1\" class=\"dataframe\">\n",
       "  <thead>\n",
       "    <tr style=\"text-align: right;\">\n",
       "      <th></th>\n",
       "      <th>Type - All Tracks</th>\n",
       "      <th>Count</th>\n",
       "      <th>Percentage</th>\n",
       "    </tr>\n",
       "  </thead>\n",
       "  <tbody>\n",
       "    <tr>\n",
       "      <th>0</th>\n",
       "      <td>Not Protected</td>\n",
       "      <td>3052</td>\n",
       "      <td>87.0</td>\n",
       "    </tr>\n",
       "    <tr>\n",
       "      <th>1</th>\n",
       "      <td>Protected</td>\n",
       "      <td>451</td>\n",
       "      <td>13.0</td>\n",
       "    </tr>\n",
       "  </tbody>\n",
       "</table>\n",
       "</div>"
      ],
      "text/plain": [
       "  Type - All Tracks  Count  Percentage\n",
       "0     Not Protected   3052        87.0\n",
       "1         Protected    451        13.0"
      ]
     },
     "execution_count": 20,
     "metadata": {},
     "output_type": "execute_result"
    }
   ],
   "source": [
    "# Query to find the breakdown of protected and not protected tracks\n",
    "query_8 = \"\"\"\n",
    "WITH helper_query AS\n",
    "    (\n",
    "    SELECT *,\n",
    "        CASE\n",
    "            WHEN media_type_id = 2 THEN \"Protected\"\n",
    "            WHEN media_type_id = 3 THEN \"Protected\"\n",
    "            ELSE \"Not Protected\"\n",
    "        END AS Type\n",
    "    FROM track\n",
    "    )\n",
    "SELECT\n",
    "    Type AS \"Type - All Tracks\",\n",
    "    COUNT(Type) AS Count,\n",
    "    100*ROUND(CAST(COUNT(Type) AS FLOAT)/CAST((SELECT COUNT(Type) FROM helper_query) AS FLOAT),2) AS \"Percentage\"\n",
    "FROM helper_query\n",
    "GROUP BY 1\n",
    "\"\"\"\n",
    "# Reading our query and database into a DataFrame\n",
    "df_8 = pd.read_sql_query(query_8, conn)\n",
    "df_8"
   ]
  },
  {
   "cell_type": "code",
   "execution_count": 21,
   "metadata": {
    "collapsed": false
   },
   "outputs": [
    {
     "data": {
      "text/html": [
       "<div>\n",
       "<style scoped>\n",
       "    .dataframe tbody tr th:only-of-type {\n",
       "        vertical-align: middle;\n",
       "    }\n",
       "\n",
       "    .dataframe tbody tr th {\n",
       "        vertical-align: top;\n",
       "    }\n",
       "\n",
       "    .dataframe thead th {\n",
       "        text-align: right;\n",
       "    }\n",
       "</style>\n",
       "<table border=\"1\" class=\"dataframe\">\n",
       "  <thead>\n",
       "    <tr style=\"text-align: right;\">\n",
       "      <th></th>\n",
       "      <th>Type - Sold</th>\n",
       "      <th>Count</th>\n",
       "      <th>Percentage</th>\n",
       "    </tr>\n",
       "  </thead>\n",
       "  <tbody>\n",
       "    <tr>\n",
       "      <th>0</th>\n",
       "      <td>Not Protected</td>\n",
       "      <td>1652</td>\n",
       "      <td>91.0</td>\n",
       "    </tr>\n",
       "    <tr>\n",
       "      <th>1</th>\n",
       "      <td>Protected</td>\n",
       "      <td>154</td>\n",
       "      <td>9.0</td>\n",
       "    </tr>\n",
       "  </tbody>\n",
       "</table>\n",
       "</div>"
      ],
      "text/plain": [
       "     Type - Sold  Count  Percentage\n",
       "0  Not Protected   1652        91.0\n",
       "1      Protected    154         9.0"
      ]
     },
     "execution_count": 21,
     "metadata": {},
     "output_type": "execute_result"
    }
   ],
   "source": [
    "# Query to find the breakdown of protected and not protected sold tracks\n",
    "query_9 = \"\"\"\n",
    "WITH helper_query AS\n",
    " (\n",
    "  SELECT *,\n",
    "     CASE\n",
    "         WHEN track_id in (SELECT track_id FROM invoice_line) THEN \"Yes - Sold\"\n",
    "         ELSE \"No - Not Sold\"\n",
    "    END AS Purchased,\n",
    "     CASE\n",
    "            WHEN media_type_id = 2 THEN \"Protected\"\n",
    "            WHEN media_type_id = 3 THEN \"Protected\"\n",
    "            ELSE \"Not Protected\"\n",
    "        END AS Type\n",
    "  FROM track\n",
    " ) \n",
    "SELECT\n",
    "Type AS \"Type - Sold\",\n",
    "COUNT(Purchased) AS Count,\n",
    "100*ROUND(CAST(COUNT(Purchased) AS FLOAT)/CAST((SELECT COUNT(Purchased) FROM helper_query WHERE Purchased is \"Yes - Sold\") AS FLOAT),2) AS Percentage\n",
    "FROM helper_query\n",
    "WHERE Purchased is \"Yes - Sold\"\n",
    "GROUP BY 1\n",
    "\"\"\"\n",
    "# Reading our query and database into a DataFrame\n",
    "df_9 = pd.read_sql_query(query_9, conn)\n",
    "df_9"
   ]
  },
  {
   "cell_type": "code",
   "execution_count": 22,
   "metadata": {
    "collapsed": false
   },
   "outputs": [
    {
     "data": {
      "text/html": [
       "<div>\n",
       "<style scoped>\n",
       "    .dataframe tbody tr th:only-of-type {\n",
       "        vertical-align: middle;\n",
       "    }\n",
       "\n",
       "    .dataframe tbody tr th {\n",
       "        vertical-align: top;\n",
       "    }\n",
       "\n",
       "    .dataframe thead th {\n",
       "        text-align: right;\n",
       "    }\n",
       "</style>\n",
       "<table border=\"1\" class=\"dataframe\">\n",
       "  <thead>\n",
       "    <tr style=\"text-align: right;\">\n",
       "      <th></th>\n",
       "      <th>Type - Not Sold</th>\n",
       "      <th>Count</th>\n",
       "      <th>Percentage</th>\n",
       "    </tr>\n",
       "  </thead>\n",
       "  <tbody>\n",
       "    <tr>\n",
       "      <th>0</th>\n",
       "      <td>Not Protected</td>\n",
       "      <td>1400</td>\n",
       "      <td>82.0</td>\n",
       "    </tr>\n",
       "    <tr>\n",
       "      <th>1</th>\n",
       "      <td>Protected</td>\n",
       "      <td>297</td>\n",
       "      <td>18.0</td>\n",
       "    </tr>\n",
       "  </tbody>\n",
       "</table>\n",
       "</div>"
      ],
      "text/plain": [
       "  Type - Not Sold  Count  Percentage\n",
       "0   Not Protected   1400        82.0\n",
       "1       Protected    297        18.0"
      ]
     },
     "execution_count": 22,
     "metadata": {},
     "output_type": "execute_result"
    }
   ],
   "source": [
    "# Query to find the breakdown of protected and not protected not sold tracks\n",
    "query_10 = \"\"\"\n",
    "WITH helper_query AS\n",
    " (\n",
    "  SELECT *,\n",
    "     CASE\n",
    "         WHEN track_id in (SELECT track_id FROM invoice_line) THEN \"Yes - Sold\"\n",
    "         ELSE \"No - Not Sold\"\n",
    "    END AS Purchased,\n",
    "     CASE\n",
    "            WHEN media_type_id = 2 THEN \"Protected\"\n",
    "            WHEN media_type_id = 3 THEN \"Protected\"\n",
    "            ELSE \"Not Protected\"\n",
    "        END AS Type\n",
    "  FROM track\n",
    " ) \n",
    "SELECT\n",
    "Type AS \"Type - Not Sold\",\n",
    "COUNT(Purchased) AS Count,\n",
    "100*ROUND(CAST(COUNT(Purchased) AS FLOAT)/CAST((SELECT COUNT(Purchased) FROM helper_query WHERE Purchased is \"No - Not Sold\") AS FLOAT),2) AS Percentage\n",
    "FROM helper_query\n",
    "WHERE Purchased is \"No - Not Sold\"\n",
    "GROUP BY 1\n",
    "\"\"\"\n",
    "# Reading our query and database into a DataFrame\n",
    "df_10 = pd.read_sql_query(query_10, conn)\n",
    "df_10"
   ]
  },
  {
   "cell_type": "code",
   "execution_count": 23,
   "metadata": {
    "collapsed": false
   },
   "outputs": [
    {
     "data": {
      "text/html": [
       "<div>\n",
       "<style scoped>\n",
       "    .dataframe tbody tr th:only-of-type {\n",
       "        vertical-align: middle;\n",
       "    }\n",
       "\n",
       "    .dataframe tbody tr th {\n",
       "        vertical-align: top;\n",
       "    }\n",
       "\n",
       "    .dataframe thead th {\n",
       "        text-align: right;\n",
       "    }\n",
       "</style>\n",
       "<table border=\"1\" class=\"dataframe\">\n",
       "  <thead>\n",
       "    <tr style=\"text-align: right;\">\n",
       "      <th></th>\n",
       "      <th>Track Type</th>\n",
       "      <th>Purchased</th>\n",
       "      <th>Count</th>\n",
       "      <th>Percentage</th>\n",
       "    </tr>\n",
       "  </thead>\n",
       "  <tbody>\n",
       "    <tr>\n",
       "      <th>0</th>\n",
       "      <td>Not Protected</td>\n",
       "      <td>No - Not Sold</td>\n",
       "      <td>1400</td>\n",
       "      <td>40.0</td>\n",
       "    </tr>\n",
       "    <tr>\n",
       "      <th>1</th>\n",
       "      <td>Not Protected</td>\n",
       "      <td>Yes - Sold</td>\n",
       "      <td>1652</td>\n",
       "      <td>47.0</td>\n",
       "    </tr>\n",
       "    <tr>\n",
       "      <th>2</th>\n",
       "      <td>Protected</td>\n",
       "      <td>No - Not Sold</td>\n",
       "      <td>297</td>\n",
       "      <td>8.0</td>\n",
       "    </tr>\n",
       "    <tr>\n",
       "      <th>3</th>\n",
       "      <td>Protected</td>\n",
       "      <td>Yes - Sold</td>\n",
       "      <td>154</td>\n",
       "      <td>4.0</td>\n",
       "    </tr>\n",
       "  </tbody>\n",
       "</table>\n",
       "</div>"
      ],
      "text/plain": [
       "      Track Type      Purchased  Count  Percentage\n",
       "0  Not Protected  No - Not Sold   1400        40.0\n",
       "1  Not Protected     Yes - Sold   1652        47.0\n",
       "2      Protected  No - Not Sold    297         8.0\n",
       "3      Protected     Yes - Sold    154         4.0"
      ]
     },
     "execution_count": 23,
     "metadata": {},
     "output_type": "execute_result"
    }
   ],
   "source": [
    "# Query to find the breakdown of tracks accordign to purchase and protection type\n",
    "query_11 = \"\"\"\n",
    "WITH helper_query AS\n",
    " (\n",
    "  SELECT *,\n",
    "     CASE\n",
    "         WHEN track_id in (SELECT track_id FROM invoice_line) THEN \"Yes - Sold\"\n",
    "         ELSE \"No - Not Sold\"\n",
    "    END AS Purchased,\n",
    "     CASE\n",
    "            WHEN media_type_id = 2 THEN \"Protected\"\n",
    "            WHEN media_type_id = 3 THEN \"Protected\"\n",
    "            ELSE \"Not Protected\"\n",
    "        END AS Type\n",
    "  FROM track\n",
    " ) \n",
    "SELECT\n",
    "Type AS \"Track Type\",\n",
    "Purchased,\n",
    "COUNT(Purchased) AS Count,\n",
    "100*ROUND(CAST(COUNT(Purchased) AS FLOAT)/CAST((SELECT COUNT(Purchased) FROM helper_query) AS FLOAT),2) AS Percentage\n",
    "FROM helper_query\n",
    "GROUP BY 1,2\n",
    "\"\"\"\n",
    "# Reading our query and database into a DataFrame\n",
    "df_11 = pd.read_sql_query(query_11, conn)\n",
    "df_11"
   ]
  },
  {
   "cell_type": "code",
   "execution_count": 24,
   "metadata": {
    "collapsed": false
   },
   "outputs": [
    {
     "data": {
      "image/png": "[encoded data removed]",
      "text/plain": [
       "<matplotlib.figure.Figure at 0x7f3de3c2ab70>"
      ]
     },
     "metadata": {},
     "output_type": "display_data"
    },
    {
     "data": {
      "image/png": "[encoded data removed]",
      "text/plain": [
       "<matplotlib.figure.Figure at 0x7f3de3dce588>"
      ]
     },
     "metadata": {},
     "output_type": "display_data"
    }
   ],
   "source": [
    "# Transform DataFrame into a list for plt.pie\n",
    "df_8 = df_8.set_index('Type - All Tracks',drop=True)\n",
    "lst_8 = df_8.iloc[[0,1],1].tolist()\n",
    "df_9 = df_9.set_index('Type - Sold',drop=True)\n",
    "lst_9 = df_9.iloc[[0,1],1].tolist()\n",
    "df_10 = df_10.set_index('Type - Not Sold',drop=True)\n",
    "lst_10 = df_10.iloc[[0,1],1].tolist()\n",
    "\n",
    "# Initialzing figures\n",
    "fig = plt.figure(figsize=(15,5)) \n",
    "ax_1 = fig.add_subplot(1,3,1)\n",
    "ax_2 = fig.add_subplot(1,3,2)\n",
    "ax_3 = fig.add_subplot(1,3,3)\n",
    "\n",
    "# Plotting Pie Chart for tables \n",
    "ax_1.pie(lst_8,labels=('Not Protected', 'Protected'),\n",
    "        explode=(0,0.03), \n",
    "        startangle=90,\n",
    "        autopct='%1.1f%%',\n",
    "        textprops={'fontsize': 15},\n",
    "        colors=['lightblue','orange'])\n",
    "ax_1.set_title('All Tracks', fontsize=20)\n",
    "\n",
    "ax_2.pie(lst_9,labels=('Not Protected', 'Protected'),\n",
    "        explode=(0,0.03), \n",
    "        startangle=90,\n",
    "        autopct='%1.1f%%',\n",
    "        textprops={'fontsize': 15},\n",
    "        colors=['lightblue','orange'])\n",
    "ax_2.set_title('Sold Tracks', fontsize=20)\n",
    "\n",
    "ax_3.pie(lst_10,labels=('Not Protected', 'Protected'),\n",
    "        explode=(0,0.03), \n",
    "        startangle=90,\n",
    "        autopct='%1.1f%%',\n",
    "        textprops={'fontsize': 15},\n",
    "        colors=['lightblue','orange'])\n",
    "ax_3.set_title('Not Sold Tracks', fontsize=20)\n",
    "\n",
    "# Transforming DataFrame for plotting\n",
    "data_11 = {'Track Type':  ['Not Protected', 'Protected'],\n",
    "        'Not Sold': [40,8], 'Sold': [47,4]}\n",
    "df_11 = pd.DataFrame (data_11, columns = ['Track Type','Not Sold','Sold'],)\n",
    "df_11 = df_11.set_index('Track Type',drop=True)\n",
    "\n",
    "# Plotting bar chart for second table\n",
    "grouped_bar_chart(df_11,10,10,0.35,df_11['Not Sold'],df_11['Sold'],\n",
    "                   'Not Sold','Sold','Breakdown of Tracks','%',\n",
    "                   0,50,\"upper right\",0,None)"
   ]
  },
  {
   "cell_type": "markdown",
   "metadata": {
    "collapsed": false
   },
   "source": [
    "* Majority of the tracks within the Chinook Storee are Not Protected. This holds true for when we see All tracks, Sold Tracks and Unsold Tracks\n",
    "* Customers do not seem to make purchasing decisions based on the protected status of a track\n",
    "* The majority of tracks sold are not protected (47%) compared to protected tracks (4%), within the context of overall tracks\n",
    "* There are almost twice as many tracks in the Protected category that are Not Sold (8%) compared to Sold (4%), within the context of overall tracks\n",
    "* There are more tracks in the Not Protected category that are Sold (47%) compared to Not Sold (40%), within the context of overall tracks\n",
    "\n",
    "To summarize, **Protected tracks are much less popular than Not Protected tracks, especially in terms of sales.** This can be explained by the loose rules associated with the use and ownership of Not Protected Tracks (can be played on multiple platforms, easily copied etc). Hence, as a future strategy, it is not recommended to the store to purchase such tracks from record companies."
   ]
  },
  {
   "cell_type": "markdown",
   "metadata": {
    "collapsed": true
   },
   "source": [
    "# Conclusion\n",
    "\n",
    "In this project, we analyzed and visualized the Chinook database to gain insights into the business and improve its revenue strategy. Below are the main results, with emphasis on factors for maximizing revenue:\n",
    "\n",
    "* From the 4 potential albums that Chinook wants to advertise in the USA, they should advertise Red Tone (Punk), Slim Jim Bites (Blues), Meteor and the Girls (Pop) according to genre popularity\n",
    "* Jane Peacock demonstrates the best sales performance, while Steve Johnson the worst, based on total dollar amount in sales value\n",
    "* The USA dominates the sales market in terms of total sales and number of customers.Countries with a smaller customer base (Czech Republic, United Kingdom, Portugal and India) show potential for growth as their sales to customer ratio is greater than 1\n",
    "* The vast majority of purchases are single tracks - there are 4 times more single track purchases compared to album purchases. Chinook should implement their strategy of purchasing only popular tracks from each album instead of entire albums from record companies\n",
    "* Most artists have around 2 to 5 playlist mentions. Although the most popular artist belongs to the Classical genre with 7 (highest) playlist mentions, the majority of artists within playlists belong to the Rock (<= 3 songs) and Classical (> 3 songs) genre.\n",
    "* Almost half of the tracks within the Chinook store have never been bought. Chinook should look to purchase artists from popular genres and put more effort into advertising existing tracks from unpopular genres\n",
    "* Protected tracks are less popular than Not Protected tracks, especially in terms of sales. This can be explained by the loose rules associated with the use and ownership of Not Protected Tracks (can be played on multiple platforms, easily copied etc)"
   ]
  }
 ],
 "metadata": {
  "kernelspec": {
   "display_name": "Python 3",
   "language": "python",
   "name": "python3"
  },
  "language_info": {
   "codemirror_mode": {
    "name": "ipython",
    "version": 3
   },
   "file_extension": ".py",
   "mimetype": "text/x-python",
   "name": "python",
   "nbconvert_exporter": "python",
   "pygments_lexer": "ipython3",
   "version": "3.4.3"
  }
 },
 "nbformat": 4,
 "nbformat_minor": 4
}
