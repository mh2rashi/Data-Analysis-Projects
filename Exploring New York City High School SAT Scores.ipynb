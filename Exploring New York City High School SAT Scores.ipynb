{
 "cells": [
  {
   "cell_type": "markdown",
   "metadata": {},
   "source": [
    "# Exploring New York City High School SAT Scores\n",
    "\n",
    "![NYC_Skyline_Image](http://2.bp.blogspot.com/-4xf9CZMWjlQ/T89_vq4-JCI/AAAAAAAADzA/oLERlmNAnsE/s1600/Manhattan+New+York+City+2.jpg)\n",
    "\n",
    "In this project, we analyze a data set regarding SAT student scores along with addtional demographic data sets to determine what factors impact SAT scores.\n",
    "\n",
    "The SAT (School Aptitude Test) is a test U.S high school students take before applying to college. The test consists of three sections, with an overall score of 2400 (atleast for our data set).  Colleges take SAT scores into account when admitting applicants, so it's important to perform well on it. The scores are also considered a measure of overall school district quality.\n",
    "\n",
    "**Goal**: To combine data sets and compare demographic factors with SAT scores to determine what factors strongly influence SAT scores. To reach our goal, we will investigate:\n",
    "\n",
    "* Exploring Enrollment and SAT Scores\n",
    "* Impact of English Language Learners on SAT Scores\n",
    "* Impact of Income on SAT Scores\n",
    "* Racial Differences and SAT Scores\n",
    "* Gender Differences and SAT Scores\n",
    "* AP Exams and SAT Scores\n",
    "* SAT Scores by Borough and District\n",
    "* Impact of Survey Responses on SAT Scores\n",
    "\n",
    "## Summary of Results\n",
    "\n",
    "We concluded that:\n",
    "\n",
    "* Schools with the highest percentage of non-native English-speakers are located in the Bronx borough and their average SAT scores tend to be lower than those of schools with less English Language Learning students.\n",
    "* Children of low-income families (estimated by Free or Reduced Lunch eligibility - FRL) perform poorly on the SAT. Almost all schools with less than 40% FRL eligibility have an average score greater than 1200.\n",
    "* Ranking of SAT scores by race follows the descending pattern of White, Asian, Black and Hispanic. Despite the existence of positive correlation between racial diversity and SAT scores, there are still other determinant factors when it comes to SAT score.\n",
    "* Gender is not a strong determinant to a school's average SAT score, there was a weak correlation with SAT score for both genders to begin with.\n",
    "* Schools with a high share of AP-test takers consistently score higher on the SAT, this was confirmed by a strong linear relationship between share of AP-test takers and SAT scores.\n",
    "* Surveys show that safety and academic expectations positively influence SAT scores. Parents give the highest survey scores followed by teachers and then students. Most variability in survey scores came from teachers.\n",
    "\n",
    "For more details, please refer to the the full analysis below.\n",
    "\n",
    "## Concepts Used\n",
    "\n",
    "* The basics of programming in Python (arithmetical operations, variables, common data types, etc.)\n",
    "* Jupyter Notebook\n",
    "* Working with Strings\n",
    "* Object-oriented programming\n",
    "* List and for loops\n",
    "* Conditional statements\n",
    "* Dictionaries\n",
    "* Functions\n",
    "* Data Aggregation\n",
    "* Visualization libraries: matplotlib, seaborn, maps etc\n",
    "* Pattern Extraction\n",
    "* Regular Expressions (Regex)\n",
    "* Combining Dataframes"
   ]
  },
  {
   "cell_type": "markdown",
   "metadata": {},
   "source": [
    "# Background Research\n",
    "\n",
    "A background research was conducted on the following topics below:\n",
    "\n",
    "* [New York City](https://en.wikipedia.org/wiki/New_York_City)\n",
    "* [The SAT](https://en.wikipedia.org/wiki/SAT)\n",
    "* [Schools in New York City](https://en.wikipedia.org/wiki/List_of_high_schools_in_New_York_City)\n",
    "* [Our data](https://data.cityofnewyork.us/browse?category=Education)\n",
    "\n",
    "Here are some key insights:\n",
    "\n",
    "* Only high school students take the SAT test, so we'll only be focusing on high schools.\n",
    "* New York City is made up of five boroughs, which are essentially distinct regions.\n",
    "* New York City schools fall within several different school districts, each of which can contains dozens of schools.\n",
    "* Our data sets include several different types of schools. We'll need to clean them so that we can focus on high schools only.\n",
    "* Each school in New York City has a unique code called DBN, or district borough number.\n",
    "* Aggregating data by district will allow us to use the district mapping data to plot district-by-district differences."
   ]
  },
  {
   "cell_type": "markdown",
   "metadata": {},
   "source": [
    "# Data Overview\n",
    "\n",
    "In this project, we'll be using data about New York City public schools, which can be found [here](https://data.cityofnewyork.us/browse?category=Education).\n",
    "\n",
    "Here is a link to all the data sets we'll be using:\n",
    "\n",
    "* sat_results.csv - Data on [SAT scores](https://data.cityofnewyork.us/Education/SAT-Results/f9bf-2cp4) for each high school in New York City. This is the **MAIN** data set\n",
    "* class_size.csv - Data on [class size](https://data.cityofnewyork.us/Education/2010-2011-Class-Size-School-level-detail/urz7-pzb3) for each school in New York City\n",
    "* ap_2010.csv - Data on [Advanced Placement (AP)](https://data.cityofnewyork.us/Education/AP-College-Board-2010-School-Level-Results/itfs-ms3e) exam results for each high school (passing an optional AP exam in a particular subject can earn a student college credit in that subject)\n",
    "* graduation.csv - Data on [graduation outcomes](https://data.cityofnewyork.us/Education/Graduation-Outcomes-Classes-Of-2005-2010-School-Le/vh2h-md7a). The percentage of students who graudated, and other outcome information\n",
    "* demographics.csv - Data on [demographics](https://data.cityofnewyork.us/Education/School-Demographics-and-Accountability-Snapshot-20/ihfw-zy9j) for each school\n",
    "* survey_all.txt - Data on [surveys](https://data.cityofnewyork.us/Education/NYC-School-Survey-2011/mnz3-dyi8) of parents, teachers, and students at each school\n",
    "7. survey_d75.txt - Data on [surveys](https://data.cityofnewyork.us/Education/NYC-School-Survey-2011/mnz3-dyi8) of parents, teachers, and students at each school\n",
    "8. hs_directory.csv - A directory of [high schools](https://data.cityofnewyork.us/Education/DOE-High-School-Directory-2014-2015/n3p6-zve2)"
   ]
  },
  {
   "cell_type": "markdown",
   "metadata": {},
   "source": [
    "# Data Exploration\n",
    "\n",
    "We will load the data set and look at the first couple of rows."
   ]
  },
  {
   "cell_type": "code",
   "execution_count": 1,
   "metadata": {
    "collapsed": false
   },
   "outputs": [],
   "source": [
    "# Importing pandas\n",
    "import pandas as pd\n",
    "\n",
    "# Loading CSV files\n",
    "data_files = [\"ap_2010.csv\",\"class_size.csv\",\"demographics.csv\",\"graduation.csv\",\"hs_directory.csv\",\"sat_results.csv\"] # list of files to load\n",
    "data = {} # dictionary to store dataframes\n",
    "for file in data_files: # forloop to load files\n",
    "    file_read = pd.read_csv('schools/' + file)\n",
    "    file_name = file.split(\".\")[0]\n",
    "    data[file_name] = file_read\n",
    "    \n",
    "# Loading txt files\n",
    "all_survey = pd.read_csv('schools/survey_all.txt',delimiter=\"\\t\",encoding=\"windows-1252\")\n",
    "d75_survey = pd.read_csv('schools/survey_d75.txt',delimiter=\"\\t\",encoding=\"windows-1252\")\n",
    "survey = pd.concat([all_survey,d75_survey],axis=0)"
   ]
  },
  {
   "cell_type": "markdown",
   "metadata": {},
   "source": [
    "We're mainly interested in the **sat_results** data set, we want to correlate selected information from this data set with information in other data sets."
   ]
  },
  {
   "cell_type": "code",
   "execution_count": 2,
   "metadata": {
    "collapsed": false
   },
   "outputs": [
    {
     "data": {
      "text/html": [
       "<div>\n",
       "<style scoped>\n",
       "    .dataframe tbody tr th:only-of-type {\n",
       "        vertical-align: middle;\n",
       "    }\n",
       "\n",
       "    .dataframe tbody tr th {\n",
       "        vertical-align: top;\n",
       "    }\n",
       "\n",
       "    .dataframe thead th {\n",
       "        text-align: right;\n",
       "    }\n",
       "</style>\n",
       "<table border=\"1\" class=\"dataframe\">\n",
       "  <thead>\n",
       "    <tr style=\"text-align: right;\">\n",
       "      <th></th>\n",
       "      <th>DBN</th>\n",
       "      <th>SCHOOL NAME</th>\n",
       "      <th>Num of SAT Test Takers</th>\n",
       "      <th>SAT Critical Reading Avg. Score</th>\n",
       "      <th>SAT Math Avg. Score</th>\n",
       "      <th>SAT Writing Avg. Score</th>\n",
       "    </tr>\n",
       "  </thead>\n",
       "  <tbody>\n",
       "    <tr>\n",
       "      <th>0</th>\n",
       "      <td>01M292</td>\n",
       "      <td>HENRY STREET SCHOOL FOR INTERNATIONAL STUDIES</td>\n",
       "      <td>29</td>\n",
       "      <td>355</td>\n",
       "      <td>404</td>\n",
       "      <td>363</td>\n",
       "    </tr>\n",
       "    <tr>\n",
       "      <th>1</th>\n",
       "      <td>01M448</td>\n",
       "      <td>UNIVERSITY NEIGHBORHOOD HIGH SCHOOL</td>\n",
       "      <td>91</td>\n",
       "      <td>383</td>\n",
       "      <td>423</td>\n",
       "      <td>366</td>\n",
       "    </tr>\n",
       "    <tr>\n",
       "      <th>2</th>\n",
       "      <td>01M450</td>\n",
       "      <td>EAST SIDE COMMUNITY SCHOOL</td>\n",
       "      <td>70</td>\n",
       "      <td>377</td>\n",
       "      <td>402</td>\n",
       "      <td>370</td>\n",
       "    </tr>\n",
       "    <tr>\n",
       "      <th>3</th>\n",
       "      <td>01M458</td>\n",
       "      <td>FORSYTH SATELLITE ACADEMY</td>\n",
       "      <td>7</td>\n",
       "      <td>414</td>\n",
       "      <td>401</td>\n",
       "      <td>359</td>\n",
       "    </tr>\n",
       "    <tr>\n",
       "      <th>4</th>\n",
       "      <td>01M509</td>\n",
       "      <td>MARTA VALLE HIGH SCHOOL</td>\n",
       "      <td>44</td>\n",
       "      <td>390</td>\n",
       "      <td>433</td>\n",
       "      <td>384</td>\n",
       "    </tr>\n",
       "  </tbody>\n",
       "</table>\n",
       "</div>"
      ],
      "text/plain": [
       "      DBN                                    SCHOOL NAME  \\\n",
       "0  01M292  HENRY STREET SCHOOL FOR INTERNATIONAL STUDIES   \n",
       "1  01M448            UNIVERSITY NEIGHBORHOOD HIGH SCHOOL   \n",
       "2  01M450                     EAST SIDE COMMUNITY SCHOOL   \n",
       "3  01M458                      FORSYTH SATELLITE ACADEMY   \n",
       "4  01M509                        MARTA VALLE HIGH SCHOOL   \n",
       "\n",
       "  Num of SAT Test Takers SAT Critical Reading Avg. Score SAT Math Avg. Score  \\\n",
       "0                     29                             355                 404   \n",
       "1                     91                             383                 423   \n",
       "2                     70                             377                 402   \n",
       "3                      7                             414                 401   \n",
       "4                     44                             390                 433   \n",
       "\n",
       "  SAT Writing Avg. Score  \n",
       "0                    363  \n",
       "1                    366  \n",
       "2                    370  \n",
       "3                    359  \n",
       "4                    384  "
      ]
     },
     "execution_count": 2,
     "metadata": {},
     "output_type": "execute_result"
    }
   ],
   "source": [
    "# Exploring the sat_results data set\n",
    "data[\"sat_results\"].head()"
   ]
  },
  {
   "cell_type": "markdown",
   "metadata": {},
   "source": [
    "Here are some observations:\n",
    "\n",
    "* The `DBN` is a unique ID for each school.\n",
    "* The `SCHOOL NAME` column shows that we only have data about high schools\n",
    "* There's a single row for each high school with a unique `DBN`\n",
    "* We  can combine all the 3 SAT scores to have a comprehensive SAT score\n",
    "\n",
    "Let's explore the remaining data sets."
   ]
  },
  {
   "cell_type": "code",
   "execution_count": 3,
   "metadata": {
    "collapsed": false
   },
   "outputs": [
    {
     "name": "stdout",
     "output_type": "stream",
     "text": [
      "class_size dataset\n",
      "   CSD BOROUGH SCHOOL CODE                SCHOOL NAME GRADE  PROGRAM TYPE  \\\n",
      "0    1       M        M015  P.S. 015 Roberto Clemente     0K       GEN ED   \n",
      "1    1       M        M015  P.S. 015 Roberto Clemente     0K          CTT   \n",
      "2    1       M        M015  P.S. 015 Roberto Clemente     01       GEN ED   \n",
      "3    1       M        M015  P.S. 015 Roberto Clemente     01          CTT   \n",
      "4    1       M        M015  P.S. 015 Roberto Clemente     02       GEN ED   \n",
      "\n",
      "  CORE SUBJECT (MS CORE and 9-12 ONLY) CORE COURSE (MS CORE and 9-12 ONLY)  \\\n",
      "0                                    -                                   -   \n",
      "1                                    -                                   -   \n",
      "2                                    -                                   -   \n",
      "3                                    -                                   -   \n",
      "4                                    -                                   -   \n",
      "\n",
      "  SERVICE CATEGORY(K-9* ONLY)  NUMBER OF STUDENTS / SEATS FILLED  \\\n",
      "0                           -                               19.0   \n",
      "1                           -                               21.0   \n",
      "2                           -                               17.0   \n",
      "3                           -                               17.0   \n",
      "4                           -                               15.0   \n",
      "\n",
      "   NUMBER OF SECTIONS  AVERAGE CLASS SIZE  SIZE OF SMALLEST CLASS  \\\n",
      "0                 1.0                19.0                    19.0   \n",
      "1                 1.0                21.0                    21.0   \n",
      "2                 1.0                17.0                    17.0   \n",
      "3                 1.0                17.0                    17.0   \n",
      "4                 1.0                15.0                    15.0   \n",
      "\n",
      "   SIZE OF LARGEST CLASS DATA SOURCE  SCHOOLWIDE PUPIL-TEACHER RATIO  \n",
      "0                   19.0         ATS                             NaN  \n",
      "1                   21.0         ATS                             NaN  \n",
      "2                   17.0         ATS                             NaN  \n",
      "3                   17.0         ATS                             NaN  \n",
      "4                   15.0         ATS                             NaN  \n",
      "ap_2010 dataset\n",
      "      DBN                             SchoolName AP Test Takers   \\\n",
      "0  01M448           UNIVERSITY NEIGHBORHOOD H.S.              39   \n",
      "1  01M450                 EAST SIDE COMMUNITY HS              19   \n",
      "2  01M515                    LOWER EASTSIDE PREP              24   \n",
      "3  01M539         NEW EXPLORATIONS SCI,TECH,MATH             255   \n",
      "4  02M296  High School of Hospitality Management               s   \n",
      "\n",
      "  Total Exams Taken Number of Exams with scores 3 4 or 5  \n",
      "0                49                                   10  \n",
      "1                21                                    s  \n",
      "2                26                                   24  \n",
      "3               377                                  191  \n",
      "4                 s                                    s  \n",
      "hs_directory dataset\n",
      "      dbn                                        school_name       boro  \\\n",
      "0  17K548                Brooklyn School for Music & Theatre   Brooklyn   \n",
      "1  09X543                   High School for Violin and Dance      Bronx   \n",
      "2  09X327        Comprehensive Model School Project M.S. 327      Bronx   \n",
      "3  02M280     Manhattan Early College School for Advertising  Manhattan   \n",
      "4  28Q680  Queens Gateway to Health Sciences Secondary Sc...     Queens   \n",
      "\n",
      "  building_code    phone_number    fax_number grade_span_min  grade_span_max  \\\n",
      "0          K440    718-230-6250  718-230-6262              9              12   \n",
      "1          X400    718-842-0687  718-589-9849              9              12   \n",
      "2          X240    718-294-8111  718-294-8109              6              12   \n",
      "3          M520  718-935-3477             NaN              9              10   \n",
      "4          Q695    718-969-3155  718-969-3552              6              12   \n",
      "\n",
      "  expgrade_span_min  expgrade_span_max  \\\n",
      "0               NaN                NaN   \n",
      "1               NaN                NaN   \n",
      "2               NaN                NaN   \n",
      "3                 9               14.0   \n",
      "4               NaN                NaN   \n",
      "\n",
      "                         ...                          \\\n",
      "0                        ...                           \n",
      "1                        ...                           \n",
      "2                        ...                           \n",
      "3                        ...                           \n",
      "4                        ...                           \n",
      "\n",
      "                                          priority02  \\\n",
      "0                    Then to New York City residents   \n",
      "1  Then to New York City residents who attend an ...   \n",
      "2  Then to Bronx students or residents who attend...   \n",
      "3  Then to New York City residents who attend an ...   \n",
      "4  Then to Districts 28 and 29 students or residents   \n",
      "\n",
      "                                          priority03  \\\n",
      "0                                                NaN   \n",
      "1                Then to Bronx students or residents   \n",
      "2  Then to New York City residents who attend an ...   \n",
      "3          Then to Manhattan students or residents     \n",
      "4               Then to Queens students or residents   \n",
      "\n",
      "                            priority04                       priority05  \\\n",
      "0                                  NaN                              NaN   \n",
      "1      Then to New York City residents                              NaN   \n",
      "2  Then to Bronx students or residents  Then to New York City residents   \n",
      "3      Then to New York City residents                              NaN   \n",
      "4      Then to New York City residents                              NaN   \n",
      "\n",
      "  priority06  priority07 priority08  priority09 priority10  \\\n",
      "0        NaN         NaN        NaN         NaN        NaN   \n",
      "1        NaN         NaN        NaN         NaN        NaN   \n",
      "2        NaN         NaN        NaN         NaN        NaN   \n",
      "3        NaN         NaN        NaN         NaN        NaN   \n",
      "4        NaN         NaN        NaN         NaN        NaN   \n",
      "\n",
      "                                          Location 1  \n",
      "0  883 Classon Avenue\\nBrooklyn, NY 11225\\n(40.67...  \n",
      "1  1110 Boston Road\\nBronx, NY 10456\\n(40.8276026...  \n",
      "2  1501 Jerome Avenue\\nBronx, NY 10452\\n(40.84241...  \n",
      "3  411 Pearl Street\\nNew York, NY 10038\\n(40.7106...  \n",
      "4  160-20 Goethals Avenue\\nJamaica, NY 11432\\n(40...  \n",
      "\n",
      "[5 rows x 58 columns]\n",
      "demographics dataset\n",
      "      DBN                       Name  schoolyear fl_percent  frl_percent  \\\n",
      "0  01M015  P.S. 015 ROBERTO CLEMENTE    20052006       89.4          NaN   \n",
      "1  01M015  P.S. 015 ROBERTO CLEMENTE    20062007       89.4          NaN   \n",
      "2  01M015  P.S. 015 ROBERTO CLEMENTE    20072008       89.4          NaN   \n",
      "3  01M015  P.S. 015 ROBERTO CLEMENTE    20082009       89.4          NaN   \n",
      "4  01M015  P.S. 015 ROBERTO CLEMENTE    20092010                    96.5   \n",
      "\n",
      "   total_enrollment prek   k grade1 grade2    ...     black_num black_per  \\\n",
      "0               281   15  36     40     33    ...            74      26.3   \n",
      "1               243   15  29     39     38    ...            68      28.0   \n",
      "2               261   18  43     39     36    ...            77      29.5   \n",
      "3               252   17  37     44     32    ...            75      29.8   \n",
      "4               208   16  40     28     32    ...            67      32.2   \n",
      "\n",
      "  hispanic_num hispanic_per white_num white_per male_num male_per female_num  \\\n",
      "0          189         67.3         5       1.8    158.0     56.2      123.0   \n",
      "1          153         63.0         4       1.6    140.0     57.6      103.0   \n",
      "2          157         60.2         7       2.7    143.0     54.8      118.0   \n",
      "3          149         59.1         7       2.8    149.0     59.1      103.0   \n",
      "4          118         56.7         6       2.9    124.0     59.6       84.0   \n",
      "\n",
      "  female_per  \n",
      "0       43.8  \n",
      "1       42.4  \n",
      "2       45.2  \n",
      "3       40.9  \n",
      "4       40.4  \n",
      "\n",
      "[5 rows x 38 columns]\n",
      "graduation dataset\n",
      "    Demographic     DBN                            School Name    Cohort  \\\n",
      "0  Total Cohort  01M292  HENRY STREET SCHOOL FOR INTERNATIONAL      2003   \n",
      "1  Total Cohort  01M292  HENRY STREET SCHOOL FOR INTERNATIONAL      2004   \n",
      "2  Total Cohort  01M292  HENRY STREET SCHOOL FOR INTERNATIONAL      2005   \n",
      "3  Total Cohort  01M292  HENRY STREET SCHOOL FOR INTERNATIONAL      2006   \n",
      "4  Total Cohort  01M292  HENRY STREET SCHOOL FOR INTERNATIONAL  2006 Aug   \n",
      "\n",
      "   Total Cohort Total Grads - n Total Grads - % of cohort Total Regents - n  \\\n",
      "0             5               s                         s                 s   \n",
      "1            55              37                     67.3%                17   \n",
      "2            64              43                     67.2%                27   \n",
      "3            78              43                     55.1%                36   \n",
      "4            78              44                     56.4%                37   \n",
      "\n",
      "  Total Regents - % of cohort Total Regents - % of grads  \\\n",
      "0                           s                          s   \n",
      "1                       30.9%                      45.9%   \n",
      "2                       42.2%                      62.8%   \n",
      "3                       46.2%                      83.7%   \n",
      "4                       47.4%                      84.1%   \n",
      "\n",
      "             ...            Regents w/o Advanced - n  \\\n",
      "0            ...                                   s   \n",
      "1            ...                                  17   \n",
      "2            ...                                  27   \n",
      "3            ...                                  36   \n",
      "4            ...                                  37   \n",
      "\n",
      "  Regents w/o Advanced - % of cohort Regents w/o Advanced - % of grads  \\\n",
      "0                                  s                                 s   \n",
      "1                              30.9%                             45.9%   \n",
      "2                              42.2%                             62.8%   \n",
      "3                              46.2%                             83.7%   \n",
      "4                              47.4%                             84.1%   \n",
      "\n",
      "  Local - n Local - % of cohort   Local - % of grads Still Enrolled - n  \\\n",
      "0         s                   s                    s                  s   \n",
      "1        20               36.4%                54.1%                 15   \n",
      "2        16                 25%  37.200000000000003%                  9   \n",
      "3         7                  9%                16.3%                 16   \n",
      "4         7                  9%                15.9%                 15   \n",
      "\n",
      "  Still Enrolled - % of cohort Dropped Out - n Dropped Out - % of cohort  \n",
      "0                            s               s                         s  \n",
      "1                        27.3%               3                      5.5%  \n",
      "2                        14.1%               9                     14.1%  \n",
      "3                        20.5%              11                     14.1%  \n",
      "4                        19.2%              11                     14.1%  \n",
      "\n",
      "[5 rows x 23 columns]\n",
      "survey dataset\n",
      "     N_p    N_s   N_t  aca_p_11  aca_s_11  aca_t_11  aca_tot_11    bn  \\\n",
      "0   90.0    NaN  22.0       7.8       NaN       7.9         7.9  M015   \n",
      "1  161.0    NaN  34.0       7.8       NaN       9.1         8.4  M019   \n",
      "2  367.0    NaN  42.0       8.6       NaN       7.5         8.0  M020   \n",
      "3  151.0  145.0  29.0       8.5       7.4       7.8         7.9  M034   \n",
      "4   90.0    NaN  23.0       7.9       NaN       8.1         8.0  M063   \n",
      "\n",
      "   com_p_11  com_s_11   ...    t_q8c_1  t_q8c_2  t_q8c_3 t_q8c_4  t_q9  \\\n",
      "0       7.6       NaN   ...       29.0     67.0      5.0     0.0   NaN   \n",
      "1       7.6       NaN   ...       74.0     21.0      6.0     0.0   NaN   \n",
      "2       8.3       NaN   ...       33.0     35.0     20.0    13.0   NaN   \n",
      "3       8.2       5.9   ...       21.0     45.0     28.0     7.0   NaN   \n",
      "4       7.9       NaN   ...       59.0     36.0      5.0     0.0   NaN   \n",
      "\n",
      "   t_q9_1  t_q9_2  t_q9_3  t_q9_4  t_q9_5  \n",
      "0     5.0    14.0    52.0    24.0     5.0  \n",
      "1     3.0     6.0     3.0    78.0     9.0  \n",
      "2     3.0     5.0    16.0    70.0     5.0  \n",
      "3     0.0    18.0    32.0    39.0    11.0  \n",
      "4    10.0     5.0    10.0    60.0    15.0  \n",
      "\n",
      "[5 rows x 2773 columns]\n"
     ]
    }
   ],
   "source": [
    "# Exploring the remaining data sets\n",
    "for key in data: # CSV files\n",
    "    if key != \"sat_results\": \n",
    "        print (key + ' dataset')\n",
    "        print(data[key].head(5))\n",
    "        \n",
    "print('survey dataset') # txt dataframe\n",
    "print(survey.head()) "
   ]
  },
  {
   "cell_type": "markdown",
   "metadata": {},
   "source": [
    "Here are some observations:\n",
    "\n",
    "* Each data set has a `DBN` column or the information to create one. We can use this column to combine data sets.\n",
    "* Some data sets appear to contain multiple rows for each school. We'll have to do some preprocessing to ensure that each `DBN` is unique within every data set.\n",
    "* There are 2773 columns for the **survey** dataframe! We'll have to remove unnecessary columns.\n",
    "* The **survey** data set has a `dbn` column that we'll want to convert to uppercase `DBN` to make it consistent with other dataframes."
   ]
  },
  {
   "cell_type": "markdown",
   "metadata": {},
   "source": [
    "# Data Cleanup\n",
    "\n",
    "## Dropping Unwanted Columns\n",
    "\n",
    "We'll start by filtering columns we don't need in data sets. All data set dictionaries can be found in the links within the **Data Overview** section.\n",
    "\n",
    "* **class_size data set**\n",
    " 1. `DATA SOURCE` column since it isn't useful and a demographic we aren't interested in.\n",
    " 2. `SERVICE CATEGORY(K-9* ONLY)` column doesn't include grades 10 and above.\n",
    " 3. `SIZE OF SMALLEST CLASS` & `SIZE OF LARGEST CLASS`. We will use the `AVERAGE CLASS SIZE` variable instead.\n",
    " \n",
    "* **graduation data set**\n",
    " 1. We will remove all columns which include `Regents` in the name. The Regents exams are prepared by a conference of selected New York teachers. The teacher's assemble a test map that highlights the skills and knowledge required from the specific discipline's learning standards. To learn more about Regents exams, click [here](https://en.wikipedia.org/wiki/New_York_Regents_Examinations#Purpose). Since we are focusing on the SAT, we will filter these columns. \n",
    " \n",
    "* **demographics data set**\n",
    " 1. We will filter `prek`-`grade8`, `Total Pre-K Enrollment (Half Day & Full Day)` since we are only interested in high schools.\n",
    " \n",
    "* **hs_directory data set**\n",
    "\n",
    " 1. Columns that provide extraneous school information -   `building_code`,`phone_number`,`fax_number`,`bus`,`subway`,`state_code`,`zip`,`website`,`overview_paragraph`,`program_highlights`.\n",
    " \n",
    " 2. Columns regarding admission priorities - \n",
    "`priority01`,`priority02`,`priority03`,`priority04`,`priority05`,`priority06`,`priority07`,`priority08`,`priority09`,`priority10`\n",
    " \n",
    " 3. Irrelevant school information - `expgrade_span_min`,`expgrade_span_max`,`psal_sports_boys`,`psal_sports_girls`,`psal_sports_coed`,`school_sports`,`addtl_info1`, `addtl_info2`,`start_time`,`end_time`.\n",
    " \n",
    "* **survey data set**\n",
    "\n",
    " 1. With over 2000 columns, we will filter columns that give us aggregate data about parents, teachers and students feeling about school safety, academic performance etc. Here's a screenshot below from the data dictionary.\n",
    "\n",
    "![data_dic_image](https://s3.amazonaws.com/dq-content/xj5ud4r.png)"
   ]
  },
  {
   "cell_type": "code",
   "execution_count": 4,
   "metadata": {
    "collapsed": false
   },
   "outputs": [],
   "source": [
    "# Filtering data sets\n",
    "\n",
    "# class_size data set\n",
    "data[\"class_size\"].drop(labels=['DATA SOURCE','SERVICE CATEGORY(K-9* ONLY)','SIZE OF SMALLEST CLASS','SIZE OF LARGEST CLASS'],inplace=True,axis=1)\n",
    "\n",
    "# graduation data set\n",
    "data['graduation'].drop(labels=['Total Grads - % of cohort','Total Regents - n',\n",
    "       'Total Regents - % of cohort', 'Total Regents - % of grads',\n",
    "       'Advanced Regents - n', 'Advanced Regents - % of cohort',\n",
    "       'Advanced Regents - % of grads', 'Regents w/o Advanced - n',\n",
    "       'Regents w/o Advanced - % of cohort',\n",
    "       'Regents w/o Advanced - % of grads','Local - % of cohort','Local - % of grads',\n",
    "        'Still Enrolled - % of cohort','Dropped Out - % of cohort'],inplace=True,axis=1)\n",
    "\n",
    "# demographics data set\n",
    "data['demographics'].drop(labels=['prek', 'k', 'grade1', 'grade2', 'grade3', 'grade4',\n",
    "    'grade5', 'grade6', 'grade7', 'grade8'],inplace=True,axis=1)\n",
    "\n",
    "# hs_directory data set\n",
    "data['hs_directory'].drop(labels=['building_code','phone_number','fax_number','expgrade_span_min','expgrade_span_max',\n",
    "                                 'bus','subway','state_code','zip','website','overview_paragraph','program_highlights',\n",
    "                                 'psal_sports_boys','psal_sports_girls', 'psal_sports_coed',\n",
    "                                 'school_sports','addtl_info1', 'addtl_info2','start_time','end_time','priority01','priority02',\n",
    "                                'priority03', 'priority04', 'priority05', 'priority06','priority07', 'priority08', 'priority09', 'priority10'],inplace=True,axis=1)\n",
    "\n",
    "# survey data set\n",
    "survey_fields = [\"dbn\", \"rr_s\", \"rr_t\", \"rr_p\", \"N_s\", \"N_t\", \"N_p\", # Columns to keep\n",
    "    \"saf_p_11\", \"com_p_11\", \"eng_p_11\", \"aca_p_11\", \"saf_t_11\", \"com_t_11\", \n",
    "    \"eng_t_11\", \"aca_t_11\", \"saf_s_11\", \"com_s_11\", \"eng_s_11\", \"aca_s_11\", \n",
    "    \"saf_tot_11\", \"com_tot_11\",\"eng_tot_11\", \"aca_tot_11\",]\n",
    "\n",
    "survey = survey.loc[:,survey_fields]\n",
    "data[\"survey\"] = survey # creating dataframe"
   ]
  },
  {
   "cell_type": "markdown",
   "metadata": {},
   "source": [
    "## Creating & Updating Columns"
   ]
  },
  {
   "cell_type": "markdown",
   "metadata": {},
   "source": [
    "### Renaming dbn columns to DBN\n",
    "\n",
    "* The **hs_directory** dataframe does have a `dbn` column, so we can just rename it to `DBN`"
   ]
  },
  {
   "cell_type": "code",
   "execution_count": 5,
   "metadata": {
    "collapsed": false
   },
   "outputs": [
    {
     "data": {
      "text/html": [
       "<div>\n",
       "<style scoped>\n",
       "    .dataframe tbody tr th:only-of-type {\n",
       "        vertical-align: middle;\n",
       "    }\n",
       "\n",
       "    .dataframe tbody tr th {\n",
       "        vertical-align: top;\n",
       "    }\n",
       "\n",
       "    .dataframe thead th {\n",
       "        text-align: right;\n",
       "    }\n",
       "</style>\n",
       "<table border=\"1\" class=\"dataframe\">\n",
       "  <thead>\n",
       "    <tr style=\"text-align: right;\">\n",
       "      <th></th>\n",
       "      <th>school_name</th>\n",
       "      <th>boro</th>\n",
       "      <th>grade_span_min</th>\n",
       "      <th>grade_span_max</th>\n",
       "      <th>primary_address_line_1</th>\n",
       "      <th>city</th>\n",
       "      <th>total_students</th>\n",
       "      <th>campus_name</th>\n",
       "      <th>school_type</th>\n",
       "      <th>language_classes</th>\n",
       "      <th>...</th>\n",
       "      <th>partner_nonprofit</th>\n",
       "      <th>partner_corporate</th>\n",
       "      <th>partner_financial</th>\n",
       "      <th>partner_other</th>\n",
       "      <th>se_services</th>\n",
       "      <th>ell_programs</th>\n",
       "      <th>school_accessibility_description</th>\n",
       "      <th>number_programs</th>\n",
       "      <th>Location 1</th>\n",
       "      <th>DBN</th>\n",
       "    </tr>\n",
       "  </thead>\n",
       "  <tbody>\n",
       "    <tr>\n",
       "      <th>0</th>\n",
       "      <td>Brooklyn School for Music &amp; Theatre</td>\n",
       "      <td>Brooklyn</td>\n",
       "      <td>9</td>\n",
       "      <td>12</td>\n",
       "      <td>883 Classon Avenue</td>\n",
       "      <td>Brooklyn</td>\n",
       "      <td>399.0</td>\n",
       "      <td>Prospect Heights Educational Campus</td>\n",
       "      <td>NaN</td>\n",
       "      <td>Spanish</td>\n",
       "      <td>...</td>\n",
       "      <td>One To World‘s Global Classroom connects New Y...</td>\n",
       "      <td>NaN</td>\n",
       "      <td>NaN</td>\n",
       "      <td>NaN</td>\n",
       "      <td>This school will provide students with disabil...</td>\n",
       "      <td>ESL</td>\n",
       "      <td>Functionally Accessible</td>\n",
       "      <td>1</td>\n",
       "      <td>883 Classon Avenue\\nBrooklyn, NY 11225\\n(40.67...</td>\n",
       "      <td>17K548</td>\n",
       "    </tr>\n",
       "    <tr>\n",
       "      <th>1</th>\n",
       "      <td>High School for Violin and Dance</td>\n",
       "      <td>Bronx</td>\n",
       "      <td>9</td>\n",
       "      <td>12</td>\n",
       "      <td>1110 Boston Road</td>\n",
       "      <td>Bronx</td>\n",
       "      <td>378.0</td>\n",
       "      <td>Morris Educational Campus</td>\n",
       "      <td>NaN</td>\n",
       "      <td>Spanish</td>\n",
       "      <td>...</td>\n",
       "      <td>buildOn</td>\n",
       "      <td>Print International</td>\n",
       "      <td>NaN</td>\n",
       "      <td>Bronx Cares</td>\n",
       "      <td>This school will provide students with disabil...</td>\n",
       "      <td>ESL</td>\n",
       "      <td>Functionally Accessible</td>\n",
       "      <td>1</td>\n",
       "      <td>1110 Boston Road\\nBronx, NY 10456\\n(40.8276026...</td>\n",
       "      <td>09X543</td>\n",
       "    </tr>\n",
       "  </tbody>\n",
       "</table>\n",
       "<p>2 rows × 28 columns</p>\n",
       "</div>"
      ],
      "text/plain": [
       "                           school_name      boro grade_span_min  \\\n",
       "0  Brooklyn School for Music & Theatre  Brooklyn              9   \n",
       "1     High School for Violin and Dance     Bronx              9   \n",
       "\n",
       "   grade_span_max primary_address_line_1      city  total_students  \\\n",
       "0              12     883 Classon Avenue  Brooklyn           399.0   \n",
       "1              12       1110 Boston Road     Bronx           378.0   \n",
       "\n",
       "                           campus_name school_type language_classes   ...    \\\n",
       "0  Prospect Heights Educational Campus         NaN          Spanish   ...     \n",
       "1            Morris Educational Campus         NaN          Spanish   ...     \n",
       "\n",
       "                                   partner_nonprofit    partner_corporate  \\\n",
       "0  One To World‘s Global Classroom connects New Y...                  NaN   \n",
       "1                                            buildOn  Print International   \n",
       "\n",
       "  partner_financial partner_other  \\\n",
       "0               NaN           NaN   \n",
       "1               NaN   Bronx Cares   \n",
       "\n",
       "                                         se_services ell_programs  \\\n",
       "0  This school will provide students with disabil...          ESL   \n",
       "1  This school will provide students with disabil...          ESL   \n",
       "\n",
       "  school_accessibility_description number_programs  \\\n",
       "0          Functionally Accessible               1   \n",
       "1          Functionally Accessible               1   \n",
       "\n",
       "                                          Location 1     DBN  \n",
       "0  883 Classon Avenue\\nBrooklyn, NY 11225\\n(40.67...  17K548  \n",
       "1  1110 Boston Road\\nBronx, NY 10456\\n(40.8276026...  09X543  \n",
       "\n",
       "[2 rows x 28 columns]"
      ]
     },
     "execution_count": 5,
     "metadata": {},
     "output_type": "execute_result"
    }
   ],
   "source": [
    "# Creating the DBN column for hs_directory\n",
    "data[\"hs_directory\"][\"DBN\"] = data[\"hs_directory\"][\"dbn\"]\n",
    "\n",
    "# Dropping the old dbn column\n",
    "data[\"hs_directory\"].drop(labels=['dbn'],inplace=True,axis=1)\n",
    "\n",
    "# Verifying results\n",
    "data['hs_directory'].head(2)"
   ]
  },
  {
   "cell_type": "markdown",
   "metadata": {},
   "source": [
    "The **survey** data set has a `dbn` column that we'll want to convert to uppercase `DBN` to make it consistent with other dataframes."
   ]
  },
  {
   "cell_type": "code",
   "execution_count": 6,
   "metadata": {
    "collapsed": false
   },
   "outputs": [
    {
     "data": {
      "text/html": [
       "<div>\n",
       "<style scoped>\n",
       "    .dataframe tbody tr th:only-of-type {\n",
       "        vertical-align: middle;\n",
       "    }\n",
       "\n",
       "    .dataframe tbody tr th {\n",
       "        vertical-align: top;\n",
       "    }\n",
       "\n",
       "    .dataframe thead th {\n",
       "        text-align: right;\n",
       "    }\n",
       "</style>\n",
       "<table border=\"1\" class=\"dataframe\">\n",
       "  <thead>\n",
       "    <tr style=\"text-align: right;\">\n",
       "      <th></th>\n",
       "      <th>rr_s</th>\n",
       "      <th>rr_t</th>\n",
       "      <th>rr_p</th>\n",
       "      <th>N_s</th>\n",
       "      <th>N_t</th>\n",
       "      <th>N_p</th>\n",
       "      <th>saf_p_11</th>\n",
       "      <th>com_p_11</th>\n",
       "      <th>eng_p_11</th>\n",
       "      <th>aca_p_11</th>\n",
       "      <th>...</th>\n",
       "      <th>aca_t_11</th>\n",
       "      <th>saf_s_11</th>\n",
       "      <th>com_s_11</th>\n",
       "      <th>eng_s_11</th>\n",
       "      <th>aca_s_11</th>\n",
       "      <th>saf_tot_11</th>\n",
       "      <th>com_tot_11</th>\n",
       "      <th>eng_tot_11</th>\n",
       "      <th>aca_tot_11</th>\n",
       "      <th>DBN</th>\n",
       "    </tr>\n",
       "  </thead>\n",
       "  <tbody>\n",
       "    <tr>\n",
       "      <th>0</th>\n",
       "      <td>NaN</td>\n",
       "      <td>88</td>\n",
       "      <td>60</td>\n",
       "      <td>NaN</td>\n",
       "      <td>22.0</td>\n",
       "      <td>90.0</td>\n",
       "      <td>8.5</td>\n",
       "      <td>7.6</td>\n",
       "      <td>7.5</td>\n",
       "      <td>7.8</td>\n",
       "      <td>...</td>\n",
       "      <td>7.9</td>\n",
       "      <td>NaN</td>\n",
       "      <td>NaN</td>\n",
       "      <td>NaN</td>\n",
       "      <td>NaN</td>\n",
       "      <td>8.0</td>\n",
       "      <td>7.7</td>\n",
       "      <td>7.5</td>\n",
       "      <td>7.9</td>\n",
       "      <td>01M015</td>\n",
       "    </tr>\n",
       "    <tr>\n",
       "      <th>1</th>\n",
       "      <td>NaN</td>\n",
       "      <td>100</td>\n",
       "      <td>60</td>\n",
       "      <td>NaN</td>\n",
       "      <td>34.0</td>\n",
       "      <td>161.0</td>\n",
       "      <td>8.4</td>\n",
       "      <td>7.6</td>\n",
       "      <td>7.6</td>\n",
       "      <td>7.8</td>\n",
       "      <td>...</td>\n",
       "      <td>9.1</td>\n",
       "      <td>NaN</td>\n",
       "      <td>NaN</td>\n",
       "      <td>NaN</td>\n",
       "      <td>NaN</td>\n",
       "      <td>8.5</td>\n",
       "      <td>8.1</td>\n",
       "      <td>8.2</td>\n",
       "      <td>8.4</td>\n",
       "      <td>01M019</td>\n",
       "    </tr>\n",
       "  </tbody>\n",
       "</table>\n",
       "<p>2 rows × 23 columns</p>\n",
       "</div>"
      ],
      "text/plain": [
       "   rr_s  rr_t  rr_p  N_s   N_t    N_p  saf_p_11  com_p_11  eng_p_11  aca_p_11  \\\n",
       "0   NaN    88    60  NaN  22.0   90.0       8.5       7.6       7.5       7.8   \n",
       "1   NaN   100    60  NaN  34.0  161.0       8.4       7.6       7.6       7.8   \n",
       "\n",
       "    ...    aca_t_11  saf_s_11  com_s_11  eng_s_11  aca_s_11  saf_tot_11  \\\n",
       "0   ...         7.9       NaN       NaN       NaN       NaN         8.0   \n",
       "1   ...         9.1       NaN       NaN       NaN       NaN         8.5   \n",
       "\n",
       "   com_tot_11  eng_tot_11  aca_tot_11     DBN  \n",
       "0         7.7         7.5         7.9  01M015  \n",
       "1         8.1         8.2         8.4  01M019  \n",
       "\n",
       "[2 rows x 23 columns]"
      ]
     },
     "execution_count": 6,
     "metadata": {},
     "output_type": "execute_result"
    }
   ],
   "source": [
    "# Copying dbn column\n",
    "data['survey'][\"DBN\"] = data['survey'][\"dbn\"]\n",
    "\n",
    "# Deleting the dbn column\n",
    "data['survey'].drop(labels=['dbn'],axis=1,inplace=True)\n",
    "\n",
    "# Verifying results\n",
    "data['survey'].head(2)"
   ]
  },
  {
   "cell_type": "markdown",
   "metadata": {},
   "source": [
    "### Creating DBN column\n",
    "\n",
    "The **class_size data set** doesn't have a `DBN` column at all as is evident in the code block below."
   ]
  },
  {
   "cell_type": "code",
   "execution_count": 7,
   "metadata": {
    "collapsed": false
   },
   "outputs": [
    {
     "data": {
      "text/html": [
       "<div>\n",
       "<style scoped>\n",
       "    .dataframe tbody tr th:only-of-type {\n",
       "        vertical-align: middle;\n",
       "    }\n",
       "\n",
       "    .dataframe tbody tr th {\n",
       "        vertical-align: top;\n",
       "    }\n",
       "\n",
       "    .dataframe thead th {\n",
       "        text-align: right;\n",
       "    }\n",
       "</style>\n",
       "<table border=\"1\" class=\"dataframe\">\n",
       "  <thead>\n",
       "    <tr style=\"text-align: right;\">\n",
       "      <th></th>\n",
       "      <th>CSD</th>\n",
       "      <th>BOROUGH</th>\n",
       "      <th>SCHOOL CODE</th>\n",
       "      <th>SCHOOL NAME</th>\n",
       "      <th>GRADE</th>\n",
       "      <th>PROGRAM TYPE</th>\n",
       "      <th>CORE SUBJECT (MS CORE and 9-12 ONLY)</th>\n",
       "      <th>CORE COURSE (MS CORE and 9-12 ONLY)</th>\n",
       "      <th>NUMBER OF STUDENTS / SEATS FILLED</th>\n",
       "      <th>NUMBER OF SECTIONS</th>\n",
       "      <th>AVERAGE CLASS SIZE</th>\n",
       "      <th>SCHOOLWIDE PUPIL-TEACHER RATIO</th>\n",
       "    </tr>\n",
       "  </thead>\n",
       "  <tbody>\n",
       "    <tr>\n",
       "      <th>0</th>\n",
       "      <td>1</td>\n",
       "      <td>M</td>\n",
       "      <td>M015</td>\n",
       "      <td>P.S. 015 Roberto Clemente</td>\n",
       "      <td>0K</td>\n",
       "      <td>GEN ED</td>\n",
       "      <td>-</td>\n",
       "      <td>-</td>\n",
       "      <td>19.0</td>\n",
       "      <td>1.0</td>\n",
       "      <td>19.0</td>\n",
       "      <td>NaN</td>\n",
       "    </tr>\n",
       "    <tr>\n",
       "      <th>1</th>\n",
       "      <td>1</td>\n",
       "      <td>M</td>\n",
       "      <td>M015</td>\n",
       "      <td>P.S. 015 Roberto Clemente</td>\n",
       "      <td>0K</td>\n",
       "      <td>CTT</td>\n",
       "      <td>-</td>\n",
       "      <td>-</td>\n",
       "      <td>21.0</td>\n",
       "      <td>1.0</td>\n",
       "      <td>21.0</td>\n",
       "      <td>NaN</td>\n",
       "    </tr>\n",
       "  </tbody>\n",
       "</table>\n",
       "</div>"
      ],
      "text/plain": [
       "   CSD BOROUGH SCHOOL CODE                SCHOOL NAME GRADE  PROGRAM TYPE  \\\n",
       "0    1       M        M015  P.S. 015 Roberto Clemente     0K       GEN ED   \n",
       "1    1       M        M015  P.S. 015 Roberto Clemente     0K          CTT   \n",
       "\n",
       "  CORE SUBJECT (MS CORE and 9-12 ONLY) CORE COURSE (MS CORE and 9-12 ONLY)  \\\n",
       "0                                    -                                   -   \n",
       "1                                    -                                   -   \n",
       "\n",
       "   NUMBER OF STUDENTS / SEATS FILLED  NUMBER OF SECTIONS  AVERAGE CLASS SIZE  \\\n",
       "0                               19.0                 1.0                19.0   \n",
       "1                               21.0                 1.0                21.0   \n",
       "\n",
       "   SCHOOLWIDE PUPIL-TEACHER RATIO  \n",
       "0                             NaN  \n",
       "1                             NaN  "
      ]
     },
     "execution_count": 7,
     "metadata": {},
     "output_type": "execute_result"
    }
   ],
   "source": [
    "# class_size data set\n",
    "data['class_size'].head(2)"
   ]
  },
  {
   "cell_type": "markdown",
   "metadata": {},
   "source": [
    "In the code below, we can see that the `DBN` column in **sat_results** is a combination of `CSD` and `SCHOOL CODE` columns from the **class_size** data set. Also, the `DBN` column is padded, as the `CSD` portion of it consists of two digits."
   ]
  },
  {
   "cell_type": "code",
   "execution_count": 8,
   "metadata": {
    "collapsed": false
   },
   "outputs": [
    {
     "data": {
      "text/html": [
       "<div>\n",
       "<style scoped>\n",
       "    .dataframe tbody tr th:only-of-type {\n",
       "        vertical-align: middle;\n",
       "    }\n",
       "\n",
       "    .dataframe tbody tr th {\n",
       "        vertical-align: top;\n",
       "    }\n",
       "\n",
       "    .dataframe thead th {\n",
       "        text-align: right;\n",
       "    }\n",
       "</style>\n",
       "<table border=\"1\" class=\"dataframe\">\n",
       "  <thead>\n",
       "    <tr style=\"text-align: right;\">\n",
       "      <th></th>\n",
       "      <th>DBN</th>\n",
       "      <th>SCHOOL NAME</th>\n",
       "      <th>Num of SAT Test Takers</th>\n",
       "      <th>SAT Critical Reading Avg. Score</th>\n",
       "      <th>SAT Math Avg. Score</th>\n",
       "      <th>SAT Writing Avg. Score</th>\n",
       "    </tr>\n",
       "  </thead>\n",
       "  <tbody>\n",
       "    <tr>\n",
       "      <th>0</th>\n",
       "      <td>01M292</td>\n",
       "      <td>HENRY STREET SCHOOL FOR INTERNATIONAL STUDIES</td>\n",
       "      <td>29</td>\n",
       "      <td>355</td>\n",
       "      <td>404</td>\n",
       "      <td>363</td>\n",
       "    </tr>\n",
       "    <tr>\n",
       "      <th>1</th>\n",
       "      <td>01M448</td>\n",
       "      <td>UNIVERSITY NEIGHBORHOOD HIGH SCHOOL</td>\n",
       "      <td>91</td>\n",
       "      <td>383</td>\n",
       "      <td>423</td>\n",
       "      <td>366</td>\n",
       "    </tr>\n",
       "  </tbody>\n",
       "</table>\n",
       "</div>"
      ],
      "text/plain": [
       "      DBN                                    SCHOOL NAME  \\\n",
       "0  01M292  HENRY STREET SCHOOL FOR INTERNATIONAL STUDIES   \n",
       "1  01M448            UNIVERSITY NEIGHBORHOOD HIGH SCHOOL   \n",
       "\n",
       "  Num of SAT Test Takers SAT Critical Reading Avg. Score SAT Math Avg. Score  \\\n",
       "0                     29                             355                 404   \n",
       "1                     91                             383                 423   \n",
       "\n",
       "  SAT Writing Avg. Score  \n",
       "0                    363  \n",
       "1                    366  "
      ]
     },
     "execution_count": 8,
     "metadata": {},
     "output_type": "execute_result"
    }
   ],
   "source": [
    "# sat_results data set\n",
    "data['sat_results'].head(2)"
   ]
  },
  {
   "cell_type": "markdown",
   "metadata": {},
   "source": [
    "So, in order to create the `DBN` column for the **class_size** data set, we will do the following:\n",
    "\n",
    "1. Turn the `CSD` into `Padded CSD` if the `CSD` column consists of a single digit.\n",
    "\n",
    "|CSD|Padded CSD|\n",
    "|---|----------|\n",
    "| 1 |    01    |\n",
    "\n",
    "2. Add the `Padded CSD` and `SCHOOL CODE` columns to create the DBN column.\n",
    "\n",
    "|Padded CSD|SCHOOL CODE|DBN|\n",
    "|----------|-----------|---|\n",
    "|    01    |   M015    |01M015|"
   ]
  },
  {
   "cell_type": "code",
   "execution_count": 9,
   "metadata": {
    "collapsed": false
   },
   "outputs": [
    {
     "data": {
      "text/plain": [
       "15K429    57\n",
       "09X505    56\n",
       "09X517    56\n",
       "15K448    52\n",
       "21K690    52\n",
       "10X243    51\n",
       "25Q425    51\n",
       "26Q430    49\n",
       "02M655    49\n",
       "10X141    49\n",
       "30Q445    47\n",
       "25Q285    47\n",
       "20K490    47\n",
       "08X405    47\n",
       "21K525    46\n",
       "22K405    46\n",
       "31R460    46\n",
       "31R455    46\n",
       "31R440    46\n",
       "14K586    46\n",
       "30Q450    45\n",
       "22K495    45\n",
       "01M292    45\n",
       "10X095    44\n",
       "27Q410    44\n",
       "31R445    44\n",
       "21K540    44\n",
       "14K071    44\n",
       "27Q475    44\n",
       "10X368    44\n",
       "          ..\n",
       "14K319     5\n",
       "16K628     5\n",
       "02M413     5\n",
       "13K301     5\n",
       "17K770     5\n",
       "31R074     5\n",
       "27Q051     5\n",
       "22K326     5\n",
       "20K748     4\n",
       "20K686     4\n",
       "01M364     4\n",
       "12X198     4\n",
       "03M417     4\n",
       "03M402     4\n",
       "24Q330     4\n",
       "20K310     4\n",
       "02M407     4\n",
       "30Q280     4\n",
       "10X079     4\n",
       "04M964     3\n",
       "20K971     3\n",
       "03M452     3\n",
       "24Q290     3\n",
       "02M397     3\n",
       "16K534     3\n",
       "27Q273     3\n",
       "20K264     3\n",
       "27Q465     2\n",
       "02M267     2\n",
       "09X090     2\n",
       "Name: DBN, Length: 1487, dtype: int64"
      ]
     },
     "execution_count": 9,
     "metadata": {},
     "output_type": "execute_result"
    }
   ],
   "source": [
    "# Creating the DBN column for class_size \n",
    "data[\"class_size\"][\"padded_csd\"] = data[\"class_size\"][\"CSD\"].apply(lambda x: str(x).zfill(2)) # padding CSD\n",
    "data[\"class_size\"][\"DBN\"] = data[\"class_size\"][\"padded_csd\"] + data[\"class_size\"][\"SCHOOL CODE\"] # creating DBN column\n",
    "\n",
    "# Removing the padded_csd column\n",
    "data['class_size'].drop(labels=['padded_csd'],axis=1,inplace=True)\n",
    "\n",
    "# Verifying results\n",
    "data[\"class_size\"][\"DBN\"].value_counts()"
   ]
  },
  {
   "cell_type": "markdown",
   "metadata": {},
   "source": [
    "### Creating Comprehensive SAT Scores\n",
    "\n",
    "For the **sat_results** data set we will create a column that totals up the SAT scores for the different sections of the exam. We can use this column to correlate scores with other demographic factors because we'll be working with a single number, rather than three different ones.\n",
    "\n",
    "To accomplish this, we'll add the three SAT score columns to create a comprehensive score. First, we'll have to convert the columns to numeric datatype, and then we'll add the columns."
   ]
  },
  {
   "cell_type": "code",
   "execution_count": 10,
   "metadata": {
    "collapsed": false
   },
   "outputs": [
    {
     "data": {
      "text/plain": [
       "<matplotlib.axes._subplots.AxesSubplot at 0x7f9d95427048>"
      ]
     },
     "execution_count": 10,
     "metadata": {},
     "output_type": "execute_result"
    }
   ],
   "source": [
    "# Converting individual sat score columns to numeric\n",
    "data[\"sat_results\"][\"SAT Math Avg. Score\"] = pd.to_numeric(data[\"sat_results\"][\"SAT Math Avg. Score\"],errors=\"coerce\")\n",
    "data[\"sat_results\"][\"SAT Critical Reading Avg. Score\"] = pd.to_numeric(data[\"sat_results\"][\"SAT Critical Reading Avg. Score\"],errors=\"coerce\")\n",
    "data[\"sat_results\"][\"SAT Writing Avg. Score\"] = pd.to_numeric(data[\"sat_results\"][\"SAT Writing Avg. Score\"], errors=\"coerce\")\n",
    "\n",
    "# Creating comprehensive sat score column\n",
    "data[\"sat_results\"][\"sat_score\"] = data[\"sat_results\"][\"SAT Math Avg. Score\"] + data[\"sat_results\"][\"SAT Critical Reading Avg. Score\"] + data[\"sat_results\"][\"SAT Writing Avg. Score\"]\n",
    "\n",
    "# Verifying results\n",
    "data[\"sat_results\"].boxplot(column='sat_score')"
   ]
  },
  {
   "cell_type": "markdown",
   "metadata": {},
   "source": [
    "All values within `sat_score` are within range (0-2400) with no outliers."
   ]
  },
  {
   "cell_type": "markdown",
   "metadata": {},
   "source": [
    "### Parsing Coordinates\n",
    "\n",
    "For the **hs_directory** data set we'll want to parse the latitude and longitude coordinates for each school. This will enable us to map schools and uncover any geographic patterns in the data. The coordinates are currently in the text field `Location 1` in the **hs_directory** data set.\n",
    "\n",
    "Let's take a look at a sample for the `Location 1` column in the **hs_directory** data set."
   ]
  },
  {
   "cell_type": "code",
   "execution_count": 11,
   "metadata": {
    "collapsed": false
   },
   "outputs": [
    {
     "data": {
      "text/plain": [
       "'883 Classon Avenue\\nBrooklyn, NY 11225\\n(40.67029890700047, -73.96164787599963)'"
      ]
     },
     "execution_count": 11,
     "metadata": {},
     "output_type": "execute_result"
    }
   ],
   "source": [
    "# hs_directory data set\n",
    "data['hs_directory']['Location 1'][0]"
   ]
  },
  {
   "cell_type": "markdown",
   "metadata": {},
   "source": [
    "The field contains a lot of information, and we just want to extract the coordinates, which will help us pinpoint any location on earth. We will use regular expression to extract the coordinates."
   ]
  },
  {
   "cell_type": "code",
   "execution_count": 12,
   "metadata": {
    "collapsed": false
   },
   "outputs": [
    {
     "name": "stdout",
     "output_type": "stream",
     "text": [
      "latitude     float64\n",
      "longitude    float64\n",
      "dtype: object\n"
     ]
    },
    {
     "data": {
      "text/html": [
       "<div>\n",
       "<style scoped>\n",
       "    .dataframe tbody tr th:only-of-type {\n",
       "        vertical-align: middle;\n",
       "    }\n",
       "\n",
       "    .dataframe tbody tr th {\n",
       "        vertical-align: top;\n",
       "    }\n",
       "\n",
       "    .dataframe thead th {\n",
       "        text-align: right;\n",
       "    }\n",
       "</style>\n",
       "<table border=\"1\" class=\"dataframe\">\n",
       "  <thead>\n",
       "    <tr style=\"text-align: right;\">\n",
       "      <th></th>\n",
       "      <th>school_name</th>\n",
       "      <th>boro</th>\n",
       "      <th>grade_span_min</th>\n",
       "      <th>grade_span_max</th>\n",
       "      <th>primary_address_line_1</th>\n",
       "      <th>city</th>\n",
       "      <th>total_students</th>\n",
       "      <th>campus_name</th>\n",
       "      <th>school_type</th>\n",
       "      <th>language_classes</th>\n",
       "      <th>...</th>\n",
       "      <th>partner_financial</th>\n",
       "      <th>partner_other</th>\n",
       "      <th>se_services</th>\n",
       "      <th>ell_programs</th>\n",
       "      <th>school_accessibility_description</th>\n",
       "      <th>number_programs</th>\n",
       "      <th>Location 1</th>\n",
       "      <th>DBN</th>\n",
       "      <th>latitude</th>\n",
       "      <th>longitude</th>\n",
       "    </tr>\n",
       "  </thead>\n",
       "  <tbody>\n",
       "    <tr>\n",
       "      <th>0</th>\n",
       "      <td>Brooklyn School for Music &amp; Theatre</td>\n",
       "      <td>Brooklyn</td>\n",
       "      <td>9</td>\n",
       "      <td>12</td>\n",
       "      <td>883 Classon Avenue</td>\n",
       "      <td>Brooklyn</td>\n",
       "      <td>399.0</td>\n",
       "      <td>Prospect Heights Educational Campus</td>\n",
       "      <td>NaN</td>\n",
       "      <td>Spanish</td>\n",
       "      <td>...</td>\n",
       "      <td>NaN</td>\n",
       "      <td>NaN</td>\n",
       "      <td>This school will provide students with disabil...</td>\n",
       "      <td>ESL</td>\n",
       "      <td>Functionally Accessible</td>\n",
       "      <td>1</td>\n",
       "      <td>883 Classon Avenue\\nBrooklyn, NY 11225\\n(40.67...</td>\n",
       "      <td>17K548</td>\n",
       "      <td>40.670299</td>\n",
       "      <td>-73.961648</td>\n",
       "    </tr>\n",
       "    <tr>\n",
       "      <th>1</th>\n",
       "      <td>High School for Violin and Dance</td>\n",
       "      <td>Bronx</td>\n",
       "      <td>9</td>\n",
       "      <td>12</td>\n",
       "      <td>1110 Boston Road</td>\n",
       "      <td>Bronx</td>\n",
       "      <td>378.0</td>\n",
       "      <td>Morris Educational Campus</td>\n",
       "      <td>NaN</td>\n",
       "      <td>Spanish</td>\n",
       "      <td>...</td>\n",
       "      <td>NaN</td>\n",
       "      <td>Bronx Cares</td>\n",
       "      <td>This school will provide students with disabil...</td>\n",
       "      <td>ESL</td>\n",
       "      <td>Functionally Accessible</td>\n",
       "      <td>1</td>\n",
       "      <td>1110 Boston Road\\nBronx, NY 10456\\n(40.8276026...</td>\n",
       "      <td>09X543</td>\n",
       "      <td>40.827603</td>\n",
       "      <td>-73.904475</td>\n",
       "    </tr>\n",
       "    <tr>\n",
       "      <th>2</th>\n",
       "      <td>Comprehensive Model School Project M.S. 327</td>\n",
       "      <td>Bronx</td>\n",
       "      <td>6</td>\n",
       "      <td>12</td>\n",
       "      <td>1501 Jerome Avenue</td>\n",
       "      <td>Bronx</td>\n",
       "      <td>543.0</td>\n",
       "      <td>DOE New Settlement Community Campus</td>\n",
       "      <td>NaN</td>\n",
       "      <td>Spanish</td>\n",
       "      <td>...</td>\n",
       "      <td>NaN</td>\n",
       "      <td>NaN</td>\n",
       "      <td>This school will provide students with disabil...</td>\n",
       "      <td>ESL</td>\n",
       "      <td>Functionally Accessible</td>\n",
       "      <td>1</td>\n",
       "      <td>1501 Jerome Avenue\\nBronx, NY 10452\\n(40.84241...</td>\n",
       "      <td>09X327</td>\n",
       "      <td>40.842414</td>\n",
       "      <td>-73.916162</td>\n",
       "    </tr>\n",
       "    <tr>\n",
       "      <th>3</th>\n",
       "      <td>Manhattan Early College School for Advertising</td>\n",
       "      <td>Manhattan</td>\n",
       "      <td>9</td>\n",
       "      <td>10</td>\n",
       "      <td>411 Pearl Street</td>\n",
       "      <td>New York</td>\n",
       "      <td>NaN</td>\n",
       "      <td>Murry Bergtraum Educational Campus</td>\n",
       "      <td>NYC P-Tech 9-14, New School</td>\n",
       "      <td>N/A (Expected: Chinese [Mandarin], French, Spa...</td>\n",
       "      <td>...</td>\n",
       "      <td>NaN</td>\n",
       "      <td>NaN</td>\n",
       "      <td>This school will provide students with disabil...</td>\n",
       "      <td>ESL</td>\n",
       "      <td>Functionally Accessible</td>\n",
       "      <td>1</td>\n",
       "      <td>411 Pearl Street\\nNew York, NY 10038\\n(40.7106...</td>\n",
       "      <td>02M280</td>\n",
       "      <td>40.710679</td>\n",
       "      <td>-74.000807</td>\n",
       "    </tr>\n",
       "    <tr>\n",
       "      <th>4</th>\n",
       "      <td>Queens Gateway to Health Sciences Secondary Sc...</td>\n",
       "      <td>Queens</td>\n",
       "      <td>6</td>\n",
       "      <td>12</td>\n",
       "      <td>160-20 Goethals Avenue</td>\n",
       "      <td>Jamaica</td>\n",
       "      <td>811.0</td>\n",
       "      <td>NaN</td>\n",
       "      <td>NaN</td>\n",
       "      <td>Spanish</td>\n",
       "      <td>...</td>\n",
       "      <td>Working in Support of Education (W!SE)- Financ...</td>\n",
       "      <td>NaN</td>\n",
       "      <td>This school will provide students with disabil...</td>\n",
       "      <td>ESL</td>\n",
       "      <td>Functionally Accessible</td>\n",
       "      <td>1</td>\n",
       "      <td>160-20 Goethals Avenue\\nJamaica, NY 11432\\n(40...</td>\n",
       "      <td>28Q680</td>\n",
       "      <td>40.718810</td>\n",
       "      <td>-73.806500</td>\n",
       "    </tr>\n",
       "  </tbody>\n",
       "</table>\n",
       "<p>5 rows × 30 columns</p>\n",
       "</div>"
      ],
      "text/plain": [
       "                                         school_name       boro  \\\n",
       "0                Brooklyn School for Music & Theatre   Brooklyn   \n",
       "1                   High School for Violin and Dance      Bronx   \n",
       "2        Comprehensive Model School Project M.S. 327      Bronx   \n",
       "3     Manhattan Early College School for Advertising  Manhattan   \n",
       "4  Queens Gateway to Health Sciences Secondary Sc...     Queens   \n",
       "\n",
       "  grade_span_min  grade_span_max  primary_address_line_1      city  \\\n",
       "0              9              12      883 Classon Avenue  Brooklyn   \n",
       "1              9              12        1110 Boston Road     Bronx   \n",
       "2              6              12      1501 Jerome Avenue     Bronx   \n",
       "3              9              10        411 Pearl Street  New York   \n",
       "4              6              12  160-20 Goethals Avenue   Jamaica   \n",
       "\n",
       "   total_students                          campus_name  \\\n",
       "0           399.0  Prospect Heights Educational Campus   \n",
       "1           378.0            Morris Educational Campus   \n",
       "2           543.0  DOE New Settlement Community Campus   \n",
       "3             NaN   Murry Bergtraum Educational Campus   \n",
       "4           811.0                                  NaN   \n",
       "\n",
       "                   school_type  \\\n",
       "0                          NaN   \n",
       "1                          NaN   \n",
       "2                          NaN   \n",
       "3  NYC P-Tech 9-14, New School   \n",
       "4                          NaN   \n",
       "\n",
       "                                    language_classes    ...      \\\n",
       "0                                            Spanish    ...       \n",
       "1                                            Spanish    ...       \n",
       "2                                            Spanish    ...       \n",
       "3  N/A (Expected: Chinese [Mandarin], French, Spa...    ...       \n",
       "4                                            Spanish    ...       \n",
       "\n",
       "                                   partner_financial partner_other  \\\n",
       "0                                                NaN           NaN   \n",
       "1                                                NaN   Bronx Cares   \n",
       "2                                                NaN           NaN   \n",
       "3                                                NaN           NaN   \n",
       "4  Working in Support of Education (W!SE)- Financ...           NaN   \n",
       "\n",
       "                                         se_services ell_programs  \\\n",
       "0  This school will provide students with disabil...          ESL   \n",
       "1  This school will provide students with disabil...          ESL   \n",
       "2  This school will provide students with disabil...          ESL   \n",
       "3  This school will provide students with disabil...          ESL   \n",
       "4  This school will provide students with disabil...          ESL   \n",
       "\n",
       "  school_accessibility_description number_programs  \\\n",
       "0          Functionally Accessible               1   \n",
       "1          Functionally Accessible               1   \n",
       "2          Functionally Accessible               1   \n",
       "3          Functionally Accessible               1   \n",
       "4          Functionally Accessible               1   \n",
       "\n",
       "                                          Location 1     DBN   latitude  \\\n",
       "0  883 Classon Avenue\\nBrooklyn, NY 11225\\n(40.67...  17K548  40.670299   \n",
       "1  1110 Boston Road\\nBronx, NY 10456\\n(40.8276026...  09X543  40.827603   \n",
       "2  1501 Jerome Avenue\\nBronx, NY 10452\\n(40.84241...  09X327  40.842414   \n",
       "3  411 Pearl Street\\nNew York, NY 10038\\n(40.7106...  02M280  40.710679   \n",
       "4  160-20 Goethals Avenue\\nJamaica, NY 11432\\n(40...  28Q680  40.718810   \n",
       "\n",
       "   longitude  \n",
       "0 -73.961648  \n",
       "1 -73.904475  \n",
       "2 -73.916162  \n",
       "3 -74.000807  \n",
       "4 -73.806500  \n",
       "\n",
       "[5 rows x 30 columns]"
      ]
     },
     "execution_count": 12,
     "metadata": {},
     "output_type": "execute_result"
    }
   ],
   "source": [
    "# Importing re module\n",
    "import re\n",
    "\n",
    "# Defining function to extract coordinates\n",
    "def get_lat(string): # latitude function\n",
    "    return re.findall(\"\\(.+\\)\",string)[0].replace(\"(\",\"\").replace(\")\",\"\").replace(\",\",\"\").split()[0]\n",
    "\n",
    "def get_long(string): # longitude function\n",
    "    return re.findall(\"\\(.+\\)\",string)[0].replace(\"(\",\"\").replace(\")\",\"\").replace(\",\",\"\").split()[1]\n",
    "\n",
    "# Creating the \"latitude\" and \"longitude\" column in the hs_directory data set\n",
    "data[\"hs_directory\"][\"latitude\"] = data[\"hs_directory\"][\"Location 1\"].apply(get_lat)\n",
    "data[\"hs_directory\"][\"longitude\"] = data[\"hs_directory\"][\"Location 1\"].apply(get_long)\n",
    "\n",
    "# Converting the \"latitude\" and \"longitude\" column to numeric datatype\n",
    "data[\"hs_directory\"][\"longitude\"] = pd.to_numeric(data[\"hs_directory\"][\"longitude\"],errors=\"coerce\")\n",
    "data[\"hs_directory\"][\"latitude\"] = pd.to_numeric(data[\"hs_directory\"][\"latitude\"],errors=\"coerce\")\n",
    "\n",
    "# Verifying results\n",
    "print(data[\"hs_directory\"][[\"latitude\",'longitude']].dtypes)\n",
    "data[\"hs_directory\"].head(5)"
   ]
  },
  {
   "cell_type": "markdown",
   "metadata": {},
   "source": [
    "### Converting Columns to Numeric datatype\n",
    "\n",
    "For the **ap_2010 data set** we need to convert the Advanced Placement (AP) test scores from strings to numeric values. High school students take the AP exams before applying to college. There are several AP exams, each corresponding to a school subject. High school students who earn high scores may receive college credit.\n",
    "\n",
    "AP exams have a 1 to 5 scale; 3 or higher is a passing score. Many high school students take AP exams -- particularly those who attend academically challenging institutions. AP exams are much more rare in schools that lack funding or academic rigor.\n",
    "\n",
    "It will be interesting to find out whether AP exam scores are correlated with SAT scores across high schools. To determine this, we'll need to convert the AP exam scores in the **ap_2010** data set to numeric values first.\n",
    "\n",
    "There are three columns we'll need to convert:\n",
    "\n",
    "* `AP Test Takers` (note that there's a trailing space in the column name)\n",
    "* `Total Exams Taken`\n",
    "* `Number of Exams with scores 3 4 or 5`"
   ]
  },
  {
   "cell_type": "code",
   "execution_count": 13,
   "metadata": {
    "collapsed": false
   },
   "outputs": [
    {
     "data": {
      "text/plain": [
       "DBN                                      object\n",
       "SchoolName                               object\n",
       "AP Test Takers                          float64\n",
       "Total Exams Taken                       float64\n",
       "Number of Exams with scores 3 4 or 5    float64\n",
       "dtype: object"
      ]
     },
     "execution_count": 13,
     "metadata": {},
     "output_type": "execute_result"
    }
   ],
   "source": [
    "# Columns to convert\n",
    "cols = ['AP Test Takers ', 'Total Exams Taken', 'Number of Exams with scores 3 4 or 5'] \n",
    "\n",
    "# Converting columns to numeric\n",
    "for col in cols:\n",
    "    data[\"ap_2010\"][col] = pd.to_numeric(data[\"ap_2010\"][col], errors=\"coerce\")\n",
    "    \n",
    "# Verifying results\n",
    "data[\"ap_2010\"].dtypes"
   ]
  },
  {
   "cell_type": "markdown",
   "metadata": {},
   "source": [
    "## Condensing Data Sets\n",
    "\n",
    "We will be combining data sets based on the `DBN` column. We'll need to condense data sets so that each value in the `DBN` column is unique. If not, we'll run into issues when it comes time to combine data sets.\n",
    "\n",
    "A single row in the **sat_results** data set may match multiple rows in the **class_size** data set. This situation will create problems because we don't know which of the multiple entries in the **class_size** data set we should combine with the single matching entry in **sat_results**. The table illustrates the problem well:\n",
    "\n",
    "|sat_results DBN|class_size DBN|\n",
    "|---------------|--------------|\n",
    "|01M022         |01M022        |\n",
    "|05M345         |01M022        |\n",
    "|02M456         |05M345        |\n",
    "|99M520         |05M345        |\n",
    "\n",
    "As we can see, there are multiple entries for the same `DBN` in the **class_size** data set.\n",
    "\n",
    "The following data sets don't have unique `DBN` columns:\n",
    " * **ap_2010**\n",
    " * **class_size**\n",
    " * **demographics**\n",
    " * **graduation**"
   ]
  },
  {
   "cell_type": "markdown",
   "metadata": {},
   "source": [
    "### Condensing `ap_2010` data set"
   ]
  },
  {
   "cell_type": "code",
   "execution_count": 14,
   "metadata": {
    "collapsed": false
   },
   "outputs": [
    {
     "name": "stdout",
     "output_type": "stream",
     "text": [
      "04M610    2\n",
      "Name: DBN, dtype: int64\n"
     ]
    },
    {
     "data": {
      "text/html": [
       "<div>\n",
       "<style scoped>\n",
       "    .dataframe tbody tr th:only-of-type {\n",
       "        vertical-align: middle;\n",
       "    }\n",
       "\n",
       "    .dataframe tbody tr th {\n",
       "        vertical-align: top;\n",
       "    }\n",
       "\n",
       "    .dataframe thead th {\n",
       "        text-align: right;\n",
       "    }\n",
       "</style>\n",
       "<table border=\"1\" class=\"dataframe\">\n",
       "  <thead>\n",
       "    <tr style=\"text-align: right;\">\n",
       "      <th></th>\n",
       "      <th>DBN</th>\n",
       "      <th>SchoolName</th>\n",
       "      <th>AP Test Takers</th>\n",
       "      <th>Total Exams Taken</th>\n",
       "      <th>Number of Exams with scores 3 4 or 5</th>\n",
       "    </tr>\n",
       "  </thead>\n",
       "  <tbody>\n",
       "    <tr>\n",
       "      <th>51</th>\n",
       "      <td>04M610</td>\n",
       "      <td>THE YOUNG WOMEN'S LEADERSHIP SCHOOL OF EAST HA...</td>\n",
       "      <td>41.0</td>\n",
       "      <td>55.0</td>\n",
       "      <td>29.0</td>\n",
       "    </tr>\n",
       "    <tr>\n",
       "      <th>52</th>\n",
       "      <td>04M610</td>\n",
       "      <td>YOUNG WOMEN'S LEADERSHIP SCH</td>\n",
       "      <td>NaN</td>\n",
       "      <td>NaN</td>\n",
       "      <td>NaN</td>\n",
       "    </tr>\n",
       "  </tbody>\n",
       "</table>\n",
       "</div>"
      ],
      "text/plain": [
       "       DBN                                         SchoolName  \\\n",
       "51  04M610  THE YOUNG WOMEN'S LEADERSHIP SCHOOL OF EAST HA...   \n",
       "52  04M610                       YOUNG WOMEN'S LEADERSHIP SCH   \n",
       "\n",
       "    AP Test Takers   Total Exams Taken  Number of Exams with scores 3 4 or 5  \n",
       "51             41.0               55.0                                  29.0  \n",
       "52              NaN                NaN                                   NaN  "
      ]
     },
     "execution_count": 14,
     "metadata": {},
     "output_type": "execute_result"
    }
   ],
   "source": [
    "# Finding duplicate values\n",
    "duplicate_ap_2010 = data['ap_2010']['DBN'].value_counts()\n",
    "print(duplicate_ap_2010[duplicate_ap_2010 > 1])\n",
    "\n",
    "# Displaying results\n",
    "data['ap_2010'][data['ap_2010']['DBN']=='04M610']"
   ]
  },
  {
   "cell_type": "markdown",
   "metadata": {},
   "source": [
    "It seems that the second row is a wrong entry with missing values. So we will remove it."
   ]
  },
  {
   "cell_type": "code",
   "execution_count": 15,
   "metadata": {
    "collapsed": false
   },
   "outputs": [
    {
     "data": {
      "text/html": [
       "<div>\n",
       "<style scoped>\n",
       "    .dataframe tbody tr th:only-of-type {\n",
       "        vertical-align: middle;\n",
       "    }\n",
       "\n",
       "    .dataframe tbody tr th {\n",
       "        vertical-align: top;\n",
       "    }\n",
       "\n",
       "    .dataframe thead th {\n",
       "        text-align: right;\n",
       "    }\n",
       "</style>\n",
       "<table border=\"1\" class=\"dataframe\">\n",
       "  <thead>\n",
       "    <tr style=\"text-align: right;\">\n",
       "      <th></th>\n",
       "      <th>DBN</th>\n",
       "      <th>SchoolName</th>\n",
       "      <th>AP Test Takers</th>\n",
       "      <th>Total Exams Taken</th>\n",
       "      <th>Number of Exams with scores 3 4 or 5</th>\n",
       "    </tr>\n",
       "  </thead>\n",
       "  <tbody>\n",
       "    <tr>\n",
       "      <th>51</th>\n",
       "      <td>04M610</td>\n",
       "      <td>THE YOUNG WOMEN'S LEADERSHIP SCHOOL OF EAST HA...</td>\n",
       "      <td>41.0</td>\n",
       "      <td>55.0</td>\n",
       "      <td>29.0</td>\n",
       "    </tr>\n",
       "  </tbody>\n",
       "</table>\n",
       "</div>"
      ],
      "text/plain": [
       "       DBN                                         SchoolName  \\\n",
       "51  04M610  THE YOUNG WOMEN'S LEADERSHIP SCHOOL OF EAST HA...   \n",
       "\n",
       "    AP Test Takers   Total Exams Taken  Number of Exams with scores 3 4 or 5  \n",
       "51             41.0               55.0                                  29.0  "
      ]
     },
     "execution_count": 15,
     "metadata": {},
     "output_type": "execute_result"
    }
   ],
   "source": [
    "# Removing row 52\n",
    "data['ap_2010'].drop(index=52,axis=0,inplace=True)\n",
    "\n",
    "# Verifying results\n",
    "data['ap_2010'][data['ap_2010']['DBN']=='04M610']"
   ]
  },
  {
   "cell_type": "markdown",
   "metadata": {},
   "source": [
    "### Condensing **class_size** data set"
   ]
  },
  {
   "cell_type": "code",
   "execution_count": 16,
   "metadata": {
    "collapsed": false
   },
   "outputs": [
    {
     "data": {
      "text/plain": [
       "15K429    57\n",
       "09X505    56\n",
       "09X517    56\n",
       "15K448    52\n",
       "21K690    52\n",
       "10X243    51\n",
       "25Q425    51\n",
       "26Q430    49\n",
       "02M655    49\n",
       "10X141    49\n",
       "30Q445    47\n",
       "25Q285    47\n",
       "20K490    47\n",
       "08X405    47\n",
       "21K525    46\n",
       "22K405    46\n",
       "31R460    46\n",
       "31R455    46\n",
       "31R440    46\n",
       "14K586    46\n",
       "30Q450    45\n",
       "22K495    45\n",
       "01M292    45\n",
       "10X095    44\n",
       "27Q410    44\n",
       "31R445    44\n",
       "21K540    44\n",
       "14K071    44\n",
       "27Q475    44\n",
       "10X368    44\n",
       "          ..\n",
       "14K319     5\n",
       "16K628     5\n",
       "02M413     5\n",
       "13K301     5\n",
       "17K770     5\n",
       "31R074     5\n",
       "27Q051     5\n",
       "22K326     5\n",
       "20K748     4\n",
       "20K686     4\n",
       "01M364     4\n",
       "12X198     4\n",
       "03M417     4\n",
       "03M402     4\n",
       "24Q330     4\n",
       "20K310     4\n",
       "02M407     4\n",
       "30Q280     4\n",
       "10X079     4\n",
       "04M964     3\n",
       "20K971     3\n",
       "03M452     3\n",
       "24Q290     3\n",
       "02M397     3\n",
       "16K534     3\n",
       "27Q273     3\n",
       "20K264     3\n",
       "27Q465     2\n",
       "02M267     2\n",
       "09X090     2\n",
       "Name: DBN, Length: 1487, dtype: int64"
      ]
     },
     "execution_count": 16,
     "metadata": {},
     "output_type": "execute_result"
    }
   ],
   "source": [
    "# Checking duplicates\n",
    "duplicate_class_size = data['class_size']['DBN'].value_counts()\n",
    "duplicate_class_size[duplicate_class_size > 1]"
   ]
  },
  {
   "cell_type": "markdown",
   "metadata": {},
   "source": [
    "There are multiple duplicates in the **class_size** data set. Lets take a look at some rows."
   ]
  },
  {
   "cell_type": "code",
   "execution_count": 17,
   "metadata": {
    "collapsed": false
   },
   "outputs": [
    {
     "data": {
      "text/html": [
       "<div>\n",
       "<style scoped>\n",
       "    .dataframe tbody tr th:only-of-type {\n",
       "        vertical-align: middle;\n",
       "    }\n",
       "\n",
       "    .dataframe tbody tr th {\n",
       "        vertical-align: top;\n",
       "    }\n",
       "\n",
       "    .dataframe thead th {\n",
       "        text-align: right;\n",
       "    }\n",
       "</style>\n",
       "<table border=\"1\" class=\"dataframe\">\n",
       "  <thead>\n",
       "    <tr style=\"text-align: right;\">\n",
       "      <th></th>\n",
       "      <th>CSD</th>\n",
       "      <th>BOROUGH</th>\n",
       "      <th>SCHOOL CODE</th>\n",
       "      <th>SCHOOL NAME</th>\n",
       "      <th>GRADE</th>\n",
       "      <th>PROGRAM TYPE</th>\n",
       "      <th>CORE SUBJECT (MS CORE and 9-12 ONLY)</th>\n",
       "      <th>CORE COURSE (MS CORE and 9-12 ONLY)</th>\n",
       "      <th>NUMBER OF STUDENTS / SEATS FILLED</th>\n",
       "      <th>NUMBER OF SECTIONS</th>\n",
       "      <th>AVERAGE CLASS SIZE</th>\n",
       "      <th>SCHOOLWIDE PUPIL-TEACHER RATIO</th>\n",
       "      <th>DBN</th>\n",
       "    </tr>\n",
       "  </thead>\n",
       "  <tbody>\n",
       "    <tr>\n",
       "      <th>0</th>\n",
       "      <td>1</td>\n",
       "      <td>M</td>\n",
       "      <td>M015</td>\n",
       "      <td>P.S. 015 Roberto Clemente</td>\n",
       "      <td>0K</td>\n",
       "      <td>GEN ED</td>\n",
       "      <td>-</td>\n",
       "      <td>-</td>\n",
       "      <td>19.0</td>\n",
       "      <td>1.0</td>\n",
       "      <td>19.0</td>\n",
       "      <td>NaN</td>\n",
       "      <td>01M015</td>\n",
       "    </tr>\n",
       "    <tr>\n",
       "      <th>1</th>\n",
       "      <td>1</td>\n",
       "      <td>M</td>\n",
       "      <td>M015</td>\n",
       "      <td>P.S. 015 Roberto Clemente</td>\n",
       "      <td>0K</td>\n",
       "      <td>CTT</td>\n",
       "      <td>-</td>\n",
       "      <td>-</td>\n",
       "      <td>21.0</td>\n",
       "      <td>1.0</td>\n",
       "      <td>21.0</td>\n",
       "      <td>NaN</td>\n",
       "      <td>01M015</td>\n",
       "    </tr>\n",
       "    <tr>\n",
       "      <th>2</th>\n",
       "      <td>1</td>\n",
       "      <td>M</td>\n",
       "      <td>M015</td>\n",
       "      <td>P.S. 015 Roberto Clemente</td>\n",
       "      <td>01</td>\n",
       "      <td>GEN ED</td>\n",
       "      <td>-</td>\n",
       "      <td>-</td>\n",
       "      <td>17.0</td>\n",
       "      <td>1.0</td>\n",
       "      <td>17.0</td>\n",
       "      <td>NaN</td>\n",
       "      <td>01M015</td>\n",
       "    </tr>\n",
       "    <tr>\n",
       "      <th>3</th>\n",
       "      <td>1</td>\n",
       "      <td>M</td>\n",
       "      <td>M015</td>\n",
       "      <td>P.S. 015 Roberto Clemente</td>\n",
       "      <td>01</td>\n",
       "      <td>CTT</td>\n",
       "      <td>-</td>\n",
       "      <td>-</td>\n",
       "      <td>17.0</td>\n",
       "      <td>1.0</td>\n",
       "      <td>17.0</td>\n",
       "      <td>NaN</td>\n",
       "      <td>01M015</td>\n",
       "    </tr>\n",
       "    <tr>\n",
       "      <th>4</th>\n",
       "      <td>1</td>\n",
       "      <td>M</td>\n",
       "      <td>M015</td>\n",
       "      <td>P.S. 015 Roberto Clemente</td>\n",
       "      <td>02</td>\n",
       "      <td>GEN ED</td>\n",
       "      <td>-</td>\n",
       "      <td>-</td>\n",
       "      <td>15.0</td>\n",
       "      <td>1.0</td>\n",
       "      <td>15.0</td>\n",
       "      <td>NaN</td>\n",
       "      <td>01M015</td>\n",
       "    </tr>\n",
       "  </tbody>\n",
       "</table>\n",
       "</div>"
      ],
      "text/plain": [
       "   CSD BOROUGH SCHOOL CODE                SCHOOL NAME GRADE  PROGRAM TYPE  \\\n",
       "0    1       M        M015  P.S. 015 Roberto Clemente     0K       GEN ED   \n",
       "1    1       M        M015  P.S. 015 Roberto Clemente     0K          CTT   \n",
       "2    1       M        M015  P.S. 015 Roberto Clemente     01       GEN ED   \n",
       "3    1       M        M015  P.S. 015 Roberto Clemente     01          CTT   \n",
       "4    1       M        M015  P.S. 015 Roberto Clemente     02       GEN ED   \n",
       "\n",
       "  CORE SUBJECT (MS CORE and 9-12 ONLY) CORE COURSE (MS CORE and 9-12 ONLY)  \\\n",
       "0                                    -                                   -   \n",
       "1                                    -                                   -   \n",
       "2                                    -                                   -   \n",
       "3                                    -                                   -   \n",
       "4                                    -                                   -   \n",
       "\n",
       "   NUMBER OF STUDENTS / SEATS FILLED  NUMBER OF SECTIONS  AVERAGE CLASS SIZE  \\\n",
       "0                               19.0                 1.0                19.0   \n",
       "1                               21.0                 1.0                21.0   \n",
       "2                               17.0                 1.0                17.0   \n",
       "3                               17.0                 1.0                17.0   \n",
       "4                               15.0                 1.0                15.0   \n",
       "\n",
       "   SCHOOLWIDE PUPIL-TEACHER RATIO     DBN  \n",
       "0                             NaN  01M015  \n",
       "1                             NaN  01M015  \n",
       "2                             NaN  01M015  \n",
       "3                             NaN  01M015  \n",
       "4                             NaN  01M015  "
      ]
     },
     "execution_count": 17,
     "metadata": {},
     "output_type": "execute_result"
    }
   ],
   "source": [
    "# class_size data set\n",
    "data[\"class_size\"].head()"
   ]
  },
  {
   "cell_type": "markdown",
   "metadata": {},
   "source": [
    "The first few rows all pertain to the same school and the same `DBN` appears more than once. Each school has multiple values for `GRADE`, `PROGRAM TYPE`, `CORE SUBJECT (MS CORE and 9-12 ONLY)`, and `CORE COURSE (MS CORE and 9-12 ONLY)`.\n",
    "\n",
    "Let's take a look at the value counts for these columns."
   ]
  },
  {
   "cell_type": "code",
   "execution_count": 18,
   "metadata": {
    "collapsed": false
   },
   "outputs": [
    {
     "name": "stdout",
     "output_type": "stream",
     "text": [
      "09-12      10644\n",
      "MS Core     4762\n",
      "0K-09       1384\n",
      "0K          1237\n",
      "01          1185\n",
      "02          1167\n",
      "03          1143\n",
      "04          1140\n",
      "05          1086\n",
      "06           846\n",
      "07           778\n",
      "08           735\n",
      "09            20\n",
      "Name: GRADE , dtype: int64\n",
      "\n",
      "\n",
      "GEN ED     14545\n",
      "CTT         7460\n",
      "SPEC ED     3653\n",
      "G&T          469\n",
      "Name: PROGRAM TYPE, dtype: int64\n",
      "\n",
      "\n",
      "-                 10721\n",
      "ENGLISH            4433\n",
      "SCIENCE            3923\n",
      "SOCIAL STUDIES     3606\n",
      "MATH               3444\n",
      "Name: CORE SUBJECT (MS CORE and 9-12 ONLY), dtype: int64\n",
      "\n",
      "\n",
      "-                              10721\n",
      "MS English Core                 1188\n",
      "Integrated Algebra              1046\n",
      "MS Math Core                    1003\n",
      "MS Science Core                  990\n",
      "MS Social Studies Core           987\n",
      "Living Environment               941\n",
      "Global History & Geography       889\n",
      "US History & Government          741\n",
      "English 9                        733\n",
      "English 10                       690\n",
      "Other Science                    682\n",
      "English 11                       662\n",
      "Earth Science                    659\n",
      "Other English                    603\n",
      "Geometry                         597\n",
      "English 12                       557\n",
      "Participation in Government      409\n",
      "Other Social Studies             398\n",
      "Chemistry                        385\n",
      "Trigonometry                     338\n",
      "Other Math                       289\n",
      "Physics                          266\n",
      "Economics                        182\n",
      "Math A                           137\n",
      "Math B                            34\n",
      "Name: CORE COURSE (MS CORE and 9-12 ONLY), dtype: int64\n",
      "\n",
      "\n"
     ]
    }
   ],
   "source": [
    "# Value counts for columns\n",
    "cols = [\"GRADE \",\"PROGRAM TYPE\",\"CORE SUBJECT (MS CORE and 9-12 ONLY)\",\"CORE COURSE (MS CORE and 9-12 ONLY)\"]\n",
    "\n",
    "for col in cols:\n",
    "    print(data[\"class_size\"][col].value_counts())\n",
    "    print(\"\\n\")"
   ]
  },
  {
   "cell_type": "markdown",
   "metadata": {},
   "source": [
    "* For the `GRADE` column we'll only pick the rows equaling 09-12, since we're only concerned with high schools.\n",
    "* For the `PROGRAM TYPE` column we'll go with the rows equaling GEN ED category because it is the largest by far.\n",
    "\n",
    "Let's take a look at the dataframe after we make these changes."
   ]
  },
  {
   "cell_type": "code",
   "execution_count": 19,
   "metadata": {
    "collapsed": false
   },
   "outputs": [
    {
     "data": {
      "text/html": [
       "<div>\n",
       "<style scoped>\n",
       "    .dataframe tbody tr th:only-of-type {\n",
       "        vertical-align: middle;\n",
       "    }\n",
       "\n",
       "    .dataframe tbody tr th {\n",
       "        vertical-align: top;\n",
       "    }\n",
       "\n",
       "    .dataframe thead th {\n",
       "        text-align: right;\n",
       "    }\n",
       "</style>\n",
       "<table border=\"1\" class=\"dataframe\">\n",
       "  <thead>\n",
       "    <tr style=\"text-align: right;\">\n",
       "      <th></th>\n",
       "      <th>CSD</th>\n",
       "      <th>BOROUGH</th>\n",
       "      <th>SCHOOL CODE</th>\n",
       "      <th>SCHOOL NAME</th>\n",
       "      <th>GRADE</th>\n",
       "      <th>PROGRAM TYPE</th>\n",
       "      <th>CORE SUBJECT (MS CORE and 9-12 ONLY)</th>\n",
       "      <th>CORE COURSE (MS CORE and 9-12 ONLY)</th>\n",
       "      <th>NUMBER OF STUDENTS / SEATS FILLED</th>\n",
       "      <th>NUMBER OF SECTIONS</th>\n",
       "      <th>AVERAGE CLASS SIZE</th>\n",
       "      <th>SCHOOLWIDE PUPIL-TEACHER RATIO</th>\n",
       "      <th>DBN</th>\n",
       "    </tr>\n",
       "  </thead>\n",
       "  <tbody>\n",
       "    <tr>\n",
       "      <th>225</th>\n",
       "      <td>1</td>\n",
       "      <td>M</td>\n",
       "      <td>M292</td>\n",
       "      <td>Henry Street School for International Studies</td>\n",
       "      <td>09-12</td>\n",
       "      <td>GEN ED</td>\n",
       "      <td>ENGLISH</td>\n",
       "      <td>English 9</td>\n",
       "      <td>63.0</td>\n",
       "      <td>3.0</td>\n",
       "      <td>21.0</td>\n",
       "      <td>NaN</td>\n",
       "      <td>01M292</td>\n",
       "    </tr>\n",
       "    <tr>\n",
       "      <th>226</th>\n",
       "      <td>1</td>\n",
       "      <td>M</td>\n",
       "      <td>M292</td>\n",
       "      <td>Henry Street School for International Studies</td>\n",
       "      <td>09-12</td>\n",
       "      <td>GEN ED</td>\n",
       "      <td>ENGLISH</td>\n",
       "      <td>English 10</td>\n",
       "      <td>79.0</td>\n",
       "      <td>3.0</td>\n",
       "      <td>26.3</td>\n",
       "      <td>NaN</td>\n",
       "      <td>01M292</td>\n",
       "    </tr>\n",
       "    <tr>\n",
       "      <th>227</th>\n",
       "      <td>1</td>\n",
       "      <td>M</td>\n",
       "      <td>M292</td>\n",
       "      <td>Henry Street School for International Studies</td>\n",
       "      <td>09-12</td>\n",
       "      <td>GEN ED</td>\n",
       "      <td>ENGLISH</td>\n",
       "      <td>English 11</td>\n",
       "      <td>38.0</td>\n",
       "      <td>2.0</td>\n",
       "      <td>19.0</td>\n",
       "      <td>NaN</td>\n",
       "      <td>01M292</td>\n",
       "    </tr>\n",
       "    <tr>\n",
       "      <th>228</th>\n",
       "      <td>1</td>\n",
       "      <td>M</td>\n",
       "      <td>M292</td>\n",
       "      <td>Henry Street School for International Studies</td>\n",
       "      <td>09-12</td>\n",
       "      <td>GEN ED</td>\n",
       "      <td>ENGLISH</td>\n",
       "      <td>English 12</td>\n",
       "      <td>69.0</td>\n",
       "      <td>3.0</td>\n",
       "      <td>23.0</td>\n",
       "      <td>NaN</td>\n",
       "      <td>01M292</td>\n",
       "    </tr>\n",
       "    <tr>\n",
       "      <th>229</th>\n",
       "      <td>1</td>\n",
       "      <td>M</td>\n",
       "      <td>M292</td>\n",
       "      <td>Henry Street School for International Studies</td>\n",
       "      <td>09-12</td>\n",
       "      <td>GEN ED</td>\n",
       "      <td>MATH</td>\n",
       "      <td>Integrated Algebra</td>\n",
       "      <td>53.0</td>\n",
       "      <td>3.0</td>\n",
       "      <td>17.7</td>\n",
       "      <td>NaN</td>\n",
       "      <td>01M292</td>\n",
       "    </tr>\n",
       "  </tbody>\n",
       "</table>\n",
       "</div>"
      ],
      "text/plain": [
       "     CSD BOROUGH SCHOOL CODE                                    SCHOOL NAME  \\\n",
       "225    1       M        M292  Henry Street School for International Studies   \n",
       "226    1       M        M292  Henry Street School for International Studies   \n",
       "227    1       M        M292  Henry Street School for International Studies   \n",
       "228    1       M        M292  Henry Street School for International Studies   \n",
       "229    1       M        M292  Henry Street School for International Studies   \n",
       "\n",
       "    GRADE  PROGRAM TYPE CORE SUBJECT (MS CORE and 9-12 ONLY)  \\\n",
       "225  09-12       GEN ED                              ENGLISH   \n",
       "226  09-12       GEN ED                              ENGLISH   \n",
       "227  09-12       GEN ED                              ENGLISH   \n",
       "228  09-12       GEN ED                              ENGLISH   \n",
       "229  09-12       GEN ED                                 MATH   \n",
       "\n",
       "    CORE COURSE (MS CORE and 9-12 ONLY)  NUMBER OF STUDENTS / SEATS FILLED  \\\n",
       "225                           English 9                               63.0   \n",
       "226                          English 10                               79.0   \n",
       "227                          English 11                               38.0   \n",
       "228                          English 12                               69.0   \n",
       "229                  Integrated Algebra                               53.0   \n",
       "\n",
       "     NUMBER OF SECTIONS  AVERAGE CLASS SIZE  SCHOOLWIDE PUPIL-TEACHER RATIO  \\\n",
       "225                 3.0                21.0                             NaN   \n",
       "226                 3.0                26.3                             NaN   \n",
       "227                 2.0                19.0                             NaN   \n",
       "228                 3.0                23.0                             NaN   \n",
       "229                 3.0                17.7                             NaN   \n",
       "\n",
       "        DBN  \n",
       "225  01M292  \n",
       "226  01M292  \n",
       "227  01M292  \n",
       "228  01M292  \n",
       "229  01M292  "
      ]
     },
     "execution_count": 19,
     "metadata": {},
     "output_type": "execute_result"
    }
   ],
   "source": [
    "# Filtering the class_size dataframe\n",
    "data['class_size'] = data['class_size'][data['class_size'][\"GRADE \"] == \"09-12\"]\n",
    "data['class_size'] = data['class_size'][data['class_size'][\"PROGRAM TYPE\"] == \"GEN ED\"]\n",
    "\n",
    "# Saving school names according to DBN column\n",
    "school_dict = {}\n",
    "for i in range(1,data['class_size'].shape[0]):\n",
    "    if data['class_size'].iloc[i,12] in school_dict:\n",
    "        pass\n",
    "    else:\n",
    "        school_dict[data['class_size'].iloc[i,12]] = data['class_size'].iloc[i,3] \n",
    "\n",
    "# Verifying Updates\n",
    "data['class_size'].head()"
   ]
  },
  {
   "cell_type": "markdown",
   "metadata": {},
   "source": [
    "The `DBN` column still isn't unique. This is due to the `CORE SUBJECT (MS CORE and 9-12 ONLY)` and `CORE COURSE (MS CORE and 9-12 ONLY)` columns. These columns include different classes and subjects, and we want to keep all of this data. What we will do is take the average across all of the classes a school offers. This will give us unique **DBN** values, while also incorporating as much data as possible into the average.\n",
    "\n",
    "We will, group the dataframe by unique `DBN` and then compute averages for the `AVERAGE CLASS SIZE` column.\n",
    "\n",
    "After we group a dataframe and aggregate data based on it, the column we performed the grouping on (in this case `DBN`) will become the index, and will no longer appear as a column in the data itself. To undo this change and keep DBN as a column, we'll reset the index to a list of integers and make `DBN` a column again."
   ]
  },
  {
   "cell_type": "code",
   "execution_count": 20,
   "metadata": {
    "collapsed": false
   },
   "outputs": [
    {
     "name": "stdout",
     "output_type": "stream",
     "text": [
      "Rows in the dataset 583\n",
      "Unique DBN in the dataset 583\n"
     ]
    },
    {
     "data": {
      "text/html": [
       "<div>\n",
       "<style scoped>\n",
       "    .dataframe tbody tr th:only-of-type {\n",
       "        vertical-align: middle;\n",
       "    }\n",
       "\n",
       "    .dataframe tbody tr th {\n",
       "        vertical-align: top;\n",
       "    }\n",
       "\n",
       "    .dataframe thead th {\n",
       "        text-align: right;\n",
       "    }\n",
       "</style>\n",
       "<table border=\"1\" class=\"dataframe\">\n",
       "  <thead>\n",
       "    <tr style=\"text-align: right;\">\n",
       "      <th></th>\n",
       "      <th>DBN</th>\n",
       "      <th>CSD</th>\n",
       "      <th>NUMBER OF STUDENTS / SEATS FILLED</th>\n",
       "      <th>NUMBER OF SECTIONS</th>\n",
       "      <th>AVERAGE CLASS SIZE</th>\n",
       "      <th>SCHOOLWIDE PUPIL-TEACHER RATIO</th>\n",
       "      <th>SCHOOL NAME</th>\n",
       "    </tr>\n",
       "  </thead>\n",
       "  <tbody>\n",
       "    <tr>\n",
       "      <th>0</th>\n",
       "      <td>01M292</td>\n",
       "      <td>1</td>\n",
       "      <td>88.0</td>\n",
       "      <td>4.0</td>\n",
       "      <td>22.564286</td>\n",
       "      <td>NaN</td>\n",
       "      <td>Henry Street School for International Studies</td>\n",
       "    </tr>\n",
       "    <tr>\n",
       "      <th>1</th>\n",
       "      <td>01M332</td>\n",
       "      <td>1</td>\n",
       "      <td>46.0</td>\n",
       "      <td>2.0</td>\n",
       "      <td>22.000000</td>\n",
       "      <td>NaN</td>\n",
       "      <td>University Neighborhood Middle School</td>\n",
       "    </tr>\n",
       "  </tbody>\n",
       "</table>\n",
       "</div>"
      ],
      "text/plain": [
       "      DBN  CSD  NUMBER OF STUDENTS / SEATS FILLED  NUMBER OF SECTIONS  \\\n",
       "0  01M292    1                               88.0                 4.0   \n",
       "1  01M332    1                               46.0                 2.0   \n",
       "\n",
       "   AVERAGE CLASS SIZE  SCHOOLWIDE PUPIL-TEACHER RATIO  \\\n",
       "0           22.564286                             NaN   \n",
       "1           22.000000                             NaN   \n",
       "\n",
       "                                     SCHOOL NAME  \n",
       "0  Henry Street School for International Studies  \n",
       "1          University Neighborhood Middle School  "
      ]
     },
     "execution_count": 20,
     "metadata": {},
     "output_type": "execute_result"
    }
   ],
   "source": [
    "# Average value for each column associated with each DBN in class_size\n",
    "\n",
    "import numpy as np # Importing numpy as np\n",
    "data['class_size'] = data['class_size'].groupby(\"DBN\").agg(np.mean) # grouping by DBN and then taking average\n",
    "data['class_size'].reset_index(inplace=True) # reseting index to keep the DBN column\n",
    "data['class_size']['SCHOOL NAME'] = data['class_size']['DBN'].map(school_dict) # adding back the SCHOOL NAME column\n",
    "\n",
    "# Verifying Updates\n",
    "print(\"Rows in the dataset\",data['class_size'].shape[0])\n",
    "print(\"Unique DBN in the dataset\",data['class_size']['DBN'].nunique())\n",
    "data['class_size'].head(2)"
   ]
  },
  {
   "cell_type": "markdown",
   "metadata": {},
   "source": [
    "### Condensing **demographics** data set"
   ]
  },
  {
   "cell_type": "code",
   "execution_count": 21,
   "metadata": {
    "collapsed": false
   },
   "outputs": [
    {
     "data": {
      "text/html": [
       "<div>\n",
       "<style scoped>\n",
       "    .dataframe tbody tr th:only-of-type {\n",
       "        vertical-align: middle;\n",
       "    }\n",
       "\n",
       "    .dataframe tbody tr th {\n",
       "        vertical-align: top;\n",
       "    }\n",
       "\n",
       "    .dataframe thead th {\n",
       "        text-align: right;\n",
       "    }\n",
       "</style>\n",
       "<table border=\"1\" class=\"dataframe\">\n",
       "  <thead>\n",
       "    <tr style=\"text-align: right;\">\n",
       "      <th></th>\n",
       "      <th>DBN</th>\n",
       "      <th>Name</th>\n",
       "      <th>schoolyear</th>\n",
       "      <th>fl_percent</th>\n",
       "      <th>frl_percent</th>\n",
       "      <th>total_enrollment</th>\n",
       "      <th>grade9</th>\n",
       "      <th>grade10</th>\n",
       "      <th>grade11</th>\n",
       "      <th>grade12</th>\n",
       "      <th>...</th>\n",
       "      <th>black_num</th>\n",
       "      <th>black_per</th>\n",
       "      <th>hispanic_num</th>\n",
       "      <th>hispanic_per</th>\n",
       "      <th>white_num</th>\n",
       "      <th>white_per</th>\n",
       "      <th>male_num</th>\n",
       "      <th>male_per</th>\n",
       "      <th>female_num</th>\n",
       "      <th>female_per</th>\n",
       "    </tr>\n",
       "  </thead>\n",
       "  <tbody>\n",
       "    <tr>\n",
       "      <th>0</th>\n",
       "      <td>01M015</td>\n",
       "      <td>P.S. 015 ROBERTO CLEMENTE</td>\n",
       "      <td>20052006</td>\n",
       "      <td>89.4</td>\n",
       "      <td>NaN</td>\n",
       "      <td>281</td>\n",
       "      <td>NaN</td>\n",
       "      <td>NaN</td>\n",
       "      <td>NaN</td>\n",
       "      <td>NaN</td>\n",
       "      <td>...</td>\n",
       "      <td>74</td>\n",
       "      <td>26.3</td>\n",
       "      <td>189</td>\n",
       "      <td>67.3</td>\n",
       "      <td>5</td>\n",
       "      <td>1.8</td>\n",
       "      <td>158.0</td>\n",
       "      <td>56.2</td>\n",
       "      <td>123.0</td>\n",
       "      <td>43.8</td>\n",
       "    </tr>\n",
       "    <tr>\n",
       "      <th>1</th>\n",
       "      <td>01M015</td>\n",
       "      <td>P.S. 015 ROBERTO CLEMENTE</td>\n",
       "      <td>20062007</td>\n",
       "      <td>89.4</td>\n",
       "      <td>NaN</td>\n",
       "      <td>243</td>\n",
       "      <td>NaN</td>\n",
       "      <td>NaN</td>\n",
       "      <td>NaN</td>\n",
       "      <td>NaN</td>\n",
       "      <td>...</td>\n",
       "      <td>68</td>\n",
       "      <td>28.0</td>\n",
       "      <td>153</td>\n",
       "      <td>63.0</td>\n",
       "      <td>4</td>\n",
       "      <td>1.6</td>\n",
       "      <td>140.0</td>\n",
       "      <td>57.6</td>\n",
       "      <td>103.0</td>\n",
       "      <td>42.4</td>\n",
       "    </tr>\n",
       "    <tr>\n",
       "      <th>2</th>\n",
       "      <td>01M015</td>\n",
       "      <td>P.S. 015 ROBERTO CLEMENTE</td>\n",
       "      <td>20072008</td>\n",
       "      <td>89.4</td>\n",
       "      <td>NaN</td>\n",
       "      <td>261</td>\n",
       "      <td>NaN</td>\n",
       "      <td>NaN</td>\n",
       "      <td>NaN</td>\n",
       "      <td>NaN</td>\n",
       "      <td>...</td>\n",
       "      <td>77</td>\n",
       "      <td>29.5</td>\n",
       "      <td>157</td>\n",
       "      <td>60.2</td>\n",
       "      <td>7</td>\n",
       "      <td>2.7</td>\n",
       "      <td>143.0</td>\n",
       "      <td>54.8</td>\n",
       "      <td>118.0</td>\n",
       "      <td>45.2</td>\n",
       "    </tr>\n",
       "    <tr>\n",
       "      <th>3</th>\n",
       "      <td>01M015</td>\n",
       "      <td>P.S. 015 ROBERTO CLEMENTE</td>\n",
       "      <td>20082009</td>\n",
       "      <td>89.4</td>\n",
       "      <td>NaN</td>\n",
       "      <td>252</td>\n",
       "      <td>NaN</td>\n",
       "      <td>NaN</td>\n",
       "      <td>NaN</td>\n",
       "      <td>NaN</td>\n",
       "      <td>...</td>\n",
       "      <td>75</td>\n",
       "      <td>29.8</td>\n",
       "      <td>149</td>\n",
       "      <td>59.1</td>\n",
       "      <td>7</td>\n",
       "      <td>2.8</td>\n",
       "      <td>149.0</td>\n",
       "      <td>59.1</td>\n",
       "      <td>103.0</td>\n",
       "      <td>40.9</td>\n",
       "    </tr>\n",
       "    <tr>\n",
       "      <th>4</th>\n",
       "      <td>01M015</td>\n",
       "      <td>P.S. 015 ROBERTO CLEMENTE</td>\n",
       "      <td>20092010</td>\n",
       "      <td></td>\n",
       "      <td>96.5</td>\n",
       "      <td>208</td>\n",
       "      <td>NaN</td>\n",
       "      <td>NaN</td>\n",
       "      <td>NaN</td>\n",
       "      <td>NaN</td>\n",
       "      <td>...</td>\n",
       "      <td>67</td>\n",
       "      <td>32.2</td>\n",
       "      <td>118</td>\n",
       "      <td>56.7</td>\n",
       "      <td>6</td>\n",
       "      <td>2.9</td>\n",
       "      <td>124.0</td>\n",
       "      <td>59.6</td>\n",
       "      <td>84.0</td>\n",
       "      <td>40.4</td>\n",
       "    </tr>\n",
       "  </tbody>\n",
       "</table>\n",
       "<p>5 rows × 28 columns</p>\n",
       "</div>"
      ],
      "text/plain": [
       "      DBN                       Name  schoolyear fl_percent  frl_percent  \\\n",
       "0  01M015  P.S. 015 ROBERTO CLEMENTE    20052006       89.4          NaN   \n",
       "1  01M015  P.S. 015 ROBERTO CLEMENTE    20062007       89.4          NaN   \n",
       "2  01M015  P.S. 015 ROBERTO CLEMENTE    20072008       89.4          NaN   \n",
       "3  01M015  P.S. 015 ROBERTO CLEMENTE    20082009       89.4          NaN   \n",
       "4  01M015  P.S. 015 ROBERTO CLEMENTE    20092010                    96.5   \n",
       "\n",
       "   total_enrollment grade9 grade10 grade11 grade12     ...      black_num  \\\n",
       "0               281    NaN     NaN     NaN     NaN     ...             74   \n",
       "1               243    NaN     NaN     NaN     NaN     ...             68   \n",
       "2               261    NaN     NaN     NaN     NaN     ...             77   \n",
       "3               252    NaN     NaN     NaN     NaN     ...             75   \n",
       "4               208    NaN     NaN     NaN     NaN     ...             67   \n",
       "\n",
       "   black_per  hispanic_num  hispanic_per white_num white_per  male_num  \\\n",
       "0       26.3           189          67.3         5       1.8     158.0   \n",
       "1       28.0           153          63.0         4       1.6     140.0   \n",
       "2       29.5           157          60.2         7       2.7     143.0   \n",
       "3       29.8           149          59.1         7       2.8     149.0   \n",
       "4       32.2           118          56.7         6       2.9     124.0   \n",
       "\n",
       "   male_per  female_num  female_per  \n",
       "0      56.2       123.0        43.8  \n",
       "1      57.6       103.0        42.4  \n",
       "2      54.8       118.0        45.2  \n",
       "3      59.1       103.0        40.9  \n",
       "4      59.6        84.0        40.4  \n",
       "\n",
       "[5 rows x 28 columns]"
      ]
     },
     "execution_count": 21,
     "metadata": {},
     "output_type": "execute_result"
    }
   ],
   "source": [
    "# demographics data set\n",
    "data['demographics'].head()"
   ]
  },
  {
   "cell_type": "markdown",
   "metadata": {},
   "source": [
    "It seems that the only column that prevents `DBN` from being unique is `schoolyear`. We'll select the rows where `schoolyear` is 20112012, this will give us the most recent year of data, and also match our SAT results data."
   ]
  },
  {
   "cell_type": "code",
   "execution_count": 22,
   "metadata": {
    "collapsed": false
   },
   "outputs": [
    {
     "name": "stdout",
     "output_type": "stream",
     "text": [
      "Rows in the dataset 1509\n",
      "Unique DBN in the dataset 1509\n"
     ]
    },
    {
     "data": {
      "text/html": [
       "<div>\n",
       "<style scoped>\n",
       "    .dataframe tbody tr th:only-of-type {\n",
       "        vertical-align: middle;\n",
       "    }\n",
       "\n",
       "    .dataframe tbody tr th {\n",
       "        vertical-align: top;\n",
       "    }\n",
       "\n",
       "    .dataframe thead th {\n",
       "        text-align: right;\n",
       "    }\n",
       "</style>\n",
       "<table border=\"1\" class=\"dataframe\">\n",
       "  <thead>\n",
       "    <tr style=\"text-align: right;\">\n",
       "      <th></th>\n",
       "      <th>DBN</th>\n",
       "      <th>Name</th>\n",
       "      <th>schoolyear</th>\n",
       "      <th>fl_percent</th>\n",
       "      <th>frl_percent</th>\n",
       "      <th>total_enrollment</th>\n",
       "      <th>grade9</th>\n",
       "      <th>grade10</th>\n",
       "      <th>grade11</th>\n",
       "      <th>grade12</th>\n",
       "      <th>...</th>\n",
       "      <th>black_num</th>\n",
       "      <th>black_per</th>\n",
       "      <th>hispanic_num</th>\n",
       "      <th>hispanic_per</th>\n",
       "      <th>white_num</th>\n",
       "      <th>white_per</th>\n",
       "      <th>male_num</th>\n",
       "      <th>male_per</th>\n",
       "      <th>female_num</th>\n",
       "      <th>female_per</th>\n",
       "    </tr>\n",
       "  </thead>\n",
       "  <tbody>\n",
       "    <tr>\n",
       "      <th>6</th>\n",
       "      <td>01M015</td>\n",
       "      <td>P.S. 015 ROBERTO CLEMENTE</td>\n",
       "      <td>20112012</td>\n",
       "      <td>NaN</td>\n",
       "      <td>89.4</td>\n",
       "      <td>189</td>\n",
       "      <td></td>\n",
       "      <td></td>\n",
       "      <td></td>\n",
       "      <td></td>\n",
       "      <td>...</td>\n",
       "      <td>63</td>\n",
       "      <td>33.3</td>\n",
       "      <td>109</td>\n",
       "      <td>57.7</td>\n",
       "      <td>4</td>\n",
       "      <td>2.1</td>\n",
       "      <td>97.0</td>\n",
       "      <td>51.3</td>\n",
       "      <td>92.0</td>\n",
       "      <td>48.7</td>\n",
       "    </tr>\n",
       "    <tr>\n",
       "      <th>13</th>\n",
       "      <td>01M019</td>\n",
       "      <td>P.S. 019 ASHER LEVY</td>\n",
       "      <td>20112012</td>\n",
       "      <td>NaN</td>\n",
       "      <td>61.5</td>\n",
       "      <td>328</td>\n",
       "      <td></td>\n",
       "      <td></td>\n",
       "      <td></td>\n",
       "      <td></td>\n",
       "      <td>...</td>\n",
       "      <td>81</td>\n",
       "      <td>24.7</td>\n",
       "      <td>158</td>\n",
       "      <td>48.2</td>\n",
       "      <td>28</td>\n",
       "      <td>8.5</td>\n",
       "      <td>147.0</td>\n",
       "      <td>44.8</td>\n",
       "      <td>181.0</td>\n",
       "      <td>55.2</td>\n",
       "    </tr>\n",
       "  </tbody>\n",
       "</table>\n",
       "<p>2 rows × 28 columns</p>\n",
       "</div>"
      ],
      "text/plain": [
       "       DBN                                              Name  schoolyear  \\\n",
       "6   01M015  P.S. 015 ROBERTO CLEMENTE                           20112012   \n",
       "13  01M019  P.S. 019 ASHER LEVY                                 20112012   \n",
       "\n",
       "   fl_percent  frl_percent  total_enrollment grade9 grade10 grade11 grade12  \\\n",
       "6         NaN         89.4               189                                  \n",
       "13        NaN         61.5               328                                  \n",
       "\n",
       "       ...      black_num  black_per  hispanic_num  hispanic_per white_num  \\\n",
       "6      ...             63       33.3           109          57.7         4   \n",
       "13     ...             81       24.7           158          48.2        28   \n",
       "\n",
       "   white_per  male_num  male_per  female_num  female_per  \n",
       "6        2.1      97.0      51.3        92.0        48.7  \n",
       "13       8.5     147.0      44.8       181.0        55.2  \n",
       "\n",
       "[2 rows x 28 columns]"
      ]
     },
     "execution_count": 22,
     "metadata": {},
     "output_type": "execute_result"
    }
   ],
   "source": [
    "# Filtering demographics \n",
    "data[\"demographics\"] = data[\"demographics\"][data[\"demographics\"]['schoolyear'] ==  20112012]\n",
    "\n",
    "# Verifying Updates\n",
    "print(\"Rows in the dataset\",data['demographics'].shape[0])\n",
    "print(\"Unique DBN in the dataset\",data['demographics']['DBN'].nunique())\n",
    "data['demographics'].head(2)"
   ]
  },
  {
   "cell_type": "markdown",
   "metadata": {},
   "source": [
    "### Condensing **graduation** data set"
   ]
  },
  {
   "cell_type": "code",
   "execution_count": 23,
   "metadata": {
    "collapsed": false
   },
   "outputs": [
    {
     "data": {
      "text/html": [
       "<div>\n",
       "<style scoped>\n",
       "    .dataframe tbody tr th:only-of-type {\n",
       "        vertical-align: middle;\n",
       "    }\n",
       "\n",
       "    .dataframe tbody tr th {\n",
       "        vertical-align: top;\n",
       "    }\n",
       "\n",
       "    .dataframe thead th {\n",
       "        text-align: right;\n",
       "    }\n",
       "</style>\n",
       "<table border=\"1\" class=\"dataframe\">\n",
       "  <thead>\n",
       "    <tr style=\"text-align: right;\">\n",
       "      <th></th>\n",
       "      <th>Demographic</th>\n",
       "      <th>DBN</th>\n",
       "      <th>School Name</th>\n",
       "      <th>Cohort</th>\n",
       "      <th>Total Cohort</th>\n",
       "      <th>Total Grads - n</th>\n",
       "      <th>Local - n</th>\n",
       "      <th>Still Enrolled - n</th>\n",
       "      <th>Dropped Out - n</th>\n",
       "    </tr>\n",
       "  </thead>\n",
       "  <tbody>\n",
       "    <tr>\n",
       "      <th>0</th>\n",
       "      <td>Total Cohort</td>\n",
       "      <td>01M292</td>\n",
       "      <td>HENRY STREET SCHOOL FOR INTERNATIONAL</td>\n",
       "      <td>2003</td>\n",
       "      <td>5</td>\n",
       "      <td>s</td>\n",
       "      <td>s</td>\n",
       "      <td>s</td>\n",
       "      <td>s</td>\n",
       "    </tr>\n",
       "    <tr>\n",
       "      <th>1</th>\n",
       "      <td>Total Cohort</td>\n",
       "      <td>01M292</td>\n",
       "      <td>HENRY STREET SCHOOL FOR INTERNATIONAL</td>\n",
       "      <td>2004</td>\n",
       "      <td>55</td>\n",
       "      <td>37</td>\n",
       "      <td>20</td>\n",
       "      <td>15</td>\n",
       "      <td>3</td>\n",
       "    </tr>\n",
       "    <tr>\n",
       "      <th>2</th>\n",
       "      <td>Total Cohort</td>\n",
       "      <td>01M292</td>\n",
       "      <td>HENRY STREET SCHOOL FOR INTERNATIONAL</td>\n",
       "      <td>2005</td>\n",
       "      <td>64</td>\n",
       "      <td>43</td>\n",
       "      <td>16</td>\n",
       "      <td>9</td>\n",
       "      <td>9</td>\n",
       "    </tr>\n",
       "    <tr>\n",
       "      <th>3</th>\n",
       "      <td>Total Cohort</td>\n",
       "      <td>01M292</td>\n",
       "      <td>HENRY STREET SCHOOL FOR INTERNATIONAL</td>\n",
       "      <td>2006</td>\n",
       "      <td>78</td>\n",
       "      <td>43</td>\n",
       "      <td>7</td>\n",
       "      <td>16</td>\n",
       "      <td>11</td>\n",
       "    </tr>\n",
       "    <tr>\n",
       "      <th>4</th>\n",
       "      <td>Total Cohort</td>\n",
       "      <td>01M292</td>\n",
       "      <td>HENRY STREET SCHOOL FOR INTERNATIONAL</td>\n",
       "      <td>2006 Aug</td>\n",
       "      <td>78</td>\n",
       "      <td>44</td>\n",
       "      <td>7</td>\n",
       "      <td>15</td>\n",
       "      <td>11</td>\n",
       "    </tr>\n",
       "  </tbody>\n",
       "</table>\n",
       "</div>"
      ],
      "text/plain": [
       "    Demographic     DBN                            School Name    Cohort  \\\n",
       "0  Total Cohort  01M292  HENRY STREET SCHOOL FOR INTERNATIONAL      2003   \n",
       "1  Total Cohort  01M292  HENRY STREET SCHOOL FOR INTERNATIONAL      2004   \n",
       "2  Total Cohort  01M292  HENRY STREET SCHOOL FOR INTERNATIONAL      2005   \n",
       "3  Total Cohort  01M292  HENRY STREET SCHOOL FOR INTERNATIONAL      2006   \n",
       "4  Total Cohort  01M292  HENRY STREET SCHOOL FOR INTERNATIONAL  2006 Aug   \n",
       "\n",
       "   Total Cohort Total Grads - n Local - n Still Enrolled - n Dropped Out - n  \n",
       "0             5               s         s                  s               s  \n",
       "1            55              37        20                 15               3  \n",
       "2            64              43        16                  9               9  \n",
       "3            78              43         7                 16              11  \n",
       "4            78              44         7                 15              11  "
      ]
     },
     "execution_count": 23,
     "metadata": {},
     "output_type": "execute_result"
    }
   ],
   "source": [
    "# graduation data set\n",
    "data[\"graduation\"].head()"
   ]
  },
  {
   "cell_type": "markdown",
   "metadata": {},
   "source": [
    "The `Demographic` and `Cohort` columns are what prevent `DBN` from being unique.\n",
    "\n",
    "A `Cohort` appears to refer to the year the data represents, and the `Demographic` appears to refer to a specific demographic group. \n",
    "\n",
    "We will pick the most recent `Cohort` available, which is 2006 and since we want data from the full cohort, we'll only pick rows where `Demographic` is Total Cohort."
   ]
  },
  {
   "cell_type": "code",
   "execution_count": 24,
   "metadata": {
    "collapsed": false
   },
   "outputs": [
    {
     "name": "stdout",
     "output_type": "stream",
     "text": [
      "Rows in the dataset 405\n",
      "Unique DBN in the dataset 405\n"
     ]
    },
    {
     "data": {
      "text/html": [
       "<div>\n",
       "<style scoped>\n",
       "    .dataframe tbody tr th:only-of-type {\n",
       "        vertical-align: middle;\n",
       "    }\n",
       "\n",
       "    .dataframe tbody tr th {\n",
       "        vertical-align: top;\n",
       "    }\n",
       "\n",
       "    .dataframe thead th {\n",
       "        text-align: right;\n",
       "    }\n",
       "</style>\n",
       "<table border=\"1\" class=\"dataframe\">\n",
       "  <thead>\n",
       "    <tr style=\"text-align: right;\">\n",
       "      <th></th>\n",
       "      <th>Demographic</th>\n",
       "      <th>DBN</th>\n",
       "      <th>School Name</th>\n",
       "      <th>Cohort</th>\n",
       "      <th>Total Cohort</th>\n",
       "      <th>Total Grads - n</th>\n",
       "      <th>Local - n</th>\n",
       "      <th>Still Enrolled - n</th>\n",
       "      <th>Dropped Out - n</th>\n",
       "    </tr>\n",
       "  </thead>\n",
       "  <tbody>\n",
       "    <tr>\n",
       "      <th>3</th>\n",
       "      <td>Total Cohort</td>\n",
       "      <td>01M292</td>\n",
       "      <td>HENRY STREET SCHOOL FOR INTERNATIONAL</td>\n",
       "      <td>2006</td>\n",
       "      <td>78</td>\n",
       "      <td>43</td>\n",
       "      <td>7</td>\n",
       "      <td>16</td>\n",
       "      <td>11</td>\n",
       "    </tr>\n",
       "    <tr>\n",
       "      <th>10</th>\n",
       "      <td>Total Cohort</td>\n",
       "      <td>01M448</td>\n",
       "      <td>UNIVERSITY NEIGHBORHOOD HIGH SCHOOL</td>\n",
       "      <td>2006</td>\n",
       "      <td>124</td>\n",
       "      <td>53</td>\n",
       "      <td>11</td>\n",
       "      <td>46</td>\n",
       "      <td>20</td>\n",
       "    </tr>\n",
       "  </tbody>\n",
       "</table>\n",
       "</div>"
      ],
      "text/plain": [
       "     Demographic     DBN                            School Name Cohort  \\\n",
       "3   Total Cohort  01M292  HENRY STREET SCHOOL FOR INTERNATIONAL   2006   \n",
       "10  Total Cohort  01M448    UNIVERSITY NEIGHBORHOOD HIGH SCHOOL   2006   \n",
       "\n",
       "    Total Cohort Total Grads - n Local - n Still Enrolled - n Dropped Out - n  \n",
       "3             78              43         7                 16              11  \n",
       "10           124              53        11                 46              20  "
      ]
     },
     "execution_count": 24,
     "metadata": {},
     "output_type": "execute_result"
    }
   ],
   "source": [
    "# Filtering Cohort\n",
    "data[\"graduation\"] = data[\"graduation\"][data[\"graduation\"][\"Cohort\"] == \"2006\"]\n",
    "\n",
    "# Filtering Demographic\n",
    "data[\"graduation\"] = data[\"graduation\"][data[\"graduation\"][\"Demographic\"] == \"Total Cohort\"]\n",
    "\n",
    "# Verifying Updates\n",
    "print(\"Rows in the dataset\",data['graduation'].shape[0])\n",
    "print(\"Unique DBN in the dataset\",data['graduation']['DBN'].nunique())\n",
    "data['graduation'].head(2)"
   ]
  },
  {
   "cell_type": "markdown",
   "metadata": {},
   "source": [
    "## Merging Data Sets\n",
    "\n",
    "We are finally ready to merge data sets. We will be merging based on `DBN` columns and identify matching rows across data sets. We will start by merging two data sets and continue combining data sets in this way until we've merged all of them.\n",
    "\n",
    "We'll focus on preserving as many rows as possible from **sat_results** while minimizing null values, as we are concerned with determining demographic factors that correlate with SAT score.\n",
    "\n",
    "So we'll use different merge startegies with different data sets. \n",
    "\n",
    "* For data sets that have a lot of missing `DBN` values, an **inner** join is appropriate to avoid unnecessary null values.\n",
    "* For data sets that have very little missing `DBN` values, we'll do a **left** join to retain most of the data in these data sets.\n",
    "\n",
    "Let's start be determining the percentage of matching `DBN` values for each data set with the **sat_results** data set."
   ]
  },
  {
   "cell_type": "code",
   "execution_count": 25,
   "metadata": {
    "collapsed": false
   },
   "outputs": [
    {
     "name": "stdout",
     "output_type": "stream",
     "text": [
      "Intersection for ap_2010 0.9844357976653697\n",
      "Intersection for graduation 0.9604938271604938\n",
      "Intersection for class_size 0.7444253859348199\n",
      "Intersection for demographics 0.2982107355864811\n",
      "Intersection for survey 0.27614571092831963\n",
      "Intersection for hs_directory 0.8482758620689655\n"
     ]
    }
   ],
   "source": [
    "# Matching proportion for data sets\n",
    "cols = ['ap_2010','graduation','class_size','demographics','survey','hs_directory'] # data set names\n",
    "\n",
    "sat_results_set = set(list(data['sat_results']['DBN'])) # sat_results set\n",
    "\n",
    "for i in cols: # for loop to get proportion between data sets\n",
    "    col_set = set(list(data[i]['DBN']))\n",
    "    col_len = len(list(data[i]['DBN']))\n",
    "    print('Intersection for',i, len(sat_results_set.intersection(col_set))/col_len)\n",
    "    "
   ]
  },
  {
   "cell_type": "markdown",
   "metadata": {},
   "source": [
    "We will:\n",
    "\n",
    "* Use the left join for data sets with less missing values (**ap_2010**, **graduation** and **hs_directory**)\n",
    "* Use the inner join for data sets with more missing values (**class_size**, **demographics** and **survey**)\n",
    "\n",
    "Lets start merging data sets. We will be looking for high level correlations, so we won't dive into the missing `DBNs`."
   ]
  },
  {
   "cell_type": "code",
   "execution_count": 26,
   "metadata": {
    "collapsed": false
   },
   "outputs": [
    {
     "data": {
      "text/html": [
       "<div>\n",
       "<style scoped>\n",
       "    .dataframe tbody tr th:only-of-type {\n",
       "        vertical-align: middle;\n",
       "    }\n",
       "\n",
       "    .dataframe tbody tr th {\n",
       "        vertical-align: top;\n",
       "    }\n",
       "\n",
       "    .dataframe thead th {\n",
       "        text-align: right;\n",
       "    }\n",
       "</style>\n",
       "<table border=\"1\" class=\"dataframe\">\n",
       "  <thead>\n",
       "    <tr style=\"text-align: right;\">\n",
       "      <th></th>\n",
       "      <th>DBN</th>\n",
       "      <th>SCHOOL NAME_x</th>\n",
       "      <th>Num of SAT Test Takers</th>\n",
       "      <th>SAT Critical Reading Avg. Score</th>\n",
       "      <th>SAT Math Avg. Score</th>\n",
       "      <th>SAT Writing Avg. Score</th>\n",
       "      <th>sat_score</th>\n",
       "      <th>rr_s</th>\n",
       "      <th>rr_t</th>\n",
       "      <th>rr_p</th>\n",
       "      <th>...</th>\n",
       "      <th>Cohort</th>\n",
       "      <th>Total Cohort</th>\n",
       "      <th>Total Grads - n</th>\n",
       "      <th>Local - n</th>\n",
       "      <th>Still Enrolled - n</th>\n",
       "      <th>Dropped Out - n</th>\n",
       "      <th>SchoolName</th>\n",
       "      <th>AP Test Takers</th>\n",
       "      <th>Total Exams Taken</th>\n",
       "      <th>Number of Exams with scores 3 4 or 5</th>\n",
       "    </tr>\n",
       "  </thead>\n",
       "  <tbody>\n",
       "    <tr>\n",
       "      <th>0</th>\n",
       "      <td>01M292</td>\n",
       "      <td>HENRY STREET SCHOOL FOR INTERNATIONAL STUDIES</td>\n",
       "      <td>29</td>\n",
       "      <td>355.0</td>\n",
       "      <td>404.0</td>\n",
       "      <td>363.0</td>\n",
       "      <td>1122.0</td>\n",
       "      <td>89.0</td>\n",
       "      <td>70</td>\n",
       "      <td>39</td>\n",
       "      <td>...</td>\n",
       "      <td>2006</td>\n",
       "      <td>78.0</td>\n",
       "      <td>43</td>\n",
       "      <td>7</td>\n",
       "      <td>16</td>\n",
       "      <td>11</td>\n",
       "      <td>NaN</td>\n",
       "      <td>NaN</td>\n",
       "      <td>NaN</td>\n",
       "      <td>NaN</td>\n",
       "    </tr>\n",
       "    <tr>\n",
       "      <th>1</th>\n",
       "      <td>01M448</td>\n",
       "      <td>UNIVERSITY NEIGHBORHOOD HIGH SCHOOL</td>\n",
       "      <td>91</td>\n",
       "      <td>383.0</td>\n",
       "      <td>423.0</td>\n",
       "      <td>366.0</td>\n",
       "      <td>1172.0</td>\n",
       "      <td>84.0</td>\n",
       "      <td>95</td>\n",
       "      <td>10</td>\n",
       "      <td>...</td>\n",
       "      <td>2006</td>\n",
       "      <td>124.0</td>\n",
       "      <td>53</td>\n",
       "      <td>11</td>\n",
       "      <td>46</td>\n",
       "      <td>20</td>\n",
       "      <td>UNIVERSITY NEIGHBORHOOD H.S.</td>\n",
       "      <td>39.0</td>\n",
       "      <td>49.0</td>\n",
       "      <td>10.0</td>\n",
       "    </tr>\n",
       "    <tr>\n",
       "      <th>2</th>\n",
       "      <td>01M450</td>\n",
       "      <td>EAST SIDE COMMUNITY SCHOOL</td>\n",
       "      <td>70</td>\n",
       "      <td>377.0</td>\n",
       "      <td>402.0</td>\n",
       "      <td>370.0</td>\n",
       "      <td>1149.0</td>\n",
       "      <td>0.0</td>\n",
       "      <td>98</td>\n",
       "      <td>28</td>\n",
       "      <td>...</td>\n",
       "      <td>2006</td>\n",
       "      <td>90.0</td>\n",
       "      <td>70</td>\n",
       "      <td>3</td>\n",
       "      <td>15</td>\n",
       "      <td>5</td>\n",
       "      <td>EAST SIDE COMMUNITY HS</td>\n",
       "      <td>19.0</td>\n",
       "      <td>21.0</td>\n",
       "      <td>NaN</td>\n",
       "    </tr>\n",
       "    <tr>\n",
       "      <th>3</th>\n",
       "      <td>01M458</td>\n",
       "      <td>FORSYTH SATELLITE ACADEMY</td>\n",
       "      <td>7</td>\n",
       "      <td>414.0</td>\n",
       "      <td>401.0</td>\n",
       "      <td>359.0</td>\n",
       "      <td>1174.0</td>\n",
       "      <td>40.0</td>\n",
       "      <td>100</td>\n",
       "      <td>23</td>\n",
       "      <td>...</td>\n",
       "      <td>NaN</td>\n",
       "      <td>NaN</td>\n",
       "      <td>NaN</td>\n",
       "      <td>NaN</td>\n",
       "      <td>NaN</td>\n",
       "      <td>NaN</td>\n",
       "      <td>NaN</td>\n",
       "      <td>NaN</td>\n",
       "      <td>NaN</td>\n",
       "      <td>NaN</td>\n",
       "    </tr>\n",
       "    <tr>\n",
       "      <th>4</th>\n",
       "      <td>01M509</td>\n",
       "      <td>MARTA VALLE HIGH SCHOOL</td>\n",
       "      <td>44</td>\n",
       "      <td>390.0</td>\n",
       "      <td>433.0</td>\n",
       "      <td>384.0</td>\n",
       "      <td>1207.0</td>\n",
       "      <td>90.0</td>\n",
       "      <td>100</td>\n",
       "      <td>21</td>\n",
       "      <td>...</td>\n",
       "      <td>2006</td>\n",
       "      <td>84.0</td>\n",
       "      <td>47</td>\n",
       "      <td>7</td>\n",
       "      <td>25</td>\n",
       "      <td>5</td>\n",
       "      <td>NaN</td>\n",
       "      <td>NaN</td>\n",
       "      <td>NaN</td>\n",
       "      <td>NaN</td>\n",
       "    </tr>\n",
       "  </tbody>\n",
       "</table>\n",
       "<p>5 rows × 103 columns</p>\n",
       "</div>"
      ],
      "text/plain": [
       "      DBN                                  SCHOOL NAME_x  \\\n",
       "0  01M292  HENRY STREET SCHOOL FOR INTERNATIONAL STUDIES   \n",
       "1  01M448            UNIVERSITY NEIGHBORHOOD HIGH SCHOOL   \n",
       "2  01M450                     EAST SIDE COMMUNITY SCHOOL   \n",
       "3  01M458                      FORSYTH SATELLITE ACADEMY   \n",
       "4  01M509                        MARTA VALLE HIGH SCHOOL   \n",
       "\n",
       "  Num of SAT Test Takers  SAT Critical Reading Avg. Score  \\\n",
       "0                     29                            355.0   \n",
       "1                     91                            383.0   \n",
       "2                     70                            377.0   \n",
       "3                      7                            414.0   \n",
       "4                     44                            390.0   \n",
       "\n",
       "   SAT Math Avg. Score  SAT Writing Avg. Score  sat_score  rr_s  rr_t  rr_p  \\\n",
       "0                404.0                   363.0     1122.0  89.0    70    39   \n",
       "1                423.0                   366.0     1172.0  84.0    95    10   \n",
       "2                402.0                   370.0     1149.0   0.0    98    28   \n",
       "3                401.0                   359.0     1174.0  40.0   100    23   \n",
       "4                433.0                   384.0     1207.0  90.0   100    21   \n",
       "\n",
       "                   ...                   Cohort  Total Cohort  \\\n",
       "0                  ...                     2006          78.0   \n",
       "1                  ...                     2006         124.0   \n",
       "2                  ...                     2006          90.0   \n",
       "3                  ...                      NaN           NaN   \n",
       "4                  ...                     2006          84.0   \n",
       "\n",
       "   Total Grads - n  Local - n  Still Enrolled - n  Dropped Out - n  \\\n",
       "0               43          7                  16               11   \n",
       "1               53         11                  46               20   \n",
       "2               70          3                  15                5   \n",
       "3              NaN        NaN                 NaN              NaN   \n",
       "4               47          7                  25                5   \n",
       "\n",
       "                     SchoolName  AP Test Takers   Total Exams Taken  \\\n",
       "0                           NaN              NaN                NaN   \n",
       "1  UNIVERSITY NEIGHBORHOOD H.S.             39.0               49.0   \n",
       "2        EAST SIDE COMMUNITY HS             19.0               21.0   \n",
       "3                           NaN              NaN                NaN   \n",
       "4                           NaN              NaN                NaN   \n",
       "\n",
       "   Number of Exams with scores 3 4 or 5  \n",
       "0                                   NaN  \n",
       "1                                  10.0  \n",
       "2                                   NaN  \n",
       "3                                   NaN  \n",
       "4                                   NaN  \n",
       "\n",
       "[5 rows x 103 columns]"
      ]
     },
     "execution_count": 26,
     "metadata": {},
     "output_type": "execute_result"
    }
   ],
   "source": [
    "# Combining dataframes\n",
    "combined = data[\"sat_results\"]\n",
    "combined = combined.merge(data[\"survey\"],how=\"inner\",on=\"DBN\")\n",
    "combined = combined.merge(data[\"demographics\"],how=\"inner\",on=\"DBN\")\n",
    "combined = combined.merge(data[\"class_size\"],how=\"inner\",on=\"DBN\")\n",
    "combined = combined.merge(data[\"hs_directory\"],how=\"left\",on=\"DBN\")\n",
    "combined = combined.merge(data[\"graduation\"],how=\"left\",on=\"DBN\")\n",
    "combined = combined.merge(data[\"ap_2010\"],how=\"left\",on=\"DBN\")\n",
    "\n",
    "combined.head()"
   ]
  },
  {
   "cell_type": "markdown",
   "metadata": {},
   "source": [
    "## Filling in Missing Values\n",
    "\n",
    "We have many columns with missing (NaN) values due to left joins.\n",
    "\n",
    "For now, we'll fill in the missing values with the overall mean for the column, which allows us to proceed with analyses that can't handle missing values (like correlations).\n",
    "\n",
    "Note that if a column consists entirely of null or NaN values, pandas won't be able to fill in the missing values when we use the df.fillna() method along with the df.mean() method, because there won't be a mean. We will fill any NaN or null values that remain after the initial replacement with the value 0. "
   ]
  },
  {
   "cell_type": "code",
   "execution_count": 27,
   "metadata": {
    "collapsed": false
   },
   "outputs": [
    {
     "data": {
      "text/plain": [
       "0"
      ]
     },
     "execution_count": 27,
     "metadata": {},
     "output_type": "execute_result"
    }
   ],
   "source": [
    "combined_original = combined # original data set\n",
    "combined = combined.fillna(combined.mean()) # Mean imputation\n",
    "combined = combined.fillna(0) # 0 imputation\n",
    "\n",
    "# Verifying results\n",
    "combined.isnull().sum().sum()"
   ]
  },
  {
   "cell_type": "markdown",
   "metadata": {},
   "source": [
    "## Creating `District` Column\n",
    "\n",
    "We have a cleaned and combined data set to base our analysis on. Mapping the statistics out on a school district level is an interesting way to analyze our data. Adding a column to the data set that specifies the school district will help us accomplish this.\n",
    "\n",
    "The school district is just the first two characters of the `DBN` column. We can apply a function over the `DBN` column of **combined** data set that pulls out the first two letters."
   ]
  },
  {
   "cell_type": "code",
   "execution_count": 28,
   "metadata": {
    "collapsed": false
   },
   "outputs": [
    {
     "data": {
      "text/plain": [
       "0    01\n",
       "1    01\n",
       "2    01\n",
       "3    01\n",
       "4    01\n",
       "Name: school_dist, dtype: object"
      ]
     },
     "execution_count": 28,
     "metadata": {},
     "output_type": "execute_result"
    }
   ],
   "source": [
    "# Creating the shool_dist column\n",
    "combined[\"school_dist\"] = combined[\"DBN\"].apply(lambda d: d[0:2])\n",
    "\n",
    "# Verifying our updates\n",
    "combined[\"school_dist\"].head()"
   ]
  },
  {
   "cell_type": "markdown",
   "metadata": {},
   "source": [
    "# Data Analysis"
   ]
  },
  {
   "cell_type": "markdown",
   "metadata": {},
   "source": [
    "## SAT Score Correlations\n",
    "\n",
    "We'll start by finding correlation between columns and `sat_score`.  We'll use the **r value**, also called the [Pearson's Correaltion Coefficient](https://en.wikipedia.org/wiki/Pearson_correlation_coefficient) which measures how closely two sequences of numbers are correlated. A strong positive (values > 0.25) or negative (values < -0.25) correlation between a demographic factor and `sat_score` would be an interesting result meriting investigation. It's important to stress that an **r value isn't perfect and doesn't indicate that there's a correlation - just the possibility of one.**\n",
    "\n",
    "To really assess whether or not a correlation exists, we'll visualize columns to discern patterns and dig deeper. If useful, we'll create maps to visualize differences at the district and borough level."
   ]
  },
  {
   "cell_type": "code",
   "execution_count": 29,
   "metadata": {
    "collapsed": false
   },
   "outputs": [
    {
     "data": {
      "text/plain": [
       "frl_percent                            -0.692577\n",
       "sped_percent                           -0.402114\n",
       "ell_percent                            -0.357960\n",
       "hispanic_per                           -0.350349\n",
       "black_per                              -0.293363\n",
       "ell_num                                -0.129409\n",
       "longitude                              -0.127329\n",
       "latitude                               -0.118890\n",
       "com_p_11                               -0.102058\n",
       "male_per                               -0.101388\n",
       "eng_p_11                                0.015858\n",
       "rr_t                                    0.021185\n",
       "aca_p_11                                0.025680\n",
       "eng_t_11                                0.041891\n",
       "black_num                               0.042646\n",
       "hispanic_num                            0.051914\n",
       "CSD                                     0.051945\n",
       "sped_num                                0.057985\n",
       "com_tot_11                              0.076559\n",
       "rr_p                                    0.083436\n",
       "eng_tot_11                              0.086777\n",
       "com_t_11                                0.089932\n",
       "female_per                              0.101436\n",
       "saf_p_11                                0.107400\n",
       "number_programs                         0.117406\n",
       "aca_t_11                                0.124131\n",
       "com_s_11                                0.149487\n",
       "eng_s_11                                0.166709\n",
       "aca_tot_11                              0.167162\n",
       "rr_s                                    0.271132\n",
       "saf_s_11                                0.272953\n",
       "saf_tot_11                              0.275989\n",
       "aca_s_11                                0.281840\n",
       "saf_t_11                                0.293449\n",
       "N_t                                     0.301599\n",
       "Total Cohort                            0.307618\n",
       "male_num                                0.341423\n",
       "NUMBER OF SECTIONS                      0.358864\n",
       "AVERAGE CLASS SIZE                      0.368871\n",
       "total_enrollment                        0.381051\n",
       "NUMBER OF STUDENTS / SEATS FILLED       0.394293\n",
       "total_students                          0.398430\n",
       "female_num                              0.398655\n",
       "N_s                                     0.430668\n",
       "N_p                                     0.433778\n",
       "white_num                               0.458667\n",
       "Number of Exams with scores 3 4 or 5    0.463710\n",
       "asian_num                               0.482230\n",
       "Total Exams Taken                       0.515734\n",
       "AP Test Takers                          0.525000\n",
       "asian_per                               0.536542\n",
       "white_per                               0.627273\n",
       "SAT Math Avg. Score                     0.956406\n",
       "SAT Critical Reading Avg. Score         0.976819\n",
       "SAT Writing Avg. Score                  0.981751\n",
       "sat_score                               1.000000\n",
       "schoolyear                                   NaN\n",
       "fl_percent                                   NaN\n",
       "SCHOOLWIDE PUPIL-TEACHER RATIO               NaN\n",
       "grade_span_max                               NaN\n",
       "Name: sat_score, dtype: float64"
      ]
     },
     "execution_count": 29,
     "metadata": {},
     "output_type": "execute_result"
    }
   ],
   "source": [
    "# Correlation with sat_score\n",
    "correlations = combined.corr()\n",
    "correlations = correlations['sat_score']\n",
    "correlations.sort_values()"
   ]
  },
  {
   "cell_type": "markdown",
   "metadata": {},
   "source": [
    "Unsurprisingly, `SAT Math Avg. Score`, `SAT Critical Reading Avg. Score` and `SAT Writing Avg. Score` are strongly correlated with `sat_score`.\n",
    "\n",
    "Other interesting observations include:\n",
    "\n",
    "1. `total_enrollment` has a strong positive correlation with `sat_score` - this is surprising and counterintuitive. We'd expect smaller schools where students receive more attention to have higher scores. Other columns (`Total Cohort`, `NUMBER OF SECTIONS`, `AVERAGE CLASS SIZE`, `NUMBER OF STUDENTS / SEATS FILLED` and `total_students`) that are proxies correlate similarly.\n",
    "\n",
    "2. The percentage of English Language Learners (`ell_percent`), Special Education (`sped_percent`) and Free & Reduced Lunch (`frl_percent`) show strong negative correaltion with `sat_score`.\n",
    "\n",
    "3. There is significant racial (`white_per`, `asian_per`,`black_per` and `hispanic_per`) inequality in SAT scores.\n",
    "\n",
    "4. The percentage and number of females (`female_per`, `female_num`) at a school correlate more positively with SAT score, compared to the percentage and number of males (`male_per`, `male_num`) respectively. This could indicate that women do better on the SAT than men.\n",
    "\n",
    "5. `Number of Exams with scores 3 4 or 5` and `AP Test Takers` have strong correlations with SAT scores. This indicates that students taking challenging course work perform better on the SAT, which makes sense.\n",
    "\n",
    "6. Survey responses show interesting results:\n",
    "\n",
    "    * Student ratings of school academic standards (`aca_s_11`) correlate with `sat_score`, but this does not hold for ratings from teachers and parents (`aca_p_11` and `aca_t_11`).\n",
    "\n",
    "    * Total, Teacher and student ratings of school safety (`saf_tot_11`, `saf_t_11`, and `saf_s_11`) correlate positively with `sat_score`.\n",
    "    \n",
    "    * Number of students, parents and teachers (`N_s`, `N_p` and `N_t`) show strong positive correlation with `sat_score`"
   ]
  },
  {
   "cell_type": "markdown",
   "metadata": {},
   "source": [
    "## Exploring Enrollment and SAT Scores\n",
    "\n",
    "Because enrollment seems to have such a strong correlation ( 0.381051), let's make a scatterplot of `total_enrollment` vs. `sat_score`. Each point in the scatterplot will represent a high school, so we'll be able to see if there are any interesting patterns.\n",
    "\n",
    "We will also plot proxies such as `Total Cohort` and `total_students`."
   ]
  },
  {
   "cell_type": "code",
   "execution_count": 30,
   "metadata": {
    "collapsed": false
   },
   "outputs": [
    {
     "data": {
      "text/plain": [
       "<matplotlib.text.Text at 0x7f9d89cbee48>"
      ]
     },
     "execution_count": 30,
     "metadata": {},
     "output_type": "execute_result"
    },
    {
     "data": {
      "image/png": "[encoded data removed]",
      "text/plain": [
       "<matplotlib.figure.Figure at 0x7f9d8a01ae80>"
      ]
     },
     "metadata": {},
     "output_type": "display_data"
    },
    {
     "data": {
      "image/png": "[encoded data removed]",
      "text/plain": [
       "<matplotlib.figure.Figure at 0x7f9d89d792b0>"
      ]
     },
     "metadata": {},
     "output_type": "display_data"
    },
    {
     "data": {
      "image/png": "[encoded data removed]",
      "text/plain": [
       "<matplotlib.figure.Figure at 0x7f9d89d07710>"
      ]
     },
     "metadata": {},
     "output_type": "display_data"
    }
   ],
   "source": [
    "# Importing libraries\n",
    "import seaborn as sns\n",
    "import matplotlib.pyplot as plt\n",
    "% matplotlib inline\n",
    "\n",
    "# Theme\n",
    "sns.set_style(\"white\")\n",
    "\n",
    "# Scatterplots\n",
    "fig_1 = combined.plot.scatter(\"total_enrollment\",\"sat_score\")\n",
    "sns.despine()\n",
    "fig_2 = combined.plot.scatter(\"Total Cohort\",\"sat_score\")\n",
    "sns.despine()\n",
    "fig_3 = combined.plot.scatter(\"total_students\",\"sat_score\")\n",
    "sns.despine()\n",
    "\n",
    "# Plot Aesthetics\n",
    "fig_1.set_xlim(xmin= -100)\n",
    "fig_2.set_xlim(xmin= -100)\n",
    "fig_3.set_xlim(xmin= -100)\n",
    "\n",
    "fig_1.set_xlabel(\"Total Enrollment\", fontsize=13)\n",
    "fig_1.set_ylabel(\"SAT Score\", fontsize=13)\n",
    "fig_2.set_xlabel(\"Total Cohort\", fontsize=13)\n",
    "fig_2.set_ylabel(\"SAT Score\", fontsize=13)\n",
    "fig_3.set_xlabel(\"Total Students\", fontsize=13)\n",
    "fig_3.set_ylabel(\"SAT Score\", fontsize=13)"
   ]
  },
  {
   "cell_type": "markdown",
   "metadata": {},
   "source": [
    "We see that there's a positive correlation as points line up when:\n",
    "\n",
    "* `Total Students` exceeds 1000\n",
    "* `Total Cohort` exceeds 200\n",
    "* `Total Enrollment` exceeds 1000\n",
    "\n",
    "However there's a large cluster of points when SAT scores are really low. Let's draw a scatter plot when `Total Students` are less than 1000 and research what kind of schools does the cluster comprise of."
   ]
  },
  {
   "cell_type": "code",
   "execution_count": 31,
   "metadata": {
    "collapsed": false
   },
   "outputs": [
    {
     "data": {
      "image/png": "[encoded data removed]",
      "text/plain": [
       "<matplotlib.figure.Figure at 0x7f9d8a73bef0>"
      ]
     },
     "metadata": {},
     "output_type": "display_data"
    }
   ],
   "source": [
    "# Low Enrollment Scatterplot\n",
    "fig_1 = combined.plot.scatter(\"total_enrollment\",\"sat_score\")\n",
    "\n",
    "# Plot Aesthetics\n",
    "sns.despine()\n",
    "fig_1.set_xlabel(\"Total Enrollment\", fontsize=13)\n",
    "fig_1.set_ylabel(\"SAT Score\", fontsize=13)\n",
    "plt.xlim(0, 1000)\n",
    "plt.show()"
   ]
  },
  {
   "cell_type": "markdown",
   "metadata": {},
   "source": [
    "We see that for schools with low enrollement (less than 1000), which are the majority of schools, the correlation with SAT score is poor compared to high enrollment schools. Let's research some schools with low enrollment."
   ]
  },
  {
   "cell_type": "code",
   "execution_count": 32,
   "metadata": {
    "collapsed": false
   },
   "outputs": [
    {
     "data": {
      "text/plain": [
       "113                 INTERNATIONAL COMMUNITY HIGH SCHOOL\n",
       "154                 ACADEMY FOR LANGUAGE AND TECHNOLOGY\n",
       "155                     BRONX INTERNATIONAL HIGH SCHOOL\n",
       "169               KINGSBRIDGE INTERNATIONAL HIGH SCHOOL\n",
       "172               INTERNATIONAL SCHOOL FOR LIBERAL ARTS\n",
       "214    PAN AMERICAN INTERNATIONAL HIGH SCHOOL AT MONROE\n",
       "218                       HIGH SCHOOL OF WORLD CULTURES\n",
       "229                  BROOKLYN INTERNATIONAL HIGH SCHOOL\n",
       "263                                 PACIFIC HIGH SCHOOL\n",
       "276       INTERNATIONAL HIGH SCHOOL AT PROSPECT HEIGHTS\n",
       "Name: SCHOOL NAME_x, dtype: object"
      ]
     },
     "execution_count": 32,
     "metadata": {},
     "output_type": "execute_result"
    }
   ],
   "source": [
    "# Sample of low Enrollment Schools\n",
    "low_enrol_bool = combined[\"total_enrollment\"] < 1300\n",
    "sat_score_bool = combined[\"sat_score\"] < 1000\n",
    "combined[low_enrol_bool & sat_score_bool][\"SCHOOL NAME_x\"].head(10)"
   ]
  },
  {
   "cell_type": "markdown",
   "metadata": {},
   "source": [
    "A quick google search shows the following information for some of the schools:\n",
    "\n",
    "* ![intl_high_school](Images/Intl_high_school.PNG)\n",
    "* ![intl_high_school_1](Images/Intl_high_school_1.PNG)\n",
    "![intl_high_school_2](Images/Intl_high_school_2.PNG)\n",
    "\n",
    "Our research reveals that most of the high schools with low total enrollment and low SAT scores have high percentgaes of English Language Learners. This indicates that it's actually `ell_percent` that correlates strongly with `sat_score`, rather than `total_enrollment`. Let's explore this further."
   ]
  },
  {
   "cell_type": "markdown",
   "metadata": {
    "collapsed": false
   },
   "source": [
    "## Impact of English Language Learners  on SAT Scores\n",
    "\n",
    "The percentage of English language learners at school (`ell_percent`) has a strong negative correlation (-0.357960) with SAT scores. Let's make a scatterplot for each to find interesting patterns."
   ]
  },
  {
   "cell_type": "code",
   "execution_count": 33,
   "metadata": {
    "collapsed": false
   },
   "outputs": [
    {
     "data": {
      "image/png": "[encoded data removed]",
      "text/plain": [
       "<matplotlib.figure.Figure at 0x7f9d89c69e10>"
      ]
     },
     "metadata": {},
     "output_type": "display_data"
    }
   ],
   "source": [
    "# Scatterplot\n",
    "fig = combined.plot.scatter(\"ell_percent\",\"sat_score\")\n",
    "\n",
    "# Plot Aesthetics\n",
    "sns.despine()\n",
    "fig.set_xlabel(\"English Language Learner Percentage\", fontsize=13)\n",
    "fig.set_ylabel(\"SAT Score\", fontsize=13)\n",
    "fig.set_xlim(xmin= -5)\n",
    "plt.show()"
   ]
  },
  {
   "cell_type": "markdown",
   "metadata": {
    "collapsed": true
   },
   "source": [
    "Here are some observations:\n",
    "\n",
    "* A strong negative correlation really exists\n",
    "\n",
    "* The lower left corner of our graph has a straight line close to 0, indicating a very low percentage of English Language Learners. The SAT scores are very high. One possible explanation for this could be elite schools.\n",
    "\n",
    "* There are two clusters within our plot, which could possibly explain schools particularly for Non-native English speakers and schools with support for Non-native English speakers.\n",
    "\n",
    "* The lower right corner of our graph represents schools with more than 70% of ELL students with very low SAT scores. One possible explanation for this could be schools for immigrants, who have an additional challenge of adapting to a new culture, apart from following the main curriculum and learning English.\n",
    "\n",
    "* One school stands out of the trend as an outlier, having around 40% of English learners and a relatively high SAT score. Let's find its name."
   ]
  },
  {
   "cell_type": "code",
   "execution_count": null,
   "metadata": {
    "collapsed": false
   },
   "outputs": [
    {
     "data": {
      "text/plain": [
       "55    High School for Dual Language and Asian Studies\n",
       "Name: school_name, dtype: object"
      ]
     },
     "execution_count": 34,
     "metadata": {},
     "output_type": "execute_result"
    }
   ],
   "source": [
    "# Outlier School\n",
    "combined[(combined['ell_percent'] > 35) & (combined['sat_score'] > 1400)]['school_name']"
   ]
  },
  {
   "cell_type": "markdown",
   "metadata": {},
   "source": [
    "This resulted to be a dual language English-Mandarin Chinese academically demanding school.\n",
    "\n",
    "* ![mandarin_phot](Images/mandarin.PNG)\n",
    "\n",
    "Lets aggregate by district, which will enable us to understand how `ell_percent` varies district-by-district instead of the unintelligibly granular school-by-school variation."
   ]
  },
  {
   "cell_type": "code",
   "execution_count": null,
   "metadata": {
    "collapsed": false
   },
   "outputs": [],
   "source": [
    "from mpl_toolkits.basemap import Basemap\n",
    "\n",
    "# Grouping the dataframe by district\n",
    "districts = combined.groupby('school_dist').mean()\n",
    "districts.reset_index(inplace=True)\n",
    "\n",
    "# Creating a map\n",
    "plt.figure(figsize=(15, 10))\n",
    "m = Basemap(\n",
    "    projection='merc', \n",
    "    llcrnrlat=40.496044, \n",
    "    urcrnrlat=40.915256, \n",
    "    llcrnrlon=-74.255735, \n",
    "    urcrnrlon=-73.700272,\n",
    "    resolution='h'\n",
    ")\n",
    "\n",
    "m.drawmapboundary(fill_color='#c1f2f8')\n",
    "m.drawcoastlines(color='#6D5F47', linewidth=0.4)\n",
    "m.drawrivers(color='#6D5F47', linewidth=0.4)\n",
    "m.fillcontinents(color='white')\n",
    "m.drawcounties(color='black',zorder=999)\n",
    "\n",
    "longitudes = districts[\"longitude\"].tolist()\n",
    "latitudes = districts[\"latitude\"].tolist()\n",
    "\n",
    "# Plotting Districts \n",
    "m.scatter(longitudes,\n",
    "          latitudes,\n",
    "          zorder=2,\n",
    "          latlon=True, \n",
    "          s=200,\n",
    "          c=districts[\"ell_percent\"],\n",
    "          cmap='RdYlGn')\n",
    "\n",
    "plt.colorbar()\n",
    "plt.title('% of English Language Learners and Avg. SAT Score by District', fontsize=16, fontweight='bold')\n",
    "plt.show()"
   ]
  },
  {
   "cell_type": "markdown",
   "metadata": {},
   "source": [
    "As the above map confirms, the schools with the highest percentage of non-native English-speakers are located in the Bronx borough and their average SAT scores tend to be lower than those of schools with less English Language Learning students."
   ]
  },
  {
   "cell_type": "markdown",
   "metadata": {},
   "source": [
    "## Impact of Income on SAT Scores\n",
    "\n",
    "We will look at how children of low-income families (estimated by Free or Reduced Lunch percentage - `frl_percent`) perform on the SAT. There is a strong negative correlation between `frl_percent` and SAT  scores, lets check to see if the scatterplot confirms this."
   ]
  },
  {
   "cell_type": "code",
   "execution_count": null,
   "metadata": {
    "collapsed": false
   },
   "outputs": [],
   "source": [
    "# Scatterplot\n",
    "fig = combined.plot.scatter(\"frl_percent\",\"sat_score\")\n",
    "\n",
    "# Plot Aesthetics\n",
    "sns.despine()\n",
    "fig.set_xlabel(\"Free or Reduced Lunch Percentage\", fontsize=13)\n",
    "fig.set_ylabel(\"SAT Score\", fontsize=13)\n",
    "fig.set_xlim(xmin= -5)\n",
    "plt.show()"
   ]
  },
  {
   "cell_type": "markdown",
   "metadata": {},
   "source": [
    "The correlation is confirmed - no school with more than 60% FRL eligibility have an average SAT score above 1400 approximately. Almost all schools with less than 40% FRL eligibility have an average score greater than 1200."
   ]
  },
  {
   "cell_type": "markdown",
   "metadata": {},
   "source": [
    "## Racial Differences and SAT Scores\n",
    " \n",
    "Racial inequality is one of the most pressing issues in the United States. The government has put in many efforts to close the oppurtunity gap between different race groups. Let's explore this further."
   ]
  },
  {
   "cell_type": "code",
   "execution_count": null,
   "metadata": {
    "collapsed": false
   },
   "outputs": [],
   "source": [
    "# Race column\n",
    "race_group = ['hispanic_per', 'black_per', 'asian_per', 'white_per']\n",
    "\n",
    "# Plot Aesthetics\n",
    "colors=[[255/255, 128/255, 14/255], [255/255, 128/255, 14/255], [95/255, 158/255, 209/255], [95/255, 158/255, 209/255]]\n",
    "\n",
    "\n",
    "# Bar Graph and Lines\n",
    "combined.corr()['sat_score'][race_group].plot.barh(figsize=(15, 7), color=colors,fontsize=23)\n",
    "plt.axvline(x = 0.25, color = [207/255, 207/255, 207/255], linestyle = 'dashed',linewidth = 0.5)\n",
    "plt.axvline(x = -0.25, color = [207/255, 207/255, 207/255], linestyle = 'dashed',linewidth = 0.5)\n",
    "plt.axvline(x = 0, color = 'black', linestyle = '-',linewidth = 1)\n",
    "\n",
    "# Plot Aesthetics\n",
    "plt.title('SAT Scores Vs. Race correlations', fontsize=35)\n",
    "plt.xlabel('Correlations Coefficient', size=23)\n",
    "plt.xlim(-0.4, 0.7)"
   ]
  },
  {
   "cell_type": "markdown",
   "metadata": {},
   "source": [
    "Observations:\n",
    "\n",
    "* White and Asian show strong positive correalations, with White slightly dominating.\n",
    "\n",
    "* Balck and Hispanic show strong negative correlations, with the Hispanic dominating slightly.\n",
    "\n",
    "Let's take a look at the scatterplots for each race."
   ]
  },
  {
   "cell_type": "code",
   "execution_count": null,
   "metadata": {
    "collapsed": false
   },
   "outputs": [],
   "source": [
    "# Figure\n",
    "fig = plt.figure(figsize=(15,15))\n",
    "\n",
    "# For loop for plotting\n",
    "for i in range(len(race_group)):\n",
    "    \n",
    "    # Plotting scatterplots\n",
    "    ax = fig.add_subplot(2,2,i+1)\n",
    "    ax = plt.scatter(combined[race_group[i]],combined[\"sat_score\"], color=[95/255, 158/255, 209/255])\n",
    "    ax = plt.xlim(xmin= -5)\n",
    "    \n",
    "    # Plot Aesthetics\n",
    "    race_title = race_group[i].replace('_per','').capitalize()\n",
    "    ax = plt.title('Share of {} Students Vs. SAT Scores'.format(race_title), fontsize=14, fontweight='bold')\n",
    "    ax = plt.xlabel('Share of {} Students'.format(race_title))\n",
    "    ax = plt.ylabel('SAT Score' if i == 0 or i == 2 else '') \n",
    "    sns.despine()"
   ]
  },
  {
   "cell_type": "markdown",
   "metadata": {
    "collapsed": false
   },
   "source": [
    "Observations:\n",
    "\n",
    "* Schools with a high share of Hispanic and Black students do consistently show lower SAT scores as indicated by the downward trend. \n",
    "\n",
    "* Schools with a high share of Asian and White students do consistently show higher SAT scores as indicated by the upward trend\n",
    "\n",
    "* We see more variability in SAT scores when the share of students is greater than 25% for Asian and White students compared to Hispanic and Black students.\n",
    "\n",
    "* An interesting observation is when the share of Hispanic students is more than 25% - we never see a maximum SAT score higher than 1500. As soon as the sharee decreases from 25%, the number of schools with high SAT scores drastically increases."
   ]
  },
  {
   "cell_type": "markdown",
   "metadata": {},
   "source": [
    "### Majority Hispanic Schools\n",
    "\n",
    "Let's take a closer look at schools with a majority (> 95%) of Hispanic students."
   ]
  },
  {
   "cell_type": "code",
   "execution_count": null,
   "metadata": {
    "collapsed": false
   },
   "outputs": [],
   "source": [
    "# Majority Hispanic Student Schools\n",
    "combined[combined['hispanic_per'] > 95][['school_name', 'sat_score']]"
   ]
  },
  {
   "cell_type": "markdown",
   "metadata": {},
   "source": [
    "A quick google search shows the following information for some schools:\n",
    "\n",
    "* ![pan_american_photo](Images/Pan_American_High_School.PNG)\n",
    "* ![gregorio_photo](Images/gregorio.PNG)\n",
    "* ![manhattan_phot](Images/manhattan_bridges.PNG)\n",
    "\n",
    "These schools are specialized to teach immigrants arriving from Spanish-speaking countries, who may not be well-prepared for high school. There may also be a possibility that these students weren't  recieving an adequate education from their native countries, making them weaker candidates in both English and Spanish. Within this context, it's not surprising that these school score lower on the SAT."
   ]
  },
  {
   "cell_type": "markdown",
   "metadata": {},
   "source": [
    "### Minority Hispanic Schools\n",
    "\n",
    "Now, lets take a closer look at students with a minority (< 10%) of Hispanic students and a SAT score greater than 1800."
   ]
  },
  {
   "cell_type": "code",
   "execution_count": null,
   "metadata": {
    "collapsed": false
   },
   "outputs": [],
   "source": [
    "# Minority Hispanic Student Schools\n",
    "combined[(combined['hispanic_per'] < 10) & (combined['sat_score'] > 1800)][['school_name', 'sat_score']]"
   ]
  },
  {
   "cell_type": "markdown",
   "metadata": {},
   "source": [
    "A quick google search shows the following information for some schools:\n",
    "\n",
    "* ![stuyvesant_photo](stuyvesant_high.PNG)\n",
    "* ![bronx_school](Bronx_school.PNG)\n",
    "\n",
    "These schools are some of the most famous and sought after schools in all of United States. With a greuling curriculum, admissing tests and accepting city residents. This explains why there are very few residents and why average SAT scores are really high."
   ]
  },
  {
   "cell_type": "markdown",
   "metadata": {},
   "source": [
    "### Racial Diversity\n",
    "\n",
    "It would be interesting to see how schools with more balanced racial composition perform.\n",
    "\n",
    "We'll be using the [Gini-Simpson index](https://en.wikipedia.org/wiki/Diversity_index#Simpson_index) to evaluate racial diversity in schools. If the index equals its minimum value (i.e., zero) there is very little diversity and members are grouped in the same category. In contrast, a higher index number indicates more diversity. Here's the formula:\n",
    "\n",
    "\n",
    "![gini_photo](Images/gini.PNG)\n",
    "\n",
    "* λ equals the probability that two entities taken at random from the data set of interest (with replacement) represent the same type\n",
    "* *p* represents the probability for the particular entity\n",
    "* *R* represnts the number of entitites"
   ]
  },
  {
   "cell_type": "code",
   "execution_count": null,
   "metadata": {
    "collapsed": false
   },
   "outputs": [],
   "source": [
    "# Gini-Simpson Calculation\n",
    "combined[\"gini-simpson\"] = 1 - (combined[race_group[0]]/100)**2 - (combined[race_group[1]]/100)**2 - (combined[race_group[2]]/100)**2 - (combined[race_group[3]]/100)**2\n",
    "\n",
    "# Plotting scatterplot for Gini-Simpson Vs. SAT Scores\n",
    "plt.scatter(combined[\"gini-simpson\"],combined[\"sat_score\"], color=[95/255, 158/255, 209/255])\n",
    "\n",
    "# Plot Aesthetics\n",
    "plt.title('Racial Diversity Score Vs. SAT Scores', fontsize=13, fontweight='bold')\n",
    "plt.xlabel('Gini-Simpson Index Score', fontsize=13)\n",
    "plt.axvline(x = 0.5, color = [207/255, 207/255, 207/255], linestyle = 'dashed',linewidth = 0.5)\n",
    "plt.axhline(y = 1500, color = [207/255, 207/255, 207/255], linestyle = 'dashed',linewidth = 0.5)\n",
    "plt.ylabel('SAT Score', fontsize=13)\n",
    "plt.xlim(-0.05)\n",
    "sns.despine()"
   ]
  },
  {
   "cell_type": "markdown",
   "metadata": {},
   "source": [
    "There seems to be a slight positive correlation between racial diversity and SAT score. Further observations include:\n",
    "\n",
    "1. There's a cluster of schools in the bottom left corner with almost zero diversity and extremely low SAT score results\n",
    "\n",
    "2. Only schools with a Gini-Simpson index greater than 0.5 have SAT scores greater than 1500 (with the exception of two outliers, scores of around 1800 and 2100)\n",
    "\n",
    "3. The school with the highest average SAT score surprisingly has a Gini-Simpson index close to 0.4\n",
    "\n",
    "4. The number of schools with balanced racial composition (Gini-Simpson index close to 0.7) is relatively small\n",
    "\n",
    "Let's take a deeper look at observation **(1)**"
   ]
  },
  {
   "cell_type": "code",
   "execution_count": null,
   "metadata": {
    "collapsed": false
   },
   "outputs": [],
   "source": [
    "# Low Racial Diversity Schools\n",
    "low_gini_schools = combined[combined[\"gini-simpson\"] < 0.05]\n",
    "low_gini_schools[['SCHOOL NAME_x','white_per','asian_per','black_per','hispanic_per','sat_score']]"
   ]
  },
  {
   "cell_type": "markdown",
   "metadata": {},
   "source": [
    "Most schools with a low Gini-Simpson index have a majority Hispanic population. We've already found that these schools are specialized to teach immigrants arriving from Spanish-speaking countries, who may not be well-prepared for high school.\n",
    "\n",
    "Let's look to see if there's any factors that correlate negatively with low Gini-Simpson index scoring schools."
   ]
  },
  {
   "cell_type": "code",
   "execution_count": null,
   "metadata": {
    "collapsed": false
   },
   "outputs": [],
   "source": [
    "low_gini_schools.corr()['sat_score'].sort_values().head(10)"
   ]
  },
  {
   "cell_type": "markdown",
   "metadata": {},
   "source": [
    "The first relevant factor with the strongest r-value is `ell_percent` - **English Language Learners percentage**. This makes sense as most Spanish speaking immigrant schools have students that are learning English, which puts them at a disadvantage when it SAT preparation.\n",
    "\n",
    "Now, let's take a look at schools with a higher Gini-Simpson index score, or in other words a balanced racial composition."
   ]
  },
  {
   "cell_type": "code",
   "execution_count": null,
   "metadata": {
    "collapsed": false
   },
   "outputs": [],
   "source": [
    "# High Racial Diversity Schools\n",
    "high_gini_schools = combined[combined[\"gini-simpson\"] > 0.7]\n",
    "high_gini_schools[['SCHOOL NAME_x','white_per','asian_per','black_per','hispanic_per','sat_score','gini-simpson']].sort_values(by=['gini-simpson'],ascending=False).head(5)"
   ]
  },
  {
   "cell_type": "markdown",
   "metadata": {},
   "source": [
    "Looking at the top 5 schools according to Gini-Simpson Index, we still see a lot of variability when it comes to SAT scores. This confirms that despite the existence of positive correlation between racial diversity and SAT scores, there are still other determinant factors when it comes to SAT scores.\n",
    "\n",
    "Let's take a look at what factors do high ranking Gini-Simpson schools correlate with."
   ]
  },
  {
   "cell_type": "code",
   "execution_count": null,
   "metadata": {
    "collapsed": false
   },
   "outputs": [],
   "source": [
    "high_gini_schools.corr()['gini-simpson'].sort_values(ascending=False)"
   ]
  },
  {
   "cell_type": "markdown",
   "metadata": {},
   "source": [
    "Safety and academic surveys (`saf_t_11`, `aca_t_11`) have a positive correlation with gini-simpson scores. The percentage of English language learners (`ell_percent`) and free-and-reduced-price lunch programs (`frl_percent`) have a negative correlation with gini-simpson scores. This does follow the general trend for schools in New York City overall."
   ]
  },
  {
   "cell_type": "markdown",
   "metadata": {},
   "source": [
    "## Gender Differences and SAT Scores"
   ]
  },
  {
   "cell_type": "code",
   "execution_count": null,
   "metadata": {
    "collapsed": false
   },
   "outputs": [],
   "source": [
    "# Ploting gender correlations bar graph\n",
    "combined.corr()['sat_score'][['male_per','female_per']].plot.barh(figsize=(15, 7), color=[[255/255, 128/255, 14/255],[95/255, 158/255, 209/255]],fontsize=23)\n",
    "plt.axvline(x = 0, color = 'black', linestyle = '-',linewidth = 1)\n",
    "\n",
    "# Plot Aesthetics\n",
    "plt.title('SAT Scores Vs. Gender Correlations', fontsize=35)\n",
    "plt.xlabel('Correlation Coefficients', size=23)\n",
    "plt.xlim(-0.12, 0.12)"
   ]
  },
  {
   "cell_type": "markdown",
   "metadata": {},
   "source": [
    "We see that women show a positive correlation whereas men show a negative correlation when it comes to SAT scores. To dig deeper, let's plot the female percentage values and SAT scores."
   ]
  },
  {
   "cell_type": "code",
   "execution_count": null,
   "metadata": {
    "collapsed": false
   },
   "outputs": [],
   "source": [
    "# Plotting scatterplot for Female Percentage vs. SAT Scores\n",
    "plt.scatter(combined[\"female_per\"],combined[\"sat_score\"], color=[95/255, 158/255, 209/255])\n",
    "plt.scatter(combined[combined[\"sat_score\"] > 2000][\"female_per\"],combined[combined[\"sat_score\"] > 2000][\"sat_score\"], color=\"red\") # highest scoring school\n",
    "plt.scatter(combined[combined[\"female_per\"] < 4][\"female_per\"],combined[combined[\"female_per\"] < 4][\"sat_score\"],color=\"orange\") # Almost no female schools\n",
    "plt.scatter(combined[combined[\"female_per\"] > 95][\"female_per\"],combined[combined[\"female_per\"] > 95][\"sat_score\"],color=\"darkblue\") # Almost no female schools\n",
    "\n",
    "# Plot Aesthetics\n",
    "plt.title('Female Percentage Vs. SAT Scores', fontsize=13, fontweight='bold')\n",
    "plt.ylabel('SAT Score', fontsize=13)\n",
    "plt.xlabel('Female Percentage', fontsize=13)\n",
    "plt.axvline(50, linestyle='--',color = [207/255, 207/255, 207/255])\n",
    "plt.xlim(-2,105)\n",
    "sns.despine()"
   ]
  },
  {
   "cell_type": "markdown",
   "metadata": {},
   "source": [
    "Naturally, the percentage of males would be mirrored with respect to the 50% separation line.\n",
    "\n",
    "Here are a few other notable observations:\n",
    "\n",
    "1. The majority of schools have a somewhat balanced composition of both genders, with each gender ranging from 40 to 60%.\n",
    "\n",
    "2. Surprisingly, the highest scoring school (red dot) has a minority of female students (approximately 40%). \n",
    "\n",
    "3. There are approximately 6 schools (dark blue dots) with almost only female students and around 3 schools (orange dots) with almost only male students.\n",
    "\n",
    "4. Another group of high SAT scores, the bigger and more spread-out one, is located immediately to the right of the separation line, with the amount of female students ranging from 50 to 80%. This seems to be potentially contributing to the positive correaltion."
   ]
  },
  {
   "cell_type": "markdown",
   "metadata": {},
   "source": [
    "### Female Minority & Majority Schools\n",
    "\n",
    "Let's take a closer look at observation **(3)**"
   ]
  },
  {
   "cell_type": "code",
   "execution_count": null,
   "metadata": {
    "collapsed": false
   },
   "outputs": [],
   "source": [
    "# Extreme Female Minority Schools\n",
    "combined[combined[\"female_per\"] < 4][['SCHOOL NAME_x','sat_score','female_per','male_per']]"
   ]
  },
  {
   "cell_type": "markdown",
   "metadata": {},
   "source": [
    "A quick google search shows the following results:\n",
    "    \n",
    "* ![urban_phot](Images/urban_academy.PNG)\n",
    "* ![eagle_phot](Images/eagle_academy.PNG)\n",
    "    \n",
    "These schools seemed to be made especially for men in need order to accomodate specific needs (extra academic support, color inclusivity etc.)"
   ]
  },
  {
   "cell_type": "code",
   "execution_count": null,
   "metadata": {
    "collapsed": false
   },
   "outputs": [],
   "source": [
    "# Extreme Female Majority Schools\n",
    "combined[combined[\"female_per\"] > 95][['SCHOOL NAME_x','sat_score','female_per','male_per']].head(5)"
   ]
  },
  {
   "cell_type": "markdown",
   "metadata": {},
   "source": [
    "A quick google search shows the following results:\n",
    "    \n",
    "* ![urban_assembly](Images/urban_assembly.PNG)\n",
    "* ![urban_criminal](Images/urban_criminal.PNG)\n",
    "    \n",
    "These schools seemed to be made especially for women in need order to accomodate specific needs but fall short due to specific reasons such as poor attendance, bullying, conservative background etc."
   ]
  },
  {
   "cell_type": "markdown",
   "metadata": {},
   "source": [
    "### High Performing Majority Female Schools\n",
    "\n",
    "Lets take a closer look at observation **(4)**"
   ]
  },
  {
   "cell_type": "code",
   "execution_count": null,
   "metadata": {
    "collapsed": false
   },
   "outputs": [],
   "source": [
    "# High Performing Majority Female Schools\n",
    "combined[combined[\"female_per\"] > 60][combined[\"sat_score\"] > 1700][['SCHOOL NAME_x','sat_score','female_per','male_per']].head(5)"
   ]
  },
  {
   "cell_type": "markdown",
   "metadata": {},
   "source": [
    "A quick google search shows the following results:\n",
    "    \n",
    "* ![ELRO_school](Images/ELRO.PNG)\n",
    "* ![townsend_school](Images/Townsend.PNG)\n",
    "    \n",
    "These schools have high educational standards, college-level classes and a record of sending students to college.\n",
    "\n",
    "In conclusion, gender is not a strong determinant to a school's average SAT score, there was a weak correlation with SAT score for both genders to begin with."
   ]
  },
  {
   "cell_type": "markdown",
   "metadata": {},
   "source": [
    "## AP Exams and SAT Scores\n",
    "\n",
    "[Advanced Placement (AP)](https://en.wikipedia.org/wiki/Advanced_Placement) is a program in the United States and Canada created by [College Board](https://www.collegeboard.org/) which offers college-level curricula and examinations to high school students.\n",
    "\n",
    "Before we explore how challenging coursework impacts SAT scores. We will calculate the share of students (variable) that took AP exams to minimize the influence of `total_enrollment` which also correlates positively with SAT scores."
   ]
  },
  {
   "cell_type": "code",
   "execution_count": null,
   "metadata": {
    "collapsed": false
   },
   "outputs": [],
   "source": [
    "# Creating variable ap_share\n",
    "combined['ap_share'] = combined['AP Test Takers '] / combined['total_enrollment']\n",
    "\n",
    "# Plotting scatterplot for Share of AP test takers Vs. SAT Scores\n",
    "plt.scatter(combined[\"ap_share\"],combined[\"sat_score\"], color=[95/255, 158/255, 209/255])\n",
    "\n",
    "# Plot Aesthetics\n",
    "plt.title('Share of AP Test Takers Vs. SAT Scores', fontsize=13, fontweight='bold')\n",
    "plt.ylabel('SAT Score', fontsize=13)\n",
    "plt.xlabel('Share of AP Test Takers', fontsize=13)\n",
    "plt.axhline(1500, linestyle='--',color = [207/255, 207/255, 207/255])\n",
    "plt.xlim(-.05,1.01)\n",
    "sns.despine()"
   ]
  },
  {
   "cell_type": "markdown",
   "metadata": {},
   "source": [
    "There are 2 main observations:\n",
    "\n",
    "* We can see a positive correlation for a number of schools and increasing SAT scores. These schools can be seen above the dashed line. These schools seem to be somewhat selective, so due to better academic aptitudes their students might benefit more from the AP courses than other students.\n",
    "\n",
    "* The other group of schools show average SAT scores and very high shares of AP-test takers. Since almost all these schools have SAT score that are equal to the average of the data set, it may be the case that they are missing or imputed. \n",
    "\n",
    "Let's explore our second observation further by looking at the missing values and value counts."
   ]
  },
  {
   "cell_type": "code",
   "execution_count": null,
   "metadata": {
    "collapsed": false
   },
   "outputs": [],
   "source": [
    "# Null Value Percentage\n",
    "combined_original[['AP Test Takers ', 'Number of Exams with scores 3 4 or 5', 'Total Exams Taken']].isnull().sum()/combined.shape[0]"
   ]
  },
  {
   "cell_type": "markdown",
   "metadata": {},
   "source": [
    "Since there are many missing values, let's take a look at the scatterplot without imputation."
   ]
  },
  {
   "cell_type": "code",
   "execution_count": null,
   "metadata": {
    "collapsed": false
   },
   "outputs": [],
   "source": [
    "# creating variable ap_share\n",
    "combined_original['ap_share'] = combined_original['AP Test Takers '] / combined_original['total_enrollment']\n",
    "\n",
    "# Plotting scatterplot for Share of AP test takers Vs. SAT Scores\n",
    "plt.scatter(combined_original[\"ap_share\"],combined_original[\"sat_score\"], color=[95/255, 158/255, 209/255])\n",
    "\n",
    "# Plot Aesthetics\n",
    "plt.title('Share of AP Test Takers Vs. SAT Scores - No Imputation', fontsize=13, fontweight='bold')\n",
    "plt.ylabel('SAT Score', fontsize=13)\n",
    "plt.xlabel('Share of AP Test Takers', fontsize=13)\n",
    "plt.xlim(-.005,0.6)\n",
    "sns.despine()"
   ]
  },
  {
   "cell_type": "markdown",
   "metadata": {},
   "source": [
    "After removing imputations, we can confirm that there is a strong positive correlation between AP-test takers and SAT scores. The second cluster we saw in our original scatterplot was a consequence of imputation, which evidently, was not a good approach."
   ]
  },
  {
   "cell_type": "markdown",
   "metadata": {},
   "source": [
    "## SAT Scores by Borough and District"
   ]
  },
  {
   "cell_type": "code",
   "execution_count": null,
   "metadata": {
    "collapsed": false
   },
   "outputs": [],
   "source": [
    "# Score by Borough\n",
    "sat_by_borough = combined.groupby('boro').agg(np.mean)['sat_score'].sort_values(ascending=False)\n",
    "print(sat_by_borough)\n",
    "\n",
    "\n",
    "# Creating a District Map\n",
    "plt.figure(figsize=(15, 10))\n",
    "m = Basemap(\n",
    "    projection='merc', \n",
    "    llcrnrlat=40.496044, \n",
    "    urcrnrlat=40.915256, \n",
    "    llcrnrlon=-74.255735, \n",
    "    urcrnrlon=-73.700272,\n",
    "    resolution='h'\n",
    ")\n",
    "m.drawmapboundary(fill_color='#c1f2f8')\n",
    "m.drawcoastlines(color='#6D5F47', linewidth=0.4)\n",
    "m.drawrivers(color='#6D5F47', linewidth=0.4)\n",
    "m.fillcontinents(color='white')\n",
    "m.drawcounties(color='black',zorder=999)\n",
    "\n",
    "# Plotting districts\n",
    "m.scatter(\n",
    "    longitudes, \n",
    "    latitudes, \n",
    "    s=200, \n",
    "    zorder=2, \n",
    "    latlon=True, \n",
    "    c=districts['sat_score'],\n",
    "    cmap='rainbow'               # A rainbow template, with red - the highest SAT score, \n",
    ")                                # violet - the lowest\n",
    "\n",
    "plt.colorbar()\n",
    "plt.title('Average SAT Scores by District', fontsize=23)\n",
    "plt.show()"
   ]
  },
  {
   "cell_type": "markdown",
   "metadata": {},
   "source": [
    "\n",
    "If to look only at the statistics by borough, it looks like the highest SAT scores are related to Staten Island. However, the map shows that this borough is actually represented by only one district, hence it's definitely under-sampled. In Brooklyn and Bronx there are many districts characterized by very low SAT scores. On the other hand, in Brooklyn there is a district with the highest SAT score, and it's the same district that had also the highest safety and respect score on the previous map."
   ]
  },
  {
   "cell_type": "markdown",
   "metadata": {},
   "source": [
    "## Impact of Survey Responses on SAT Scores"
   ]
  },
  {
   "cell_type": "code",
   "execution_count": null,
   "metadata": {
    "collapsed": false
   },
   "outputs": [],
   "source": [
    "# Removing DBN\n",
    "survey_fields = survey_fields[1:]\n",
    "\n",
    "# Survey field correlations\n",
    "survey_fields_corr = correlations[survey_fields].sort_values()\n",
    "colors=[\"darkblue\" if (x > 0.25) else ([95/255, 158/255, 209/255] if (x > 0) else [255/255, 128/255, 14/255]) for x in survey_fields_corr]\n",
    "\n",
    "# Bar graph\n",
    "survey_fields_corr.plot.barh(figsize=(15, 7), color=colors,fontsize=13)\n",
    "plt.axvline(x = 0.25, color = [207/255, 207/255, 207/255], linestyle = 'dashed',linewidth = 0.5)\n",
    "plt.axvline(x = 0, color = 'black', linestyle = '-',linewidth = 1)\n",
    "\n",
    "# Plot Aesthetics\n",
    "plt.xlim(-0.12, 0.45)\n",
    "plt.title('Correlation of Survey Responses and SAT scores', fontsize=16, fontweight='bold')\n",
    "plt.ylabel('Survey Fields', fontsize=13)\n",
    "plt.xlabel('Correlation', fontsize=13)\n",
    "sns.despine()"
   ]
  },
  {
   "cell_type": "markdown",
   "metadata": {},
   "source": [
    "We can observe three sets of groups from the plot above:\n",
    "\n",
    "1. Strongly correlated responses (dark blue)\n",
    "    * Number of parents, students and teachers (`N_p`,`N_s`,`N_t`) are stronlgy correlated with SAT scores.\n",
    "    * Teacher, Total and Student (`saf_t_11`.`saf_tot_11`.`saf_s_11`) safety surveys are strongly correlated with SAT scores.\n",
    "    * Student academic expectations (`aca_s_11`) correlate strongly compared to teacher and parent expectations.\n",
    "    \n",
    "2. Positively correlated responses (light blue)\n",
    "    * Academic and Safety (`aca_p_11`,`saf_p_11`) surveys from parents are weak positive correlation with SAT scores.\n",
    "    * Communication Surveys for student, teachers and total (`com_s_11`,`com_t_11`,`com_tot_11`) are weak positive correlation with SAT scores.\n",
    "    *  Engagement Surveys (`eng_tot_11`,`eng_t_11`,`eng_s_11`,`eng_p_11`) for all are weak positive correlation with SAT scores.\n",
    "    * Teacher and Student response rates (`rr_t`,`rr_p`) show weak positive correlation with SAT Scores.\n",
    "  \n",
    "3. Negatively correlated responses (orange)\n",
    "    * Communication surveys for parents show negative correlation with SAT scores."
   ]
  },
  {
   "cell_type": "markdown",
   "metadata": {},
   "source": [
    "### Safety Survey and SAT Scores\n",
    "\n",
    "Let's take a closer look at the correlation between safety and SAT scores."
   ]
  },
  {
   "cell_type": "code",
   "execution_count": null,
   "metadata": {
    "collapsed": false
   },
   "outputs": [],
   "source": [
    "### Plotting scatterplot for Student Safety Surveys Vs. SAT Scores\n",
    "plt.scatter(combined[\"saf_s_11\"],combined[\"sat_score\"], color=[95/255, 158/255, 209/255])\n",
    "\n",
    "# Plot Aesthetics\n",
    "plt.title('Student Safety Surveys Vs. SAT Scores', fontsize=13, fontweight='bold')\n",
    "plt.ylabel('SAT Score', fontsize=13)\n",
    "plt.xlabel('Safety Survey Score', fontsize=13)\n",
    "plt.xlim(4.8,9)\n",
    "sns.despine()\n",
    "plt.show()\n",
    "\n",
    "### Plotting scatterplot for Teacher Safety Surveys Vs. SAT Scores\n",
    "plt.scatter(combined[\"saf_t_11\"],combined[\"sat_score\"], color=[95/255, 158/255, 209/255])\n",
    "\n",
    "# Plot Aesthetics\n",
    "plt.title('Teacher Safety Surveys Vs. SAT Scores', fontsize=13, fontweight='bold')\n",
    "plt.ylabel('SAT Score', fontsize=13)\n",
    "plt.xlabel('Safety Survey Score', fontsize=13)\n",
    "plt.xlim(4.8,9)\n",
    "sns.despine()\n",
    "plt.show()\n",
    "\n",
    "### Plotting scatterplot for Safety Surveys Vs. SAT Scores\n",
    "plt.scatter(combined[\"saf_tot_11\"],combined[\"sat_score\"], color=[95/255, 158/255, 209/255])\n",
    "\n",
    "# Plot Aesthetics\n",
    "plt.title('Total Safety Surveys Vs. SAT Scores', fontsize=13, fontweight='bold')\n",
    "plt.ylabel('SAT Score', fontsize=13)\n",
    "plt.xlabel('Safety Survey Score', fontsize=13)\n",
    "plt.xlim(4.8,9)\n",
    "sns.despine()\n",
    "plt.show()"
   ]
  },
  {
   "cell_type": "markdown",
   "metadata": {},
   "source": [
    "Here are some observations:\n",
    "\n",
    "* All three scatterplots confirm a positive correlation between safety and SAT scores.\n",
    "\n",
    "* We can see a pattern of schools with high SAT scores simultaneously having high Safety scores (starting from 6.5 for students and 7 for teachers and total).\n",
    "\n",
    "* Despite the positive correlation, there are still quite a few schools with relatively high Safety score but poor SAT score.\n",
    "\n",
    "* For all three scatterplots, the highest scoring SAT schools don't score the highest Safety score (9) \n",
    "\n",
    "\n",
    "We can conclude that although a safe environment is important but it's not the only unique factor for high SAT scores."
   ]
  },
  {
   "cell_type": "markdown",
   "metadata": {},
   "source": [
    "### Safety Score by Borough\n",
    "\n",
    "Let's see the aggregate data by districts and borough."
   ]
  },
  {
   "cell_type": "code",
   "execution_count": null,
   "metadata": {
    "collapsed": false
   },
   "outputs": [],
   "source": [
    "# Average Safety score for each borough\n",
    "\n",
    "# Safety scores for students, teacher and total\n",
    "student_data = combined.groupby('boro').agg(np.mean)['saf_s_11'].sort_values(ascending=False)\n",
    "teacher_data = combined.groupby('boro').agg(np.mean)['saf_t_11'].sort_values(ascending=False)\n",
    "total_data = combined.groupby('boro').agg(np.mean)['saf_tot_11'].sort_values(ascending=False)\n",
    "\n",
    "# Creating dataframe\n",
    "boro_safety = pd.DataFrame()\n",
    "boro_safety['Student'] = student_data\n",
    "boro_safety['Teacher'] = teacher_data\n",
    "boro_safety['Total'] = total_data\n",
    "boro_safety = boro_safety.drop(index=0)\n",
    "\n",
    "# Displaying results\n",
    "boro_safety"
   ]
  },
  {
   "cell_type": "markdown",
   "metadata": {},
   "source": [
    "In general, we can conclude that students, teacher and total survey respondents rank Manhattan & Queens with the highest safety scores and Staten Island & Brooklyn with the lowest safety scores."
   ]
  },
  {
   "cell_type": "markdown",
   "metadata": {},
   "source": [
    "### Safety Score by District\n",
    "\n",
    "Let's map the score by districts now, we'll use the `saf_tot_11` as as the overall representative column. "
   ]
  },
  {
   "cell_type": "code",
   "execution_count": null,
   "metadata": {
    "collapsed": false,
    "scrolled": false
   },
   "outputs": [],
   "source": [
    "from mpl_toolkits.basemap import Basemap\n",
    "\n",
    "# Grouping the dataframe by district\n",
    "districts = combined.groupby('school_dist').mean()\n",
    "districts.reset_index(inplace=True)\n",
    "\n",
    "# Creating a map\n",
    "plt.figure(figsize=(15, 10))\n",
    "m = Basemap(\n",
    "    projection='merc', \n",
    "    llcrnrlat=40.496044, \n",
    "    urcrnrlat=40.915256, \n",
    "    llcrnrlon=-74.255735, \n",
    "    urcrnrlon=-73.700272,\n",
    "    resolution='h'\n",
    ")\n",
    "m.drawmapboundary(fill_color='#c1f2f8')\n",
    "m.drawcoastlines(color='#6D5F47', linewidth=0.4)\n",
    "m.drawrivers(color='#6D5F47', linewidth=0.4)\n",
    "m.fillcontinents(color='white')\n",
    "m.drawcounties(color='black',zorder=999)\n",
    "\n",
    "longitudes = districts['longitude'].tolist()\n",
    "latitudes = districts['latitude'].tolist()\n",
    "\n",
    "# Plotting districts\n",
    "m.scatter(\n",
    "    longitudes, \n",
    "    latitudes, \n",
    "    s=200, \n",
    "    zorder=2, \n",
    "    latlon=True, \n",
    "    c=districts['saf_tot_11'],\n",
    "    cmap='RdYlGn'               # A traffic-light template, with green - the safest, \n",
    ")                               # red - the least safe\n",
    "\n",
    "plt.colorbar()\n",
    "plt.title('Average Safety Scores by District', fontsize=23)\n",
    "plt.show()"
   ]
  },
  {
   "cell_type": "markdown",
   "metadata": {},
   "source": [
    "It seems that our previous conclusion was actually biased: there is only one district with very low safety score located in Brooklyn (we also see the district with the highest score) and this value definitely influences the entire average score, making it heavily negatively skewed."
   ]
  },
  {
   "cell_type": "markdown",
   "metadata": {},
   "source": [
    "### Difference between Survey Responses for Parents, Teachers & Students\n",
    "\n",
    "Let's see if survey responses for the three groups (parent, teacher & students) have substantial variability in their scores. We are looking for differences at the group level. We have 4 types of surveys:\n",
    "\n",
    "* Safety \n",
    "* Communication\n",
    "* Engagement\n",
    "* Academic Expectations"
   ]
  },
  {
   "cell_type": "code",
   "execution_count": null,
   "metadata": {
    "collapsed": false
   },
   "outputs": [],
   "source": [
    "# List of comparison fields\n",
    "survey_comp_fields = [\n",
    "    ['saf_p_11', 'saf_t_11', 'saf_s_11'],\n",
    "    ['com_p_11', 'com_t_11', 'com_s_11'],\n",
    "    ['eng_p_11', 'eng_t_11', 'eng_s_11'],\n",
    "    ['aca_p_11', 'aca_t_11', 'aca_s_11']\n",
    "]\n",
    "\n",
    "# plot titles\n",
    "survey_plot_titles = [\n",
    "    'Safety Score Comparison',\n",
    "    'Communication Score Comparison',\n",
    "    'Engagement Score Comparison',\n",
    "    'Academic Expectation Score Comparison'\n",
    "]\n",
    "\n",
    "# Figure size\n",
    "fig = plt.figure(figsize=(15,15))\n",
    "\n",
    "# Plots\n",
    "for i in range(len(survey_comp_fields)):\n",
    "    ax = fig.add_subplot(2,2,i+1)\n",
    "    ax = plt.boxplot(combined[survey_comp_fields[i]].values,labels=['Parents', 'Teachers', 'Students'])\n",
    "    ax = plt.title(survey_plot_titles[i], fontsize=20)\n",
    "    ax = plt.tick_params(labelsize=15)\n",
    "    ax = plt.ylim(2, 10)\n",
    "    if i == 0 or i == 2:\n",
    "        ax = plt.ylabel('Score',size=15)"
   ]
  },
  {
   "cell_type": "markdown",
   "metadata": {},
   "source": [
    "Here are some observations:\n",
    "\n",
    "* Parents tend to give higher scores compared to Teachers and Students\n",
    "* Most variability in scores comes from Teachers\n",
    "* Students usually tend to give the lowest scores\n",
    "* The bigggest difference between median scores is observed in Communication (Parents Vs. Students)"
   ]
  },
  {
   "cell_type": "markdown",
   "metadata": {},
   "source": [
    "# Conclusion\n",
    "\n",
    "In this project we cleaned, combined and analyzed multiple data sets containing information about SAT scores and demographic factors for New York City high schools. In particular, we delved into understanding the relationship between individual demographic factors and SAT scores to detect possible biases in the SAT. In addition, we also looked at surevy data to understand how parents teachers and students view certain factors and their effects on SAT scores. Our main findings from this project include:\n",
    "\n",
    "* Positive correlations with SAT scores: Total enrollment, Female percentage, White and Asian race percentage, AP-test takers percentage, Class size and Survey safety scores.\n",
    "\n",
    "* Negative correlations with SAT scores: English Language Learners percentage, Male percentage, Black and Hispanic percentages, Free and Reduced Lunch percentages (indicator of family income).\n",
    "\n",
    "* Biases in borough level statistics exposed through district level maps.\n",
    "\n",
    "* Parents giving the highest SAT scores followed by teachers and then students."
   ]
  }
 ],
 "metadata": {
  "kernelspec": {
   "display_name": "Python 3",
   "language": "python",
   "name": "python3"
  },
  "language_info": {
   "codemirror_mode": {
    "name": "ipython",
    "version": 3
   },
   "file_extension": ".py",
   "mimetype": "text/x-python",
   "name": "python",
   "nbconvert_exporter": "python",
   "pygments_lexer": "ipython3",
   "version": "3.4.3"
  }
 },
 "nbformat": 4,
 "nbformat_minor": 4
}
